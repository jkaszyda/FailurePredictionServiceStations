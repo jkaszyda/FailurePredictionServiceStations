{
 "cells": [
  {
   "cell_type": "code",
   "execution_count": 3,
   "id": "acb6c9dd",
   "metadata": {},
   "outputs": [
    {
     "name": "stdout",
     "output_type": "stream",
     "text": [
      "done\n"
     ]
    }
   ],
   "source": [
    "import pandas as pd\n",
    "import csv\n",
    "import numpy as np\n",
    "\n",
    "\n",
    "df = pd.read_excel(\"data.xlsx\")\n",
    "df.head()\n",
    "\n",
    "arrayTS = []\n",
    "arrayTSItem = []\n",
    "arrayLabels = []\n",
    "arrayOutdatedCriticalAlerts = []\n",
    "\n",
    "array_too_long = []\n",
    "array_labels_too_long = []\n",
    "    \n",
    "for index, row in df.iterrows():\n",
    "    if (row[\"GRAVITE\"] == \"CRITIQUE\"):\n",
    "        if not arrayTSItem:\n",
    "            arrayOutdatedCriticalAlerts.append(int(row[\"ID_DYSFONCTIONNEMENT\"]))\n",
    "        else:\n",
    "            if len(arrayTSItem) > 300:\n",
    "                array_too_long.append(arrayTSItem)\n",
    "                array_labels_too_long.append(int(row[\"ID_DYSFONCTIONNEMENT\"]))\n",
    "                arrayTSItem = []\n",
    "            else:\n",
    "                arrayLabels.append(int(row[\"ID_DYSFONCTIONNEMENT\"]))\n",
    "                arrayLabels.append(arrayTSItem)\n",
    "                arrayTSItem = []\n",
    "    else:\n",
    "        arrayTSItem.append(int(row[\"ID_DYSFONCTIONNEMENT\"]))\n",
    "\n",
    "for item in arrayTS:\n",
    "    for i in range(len(item),300):\n",
    "        item.append(0)\n",
    "\n",
    "with open(\"ts_complete.csv\", \"w\", newline='') as f:\n",
    "               writer = csv.writer(f, delimiter=',', dialect='excel')\n",
    "               writer.writerows(arrayTS)\n",
    "            \n",
    "with open(\"labels_complete.csv\", \"w\") as f:\n",
    "                writer = csv.writer(f, delimiter='\\n', dialect='excel')\n",
    "                writer.writerow(arrayLabels)\n",
    "            \n",
    "with open(\"outdated.csv\", \"w\") as f:\n",
    "                writer = csv.writer(f, delimiter='\\n', dialect='excel')\n",
    "                writer.writerow(arrayOutdatedCriticalAlerts)\n",
    "\n",
    "with open(\"long_ts.csv\", \"w\") as f:\n",
    "                writer = csv.writer(f, delimiter='\\n', dialect='excel')\n",
    "                writer.writerow(array_too_long)\n",
    "\n",
    "with open(\"long_labels.csv\", \"w\") as f:\n",
    "                writer = csv.writer(f, delimiter='\\n', dialect='excel')\n",
    "                writer.writerow(array_labels_too_long)\n",
    "print(\"done\")"
   ]
  },
  {
   "cell_type": "code",
   "execution_count": 4,
   "id": "c83ba58c",
   "metadata": {},
   "outputs": [
    {
     "name": "stdout",
     "output_type": "stream",
     "text": [
      "300\n"
     ]
    }
   ],
   "source": [
    "print(max(len(elem) for elem in arrayTS))"
   ]
  }
 ],
 "metadata": {
  "kernelspec": {
   "display_name": "Python 3 (ipykernel)",
   "language": "python",
   "name": "python3"
  },
  "language_info": {
   "codemirror_mode": {
    "name": "ipython",
    "version": 3
   },
   "file_extension": ".py",
   "mimetype": "text/x-python",
   "name": "python",
   "nbconvert_exporter": "python",
   "pygments_lexer": "ipython3",
   "version": "3.9.16"
  }
 },
 "nbformat": 4,
 "nbformat_minor": 5
}
