{
 "cells": [
  {
   "cell_type": "code",
   "execution_count": 5,
   "id": "1f2a2942",
   "metadata": {},
   "outputs": [
    {
     "name": "stdout",
     "output_type": "stream",
     "text": [
      "Reading data...\n",
      "Preparing data...\n",
      "Preparation finished.\n",
      "Performing train test split...\n",
      "Start fitting...\n"
     ]
    },
    {
     "name": "stderr",
     "output_type": "stream",
     "text": [
      "C:\\Users\\jkaszyda\\.conda\\envs\\tslearn\\lib\\site-packages\\sklearn\\model_selection\\_split.py:700: UserWarning: The least populated class in y has only 1 members, which is less than n_splits=3.\n",
      "  warnings.warn(\n"
     ]
    },
    {
     "name": "stdout",
     "output_type": "stream",
     "text": [
      "1.0470211505889893\n",
      "[55 55 55 55 55]\n"
     ]
    }
   ],
   "source": [
    "import pandas as pd\n",
    "from tslearn.utils import to_time_series_dataset\n",
    "from tslearn.neighbors import KNeighborsTimeSeriesClassifier\n",
    "from sklearn.model_selection import train_test_split\n",
    "from joblib import dump\n",
    "import time\n",
    "from sklearn.model_selection import cross_val_predict\n",
    "\n",
    "print(\"Reading data...\")\n",
    "df = pd.read_excel(\"data.xlsx\")\n",
    "\n",
    "arrayTS = []\n",
    "arrayTSItem = []\n",
    "arrayLabels = []\n",
    "arrayOutdatedCriticalAlerts = []\n",
    "array_too_long = []\n",
    "array_labels_too_long = []\n",
    "\n",
    "print(\"Preparing data...\")\n",
    "for index, row in df.iterrows():\n",
    "    if (row[\"GRAVITE\"] == \"CRITIQUE\"):\n",
    "        if not arrayTSItem:\n",
    "            arrayOutdatedCriticalAlerts.append(int(row[\"ID_DYSFONCTIONNEMENT\"]))\n",
    "        else:\n",
    "            if len(arrayTSItem) > 300:\n",
    "                array_too_long.append(arrayTSItem)\n",
    "                array_labels_too_long.append(int(row[\"ID_DYSFONCTIONNEMENT\"]))\n",
    "                arrayTSItem = []\n",
    "            else:\n",
    "                arrayLabels.append(int(row[\"ID_DYSFONCTIONNEMENT\"]))\n",
    "                arrayTS.append(arrayTSItem)\n",
    "                arrayTSItem = []\n",
    "    else:\n",
    "        arrayTSItem.append(int(row[\"ID_DYSFONCTIONNEMENT\"]))\n",
    "print(\"Preparation finished.\")\n",
    "\n",
    "print(\"Performing train test split...\")\n",
    "X = to_time_series_dataset(arrayTS)\n",
    "y = arrayLabels\n",
    "\n",
    "#X_train, X_test, y_train, y_test = train_test_split(X, y, test_size=0.20, random_state=42)\n",
    "#print(\"Train test split finished.\")\n",
    "\n",
    "print(\"Start fitting...\")\n",
    "start = time.time()\n",
    "knn = KNeighborsTimeSeriesClassifier(n_neighbors=3, metric=\"dtw\", n_jobs=-1)\n",
    "y_pred = cross_val_predict(knn, X_short, y_short, cv=3, n_jobs=-1)\n",
    "end = time.time()\n",
    "print(end - start)\n",
    "\n",
    "print(y_pred)"
   ]
  },
  {
   "cell_type": "code",
   "execution_count": 7,
   "id": "c5d20118",
   "metadata": {},
   "outputs": [
    {
     "name": "stdout",
     "output_type": "stream",
     "text": [
      "2013\n"
     ]
    }
   ],
   "source": [
    "print(len(y))"
   ]
  }
 ],
 "metadata": {
  "kernelspec": {
   "display_name": "Python 3 (ipykernel)",
   "language": "python",
   "name": "python3"
  },
  "language_info": {
   "codemirror_mode": {
    "name": "ipython",
    "version": 3
   },
   "file_extension": ".py",
   "mimetype": "text/x-python",
   "name": "python",
   "nbconvert_exporter": "python",
   "pygments_lexer": "ipython3",
   "version": "3.10.10"
  }
 },
 "nbformat": 4,
 "nbformat_minor": 5
}
