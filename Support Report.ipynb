{
 "cells": [
  {
   "cell_type": "code",
   "execution_count": 1,
   "id": "247546be",
   "metadata": {},
   "outputs": [
    {
     "name": "stdout",
     "output_type": "stream",
     "text": [
      "Reading data...\n",
      "Treating data...\n",
      "{1001: 1041, 15: 726, 1000: 1087, 16: 335, 21: 138, 33: 1234, 56: 1053, 95: 376, 7: 1321, 68: 922, 39: 27, 34: 7}\n"
     ]
    }
   ],
   "source": [
    "import pandas as pd\n",
    "\n",
    "print(\"Reading data...\")\n",
    "df = pd.read_excel(\"data.xlsx\")\n",
    "support_dictionary = {}\n",
    "\n",
    "print(\"Treating data...\")\n",
    "for index, row in df.iterrows():\n",
    "    if (row[\"GRAVITE\"] == \"CRITIQUE\"):\n",
    "        alert_id = int(row[\"ID_DYSFONCTIONNEMENT\"])\n",
    "        if alert_id in support_dictionary:\n",
    "            support_dictionary[alert_id] = support_dictionary[alert_id] + 1\n",
    "        else:\n",
    "            support_dictionary[alert_id] = 1\n",
    "\n",
    "print(support_dictionary)"
   ]
  },
  {
   "cell_type": "code",
   "execution_count": 3,
   "id": "83a2cdbe",
   "metadata": {},
   "outputs": [
    {
     "name": "stdout",
     "output_type": "stream",
     "text": [
      "27\n"
     ]
    }
   ],
   "source": [
    "print(len(support_dictionary))"
   ]
  },
  {
   "cell_type": "code",
   "execution_count": 8,
   "id": "2aa347e8",
   "metadata": {},
   "outputs": [
    {
     "name": "stdout",
     "output_type": "stream",
     "text": [
      "Reading data...\n",
      "Treating data...\n",
      "{1001: 1041, 6: 1124, 8: 990, 15: 1452, 1000: 1087, 61: 870, 16: 1005, 21: 1380, 51: 1000, 33: 1234, 54: 900, 73: 950, 55: 1150, 76: 1250, 56: 1053, 77: 1200, 95: 1128, 80: 1204, 7: 1321, 18: 1204, 68: 922, 39: 1350, 34: 1204, 78: 1200, 72: 1000, 74: 1000, 75: 1000}\n"
     ]
    }
   ],
   "source": [
    "import pandas as pd\n",
    "\n",
    "print(\"Reading data...\")\n",
    "df = pd.read_excel(\"output2.xlsx\")\n",
    "support_dictionary = {}\n",
    "\n",
    "print(\"Treating data...\")\n",
    "for index, row in df.iterrows():\n",
    "    if (row[\"GRAVITE\"] == \"CRITIQUE\"):\n",
    "        alert_id = int(row[\"ID_DYSFONCTIONNEMENT\"])\n",
    "        if alert_id in support_dictionary:\n",
    "            support_dictionary[alert_id] = support_dictionary[alert_id] + 1\n",
    "        else:\n",
    "            support_dictionary[alert_id] = 1\n",
    "\n",
    "print(support_dictionary)"
   ]
  }
 ],
 "metadata": {
  "kernelspec": {
   "display_name": "Python 3 (ipykernel)",
   "language": "python",
   "name": "python3"
  },
  "language_info": {
   "codemirror_mode": {
    "name": "ipython",
    "version": 3
   },
   "file_extension": ".py",
   "mimetype": "text/x-python",
   "name": "python",
   "nbconvert_exporter": "python",
   "pygments_lexer": "ipython3",
   "version": "3.9.16"
  }
 },
 "nbformat": 4,
 "nbformat_minor": 5
}
