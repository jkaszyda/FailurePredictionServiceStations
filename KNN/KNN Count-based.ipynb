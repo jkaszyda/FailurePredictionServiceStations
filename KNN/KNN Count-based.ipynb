{
 "cells": [
  {
   "cell_type": "code",
   "execution_count": 19,
   "id": "d1044ab0",
   "metadata": {
    "ExecuteTime": {
     "start_time": "2023-08-02T12:50:19.643944Z",
     "end_time": "2023-08-02T12:50:19.689178Z"
    }
   },
   "outputs": [],
   "source": [
    "import numpy as np\n",
    "import pandas as pd\n",
    "from sklearn.model_selection import train_test_split\n",
    "from sklearn.neighbors import KNeighborsClassifier\n",
    "\n",
    "# Read the dataframe\n",
    "df = pd.read_csv(\"data\\dataframe.csv\")\n",
    "\n",
    "# Drop any rows with missing values\n",
    "df = df.dropna()\n",
    "\n",
    "# Split the data into input features (X) and target variable (y)\n",
    "X = df.drop(\"y\", axis=1).values\n",
    "y = df[\"y\"].values"
   ]
  },
  {
   "cell_type": "code",
   "execution_count": 20,
   "id": "38b65338",
   "metadata": {
    "ExecuteTime": {
     "start_time": "2023-08-02T12:50:21.411194Z",
     "end_time": "2023-08-02T12:50:21.551727Z"
    }
   },
   "outputs": [],
   "source": [
    "from imblearn.over_sampling import RandomOverSampler\n",
    "from collections import Counter\n",
    "from imblearn.over_sampling import SMOTE\n",
    "\n",
    "# Apply SMOTE to balance the dataset\n",
    "sm = SMOTE(k_neighbors=4, random_state=42)\n",
    "X_res, y_res = sm.fit_resample(X, y)\n",
    "\n",
    "#oversampler = RandomOverSampler(random_state=42)\n",
    "#X_res, y_res = oversampler.fit_resample(X,y)"
   ]
  },
  {
   "cell_type": "code",
   "execution_count": 21,
   "id": "086b315c",
   "metadata": {
    "ExecuteTime": {
     "start_time": "2023-08-02T12:50:28.676801Z",
     "end_time": "2023-08-02T12:50:28.690935Z"
    }
   },
   "outputs": [],
   "source": [
    "X_train, X_test, y_train, y_test = train_test_split(X, y, test_size=0.33, random_state=42)"
   ]
  },
  {
   "cell_type": "code",
   "execution_count": 22,
   "outputs": [
    {
     "data": {
      "text/plain": "KNeighborsClassifier(metric='manhattan', n_neighbors=9, weights='distance')",
      "text/html": "<style>#sk-container-id-2 {color: black;background-color: white;}#sk-container-id-2 pre{padding: 0;}#sk-container-id-2 div.sk-toggleable {background-color: white;}#sk-container-id-2 label.sk-toggleable__label {cursor: pointer;display: block;width: 100%;margin-bottom: 0;padding: 0.3em;box-sizing: border-box;text-align: center;}#sk-container-id-2 label.sk-toggleable__label-arrow:before {content: \"▸\";float: left;margin-right: 0.25em;color: #696969;}#sk-container-id-2 label.sk-toggleable__label-arrow:hover:before {color: black;}#sk-container-id-2 div.sk-estimator:hover label.sk-toggleable__label-arrow:before {color: black;}#sk-container-id-2 div.sk-toggleable__content {max-height: 0;max-width: 0;overflow: hidden;text-align: left;background-color: #f0f8ff;}#sk-container-id-2 div.sk-toggleable__content pre {margin: 0.2em;color: black;border-radius: 0.25em;background-color: #f0f8ff;}#sk-container-id-2 input.sk-toggleable__control:checked~div.sk-toggleable__content {max-height: 200px;max-width: 100%;overflow: auto;}#sk-container-id-2 input.sk-toggleable__control:checked~label.sk-toggleable__label-arrow:before {content: \"▾\";}#sk-container-id-2 div.sk-estimator input.sk-toggleable__control:checked~label.sk-toggleable__label {background-color: #d4ebff;}#sk-container-id-2 div.sk-label input.sk-toggleable__control:checked~label.sk-toggleable__label {background-color: #d4ebff;}#sk-container-id-2 input.sk-hidden--visually {border: 0;clip: rect(1px 1px 1px 1px);clip: rect(1px, 1px, 1px, 1px);height: 1px;margin: -1px;overflow: hidden;padding: 0;position: absolute;width: 1px;}#sk-container-id-2 div.sk-estimator {font-family: monospace;background-color: #f0f8ff;border: 1px dotted black;border-radius: 0.25em;box-sizing: border-box;margin-bottom: 0.5em;}#sk-container-id-2 div.sk-estimator:hover {background-color: #d4ebff;}#sk-container-id-2 div.sk-parallel-item::after {content: \"\";width: 100%;border-bottom: 1px solid gray;flex-grow: 1;}#sk-container-id-2 div.sk-label:hover label.sk-toggleable__label {background-color: #d4ebff;}#sk-container-id-2 div.sk-serial::before {content: \"\";position: absolute;border-left: 1px solid gray;box-sizing: border-box;top: 0;bottom: 0;left: 50%;z-index: 0;}#sk-container-id-2 div.sk-serial {display: flex;flex-direction: column;align-items: center;background-color: white;padding-right: 0.2em;padding-left: 0.2em;position: relative;}#sk-container-id-2 div.sk-item {position: relative;z-index: 1;}#sk-container-id-2 div.sk-parallel {display: flex;align-items: stretch;justify-content: center;background-color: white;position: relative;}#sk-container-id-2 div.sk-item::before, #sk-container-id-2 div.sk-parallel-item::before {content: \"\";position: absolute;border-left: 1px solid gray;box-sizing: border-box;top: 0;bottom: 0;left: 50%;z-index: -1;}#sk-container-id-2 div.sk-parallel-item {display: flex;flex-direction: column;z-index: 1;position: relative;background-color: white;}#sk-container-id-2 div.sk-parallel-item:first-child::after {align-self: flex-end;width: 50%;}#sk-container-id-2 div.sk-parallel-item:last-child::after {align-self: flex-start;width: 50%;}#sk-container-id-2 div.sk-parallel-item:only-child::after {width: 0;}#sk-container-id-2 div.sk-dashed-wrapped {border: 1px dashed gray;margin: 0 0.4em 0.5em 0.4em;box-sizing: border-box;padding-bottom: 0.4em;background-color: white;}#sk-container-id-2 div.sk-label label {font-family: monospace;font-weight: bold;display: inline-block;line-height: 1.2em;}#sk-container-id-2 div.sk-label-container {text-align: center;}#sk-container-id-2 div.sk-container {/* jupyter's `normalize.less` sets `[hidden] { display: none; }` but bootstrap.min.css set `[hidden] { display: none !important; }` so we also need the `!important` here to be able to override the default hidden behavior on the sphinx rendered scikit-learn.org. See: https://github.com/scikit-learn/scikit-learn/issues/21755 */display: inline-block !important;position: relative;}#sk-container-id-2 div.sk-text-repr-fallback {display: none;}</style><div id=\"sk-container-id-2\" class=\"sk-top-container\"><div class=\"sk-text-repr-fallback\"><pre>KNeighborsClassifier(metric=&#x27;manhattan&#x27;, n_neighbors=9, weights=&#x27;distance&#x27;)</pre><b>In a Jupyter environment, please rerun this cell to show the HTML representation or trust the notebook. <br />On GitHub, the HTML representation is unable to render, please try loading this page with nbviewer.org.</b></div><div class=\"sk-container\" hidden><div class=\"sk-item\"><div class=\"sk-estimator sk-toggleable\"><input class=\"sk-toggleable__control sk-hidden--visually\" id=\"sk-estimator-id-2\" type=\"checkbox\" checked><label for=\"sk-estimator-id-2\" class=\"sk-toggleable__label sk-toggleable__label-arrow\">KNeighborsClassifier</label><div class=\"sk-toggleable__content\"><pre>KNeighborsClassifier(metric=&#x27;manhattan&#x27;, n_neighbors=9, weights=&#x27;distance&#x27;)</pre></div></div></div></div></div>"
     },
     "execution_count": 22,
     "metadata": {},
     "output_type": "execute_result"
    }
   ],
   "source": [
    "knn = KNeighborsClassifier(n_neighbors=9, weights='distance', metric='manhattan')\n",
    "knn.fit(X_train, y_train)"
   ],
   "metadata": {
    "collapsed": false,
    "ExecuteTime": {
     "start_time": "2023-08-02T12:50:36.311183Z",
     "end_time": "2023-08-02T12:50:36.348583Z"
    }
   }
  },
  {
   "cell_type": "code",
   "execution_count": 12,
   "outputs": [
    {
     "name": "stdout",
     "output_type": "stream",
     "text": [
      "Fitting 3 folds for each of 36 candidates, totalling 108 fits\n",
      "[CV 1/3; 1/36] START metric=minkowski, n_neighbors=5, weights=uniform...........\n",
      "[CV 2/3; 1/36] START metric=minkowski, n_neighbors=5, weights=uniform...........\n",
      "[CV 3/3; 1/36] START metric=minkowski, n_neighbors=5, weights=uniform...........\n",
      "[CV 1/3; 2/36] START metric=minkowski, n_neighbors=5, weights=distance..........\n",
      "[CV 2/3; 2/36] START metric=minkowski, n_neighbors=5, weights=distance..........\n",
      "[CV 3/3; 2/36] START metric=minkowski, n_neighbors=5, weights=distance..........\n",
      "[CV 1/3; 3/36] START metric=minkowski, n_neighbors=7, weights=uniform...........\n",
      "[CV 2/3; 3/36] START metric=minkowski, n_neighbors=7, weights=uniform...........\n",
      "[CV 2/3; 2/36] END metric=minkowski, n_neighbors=5, weights=distance;, score=0.870 total time=   0.3s\n",
      "[CV 3/3; 3/36] START metric=minkowski, n_neighbors=7, weights=uniform...........\n",
      "[CV 3/3; 2/36] END metric=minkowski, n_neighbors=5, weights=distance;, score=0.865 total time=   0.5s\n",
      "[CV 1/3; 4/36] START metric=minkowski, n_neighbors=7, weights=distance..........\n",
      "[CV 1/3; 2/36] END metric=minkowski, n_neighbors=5, weights=distance;, score=0.861 total time=   0.5s\n",
      "[CV 2/3; 4/36] START metric=minkowski, n_neighbors=7, weights=distance..........\n",
      "[CV 2/3; 1/36] END metric=minkowski, n_neighbors=5, weights=uniform;, score=0.862 total time=   0.8s\n",
      "[CV 3/3; 4/36] START metric=minkowski, n_neighbors=7, weights=distance..........\n",
      "[CV 1/3; 1/36] END metric=minkowski, n_neighbors=5, weights=uniform;, score=0.859 total time=   0.8s\n",
      "[CV 1/3; 5/36] START metric=minkowski, n_neighbors=9, weights=uniform...........\n",
      "[CV 1/3; 4/36] END metric=minkowski, n_neighbors=7, weights=distance;, score=0.863 total time=   0.3s\n",
      "[CV 2/3; 5/36] START metric=minkowski, n_neighbors=9, weights=uniform...........\n",
      "[CV 3/3; 3/36] END metric=minkowski, n_neighbors=7, weights=uniform;, score=0.858 total time=   0.4s\n",
      "[CV 3/3; 5/36] START metric=minkowski, n_neighbors=9, weights=uniform...........\n",
      "[CV 1/3; 3/36] END metric=minkowski, n_neighbors=7, weights=uniform;, score=0.856 total time=   0.9s\n",
      "[CV 1/3; 6/36] START metric=minkowski, n_neighbors=9, weights=distance..........\n",
      "[CV 3/3; 1/36] END metric=minkowski, n_neighbors=5, weights=uniform;, score=0.860 total time=   0.9s\n",
      "[CV 2/3; 6/36] START metric=minkowski, n_neighbors=9, weights=distance..........\n",
      "[CV 2/3; 4/36] END metric=minkowski, n_neighbors=7, weights=distance;, score=0.873 total time=   0.3s\n",
      "[CV 3/3; 6/36] START metric=minkowski, n_neighbors=9, weights=distance..........\n",
      "[CV 2/3; 3/36] END metric=minkowski, n_neighbors=7, weights=uniform;, score=0.865 total time=   0.9s\n",
      "[CV 1/3; 7/36] START metric=minkowski, n_neighbors=11, weights=uniform..........\n",
      "[CV 3/3; 4/36] END metric=minkowski, n_neighbors=7, weights=distance;, score=0.865 total time=   0.2s\n",
      "[CV 2/3; 7/36] START metric=minkowski, n_neighbors=11, weights=uniform..........\n",
      "[CV 1/3; 5/36] END metric=minkowski, n_neighbors=9, weights=uniform;, score=0.855 total time=   0.5s\n",
      "[CV 3/3; 7/36] START metric=minkowski, n_neighbors=11, weights=uniform..........\n",
      "[CV 1/3; 6/36] END metric=minkowski, n_neighbors=9, weights=distance;, score=0.863 total time=   0.5s\n",
      "[CV 1/3; 8/36] START metric=minkowski, n_neighbors=11, weights=distance.........\n",
      "[CV 2/3; 6/36] END metric=minkowski, n_neighbors=9, weights=distance;, score=0.872 total time=   0.5s\n",
      "[CV 2/3; 8/36] START metric=minkowski, n_neighbors=11, weights=distance.........\n",
      "[CV 3/3; 6/36] END metric=minkowski, n_neighbors=9, weights=distance;, score=0.866 total time=   0.4s\n",
      "[CV 3/3; 8/36] START metric=minkowski, n_neighbors=11, weights=distance.........\n",
      "[CV 2/3; 5/36] END metric=minkowski, n_neighbors=9, weights=uniform;, score=0.860 total time=   0.5s\n",
      "[CV 1/3; 9/36] START metric=minkowski, n_neighbors=13, weights=uniform..........\n",
      "[CV 2/3; 7/36] END metric=minkowski, n_neighbors=11, weights=uniform;, score=0.853 total time=   0.5s\n",
      "[CV 2/3; 9/36] START metric=minkowski, n_neighbors=13, weights=uniform..........\n",
      "[CV 3/3; 5/36] END metric=minkowski, n_neighbors=9, weights=uniform;, score=0.857 total time=   0.7s\n",
      "[CV 3/3; 9/36] START metric=minkowski, n_neighbors=13, weights=uniform..........\n",
      "[CV 1/3; 7/36] END metric=minkowski, n_neighbors=11, weights=uniform;, score=0.854 total time=   0.6s\n",
      "[CV 1/3; 10/36] START metric=minkowski, n_neighbors=13, weights=distance........\n",
      "[CV 1/3; 8/36] END metric=minkowski, n_neighbors=11, weights=distance;, score=0.864 total time=   0.4s\n",
      "[CV 2/3; 10/36] START metric=minkowski, n_neighbors=13, weights=distance........\n",
      "[CV 3/3; 8/36] END metric=minkowski, n_neighbors=11, weights=distance;, score=0.868 total time=   0.4s\n",
      "[CV 3/3; 10/36] START metric=minkowski, n_neighbors=13, weights=distance........\n",
      "[CV 2/3; 8/36] END metric=minkowski, n_neighbors=11, weights=distance;, score=0.871 total time=   0.4s\n",
      "[CV 1/3; 11/36] START metric=minkowski, n_neighbors=15, weights=uniform.........\n",
      "[CV 3/3; 7/36] END metric=minkowski, n_neighbors=11, weights=uniform;, score=0.859 total time=   0.5s\n",
      "[CV 2/3; 11/36] START metric=minkowski, n_neighbors=15, weights=uniform.........\n",
      "[CV 1/3; 10/36] END metric=minkowski, n_neighbors=13, weights=distance;, score=0.866 total time=   0.3s\n",
      "[CV 3/3; 11/36] START metric=minkowski, n_neighbors=15, weights=uniform.........\n",
      "[CV 1/3; 9/36] END metric=minkowski, n_neighbors=13, weights=uniform;, score=0.851 total time=   0.6s\n",
      "[CV 1/3; 12/36] START metric=minkowski, n_neighbors=15, weights=distance........\n",
      "[CV 3/3; 9/36] END metric=minkowski, n_neighbors=13, weights=uniform;, score=0.851 total time=   0.5s\n",
      "[CV 2/3; 12/36] START metric=minkowski, n_neighbors=15, weights=distance........\n",
      "[CV 2/3; 10/36] END metric=minkowski, n_neighbors=13, weights=distance;, score=0.869 total time=   0.3s\n",
      "[CV 3/3; 12/36] START metric=minkowski, n_neighbors=15, weights=distance........\n",
      "[CV 2/3; 9/36] END metric=minkowski, n_neighbors=13, weights=uniform;, score=0.848 total time=   0.6s\n",
      "[CV 1/3; 13/36] START metric=euclidean, n_neighbors=5, weights=uniform..........\n",
      "[CV 3/3; 10/36] END metric=minkowski, n_neighbors=13, weights=distance;, score=0.863 total time=   0.3s\n",
      "[CV 2/3; 13/36] START metric=euclidean, n_neighbors=5, weights=uniform..........\n",
      "[CV 1/3; 11/36] END metric=minkowski, n_neighbors=15, weights=uniform;, score=0.850 total time=   0.4s\n",
      "[CV 3/3; 13/36] START metric=euclidean, n_neighbors=5, weights=uniform..........\n",
      "[CV 2/3; 12/36] END metric=minkowski, n_neighbors=15, weights=distance;, score=0.868 total time=   0.5s\n",
      "[CV 1/3; 14/36] START metric=euclidean, n_neighbors=5, weights=distance.........\n",
      "[CV 1/3; 12/36] END metric=minkowski, n_neighbors=15, weights=distance;, score=0.866 total time=   0.6s\n",
      "[CV 2/3; 14/36] START metric=euclidean, n_neighbors=5, weights=distance.........\n",
      "[CV 3/3; 12/36] END metric=minkowski, n_neighbors=15, weights=distance;, score=0.865 total time=   0.5s\n",
      "[CV 3/3; 14/36] START metric=euclidean, n_neighbors=5, weights=distance.........\n",
      "[CV 3/3; 11/36] END metric=minkowski, n_neighbors=15, weights=uniform;, score=0.846 total time=   0.7s\n",
      "[CV 1/3; 15/36] START metric=euclidean, n_neighbors=7, weights=uniform..........\n",
      "[CV 2/3; 11/36] END metric=minkowski, n_neighbors=15, weights=uniform;, score=0.841 total time=   1.1s\n",
      "[CV 2/3; 15/36] START metric=euclidean, n_neighbors=7, weights=uniform..........\n",
      "[CV 1/3; 13/36] END metric=euclidean, n_neighbors=5, weights=uniform;, score=0.859 total time=   0.9s\n",
      "[CV 3/3; 15/36] START metric=euclidean, n_neighbors=7, weights=uniform..........\n",
      "[CV 1/3; 14/36] END metric=euclidean, n_neighbors=5, weights=distance;, score=0.861 total time=   0.5s\n",
      "[CV 1/3; 16/36] START metric=euclidean, n_neighbors=7, weights=distance.........\n",
      "[CV 2/3; 13/36] END metric=euclidean, n_neighbors=5, weights=uniform;, score=0.862 total time=   1.0s\n",
      "[CV 2/3; 16/36] START metric=euclidean, n_neighbors=7, weights=distance.........\n",
      "[CV 3/3; 13/36] END metric=euclidean, n_neighbors=5, weights=uniform;, score=0.860 total time=   1.0s\n",
      "[CV 3/3; 16/36] START metric=euclidean, n_neighbors=7, weights=distance.........\n",
      "[CV 3/3; 14/36] END metric=euclidean, n_neighbors=5, weights=distance;, score=0.865 total time=   0.5s\n",
      "[CV 1/3; 17/36] START metric=euclidean, n_neighbors=9, weights=uniform..........\n",
      "[CV 2/3; 14/36] END metric=euclidean, n_neighbors=5, weights=distance;, score=0.870 total time=   0.6s\n",
      "[CV 2/3; 17/36] START metric=euclidean, n_neighbors=9, weights=uniform..........\n",
      "[CV 1/3; 15/36] END metric=euclidean, n_neighbors=7, weights=uniform;, score=0.856 total time=   0.9s\n",
      "[CV 3/3; 17/36] START metric=euclidean, n_neighbors=9, weights=uniform..........\n",
      "[CV 1/3; 16/36] END metric=euclidean, n_neighbors=7, weights=distance;, score=0.863 total time=   1.3s\n",
      "[CV 1/3; 18/36] START metric=euclidean, n_neighbors=9, weights=distance.........\n",
      "[CV 2/3; 16/36] END metric=euclidean, n_neighbors=7, weights=distance;, score=0.873 total time=   1.4s\n",
      "[CV 2/3; 18/36] START metric=euclidean, n_neighbors=9, weights=distance.........\n",
      "[CV 3/3; 16/36] END metric=euclidean, n_neighbors=7, weights=distance;, score=0.865 total time=   1.4s\n",
      "[CV 3/3; 18/36] START metric=euclidean, n_neighbors=9, weights=distance.........\n",
      "[CV 3/3; 18/36] END metric=euclidean, n_neighbors=9, weights=distance;, score=0.866 total time=   1.2s\n",
      "[CV 1/3; 19/36] START metric=euclidean, n_neighbors=11, weights=uniform.........\n",
      "[CV 1/3; 18/36] END metric=euclidean, n_neighbors=9, weights=distance;, score=0.863 total time=   1.6s\n",
      "[CV 2/3; 19/36] START metric=euclidean, n_neighbors=11, weights=uniform.........\n",
      "[CV 2/3; 18/36] END metric=euclidean, n_neighbors=9, weights=distance;, score=0.872 total time=   1.8s\n",
      "[CV 3/3; 19/36] START metric=euclidean, n_neighbors=11, weights=uniform.........\n",
      "[CV 2/3; 15/36] END metric=euclidean, n_neighbors=7, weights=uniform;, score=0.865 total time=   3.9s\n",
      "[CV 1/3; 20/36] START metric=euclidean, n_neighbors=11, weights=distance........\n",
      "[CV 1/3; 17/36] END metric=euclidean, n_neighbors=9, weights=uniform;, score=0.855 total time=   3.6s\n",
      "[CV 2/3; 20/36] START metric=euclidean, n_neighbors=11, weights=distance........\n",
      "[CV 3/3; 15/36] END metric=euclidean, n_neighbors=7, weights=uniform;, score=0.858 total time=   3.9s\n",
      "[CV 3/3; 20/36] START metric=euclidean, n_neighbors=11, weights=distance........\n",
      "[CV 3/3; 17/36] END metric=euclidean, n_neighbors=9, weights=uniform;, score=0.857 total time=   3.8s\n",
      "[CV 1/3; 21/36] START metric=euclidean, n_neighbors=13, weights=uniform.........\n",
      "[CV 2/3; 17/36] END metric=euclidean, n_neighbors=9, weights=uniform;, score=0.860 total time=   4.8s\n",
      "[CV 2/3; 21/36] START metric=euclidean, n_neighbors=13, weights=uniform.........\n",
      "[CV 2/3; 20/36] END metric=euclidean, n_neighbors=11, weights=distance;, score=0.871 total time=   1.4s\n",
      "[CV 3/3; 21/36] START metric=euclidean, n_neighbors=13, weights=uniform.........\n",
      "[CV 3/3; 20/36] END metric=euclidean, n_neighbors=11, weights=distance;, score=0.868 total time=   1.4s\n",
      "[CV 1/3; 22/36] START metric=euclidean, n_neighbors=13, weights=distance........\n",
      "[CV 1/3; 20/36] END metric=euclidean, n_neighbors=11, weights=distance;, score=0.864 total time=   1.7s\n",
      "[CV 2/3; 22/36] START metric=euclidean, n_neighbors=13, weights=distance........\n",
      "[CV 1/3; 19/36] END metric=euclidean, n_neighbors=11, weights=uniform;, score=0.854 total time=   3.2s\n",
      "[CV 3/3; 22/36] START metric=euclidean, n_neighbors=13, weights=distance........\n",
      "[CV 2/3; 19/36] END metric=euclidean, n_neighbors=11, weights=uniform;, score=0.853 total time=   3.8s\n",
      "[CV 1/3; 23/36] START metric=euclidean, n_neighbors=15, weights=uniform.........\n",
      "[CV 1/3; 22/36] END metric=euclidean, n_neighbors=13, weights=distance;, score=0.866 total time=   1.9s\n",
      "[CV 2/3; 23/36] START metric=euclidean, n_neighbors=15, weights=uniform.........\n",
      "[CV 3/3; 19/36] END metric=euclidean, n_neighbors=11, weights=uniform;, score=0.859 total time=   3.8s\n",
      "[CV 3/3; 23/36] START metric=euclidean, n_neighbors=15, weights=uniform.........\n",
      "[CV 2/3; 22/36] END metric=euclidean, n_neighbors=13, weights=distance;, score=0.869 total time=   1.8s\n",
      "[CV 1/3; 24/36] START metric=euclidean, n_neighbors=15, weights=distance........\n",
      "[CV 3/3; 22/36] END metric=euclidean, n_neighbors=13, weights=distance;, score=0.863 total time=   1.2s\n",
      "[CV 2/3; 24/36] START metric=euclidean, n_neighbors=15, weights=distance........\n",
      "[CV 1/3; 21/36] END metric=euclidean, n_neighbors=13, weights=uniform;, score=0.851 total time=   3.1s\n",
      "[CV 3/3; 24/36] START metric=euclidean, n_neighbors=15, weights=distance........\n",
      "[CV 3/3; 21/36] END metric=euclidean, n_neighbors=13, weights=uniform;, score=0.851 total time=   2.3s\n",
      "[CV 1/3; 25/36] START metric=manhattan, n_neighbors=5, weights=uniform..........\n",
      "[CV 2/3; 21/36] END metric=euclidean, n_neighbors=13, weights=uniform;, score=0.848 total time=   2.6s\n",
      "[CV 2/3; 25/36] START metric=manhattan, n_neighbors=5, weights=uniform..........\n",
      "[CV 1/3; 23/36] END metric=euclidean, n_neighbors=15, weights=uniform;, score=0.850 total time=   1.1s\n",
      "[CV 3/3; 25/36] START metric=manhattan, n_neighbors=5, weights=uniform..........\n",
      "[CV 1/3; 24/36] END metric=euclidean, n_neighbors=15, weights=distance;, score=0.866 total time=   1.2s\n",
      "[CV 1/3; 26/36] START metric=manhattan, n_neighbors=5, weights=distance.........\n",
      "[CV 2/3; 24/36] END metric=euclidean, n_neighbors=15, weights=distance;, score=0.868 total time=   1.2s\n",
      "[CV 2/3; 26/36] START metric=manhattan, n_neighbors=5, weights=distance.........\n",
      "[CV 3/3; 24/36] END metric=euclidean, n_neighbors=15, weights=distance;, score=0.865 total time=   1.3s\n",
      "[CV 3/3; 26/36] START metric=manhattan, n_neighbors=5, weights=distance.........\n",
      "[CV 3/3; 23/36] END metric=euclidean, n_neighbors=15, weights=uniform;, score=0.846 total time=   1.8s\n",
      "[CV 1/3; 27/36] START metric=manhattan, n_neighbors=7, weights=uniform..........\n",
      "[CV 2/3; 23/36] END metric=euclidean, n_neighbors=15, weights=uniform;, score=0.841 total time=   1.8s\n",
      "[CV 2/3; 27/36] START metric=manhattan, n_neighbors=7, weights=uniform..........\n",
      "[CV 2/3; 25/36] END metric=manhattan, n_neighbors=5, weights=uniform;, score=0.865 total time=   4.2s\n",
      "[CV 3/3; 27/36] START metric=manhattan, n_neighbors=7, weights=uniform..........\n",
      "[CV 1/3; 25/36] END metric=manhattan, n_neighbors=5, weights=uniform;, score=0.862 total time=   4.5s\n",
      "[CV 1/3; 28/36] START metric=manhattan, n_neighbors=7, weights=distance.........\n",
      "[CV 1/3; 26/36] END metric=manhattan, n_neighbors=5, weights=distance;, score=0.867 total time=   3.6s\n",
      "[CV 2/3; 28/36] START metric=manhattan, n_neighbors=7, weights=distance.........\n",
      "[CV 2/3; 26/36] END metric=manhattan, n_neighbors=5, weights=distance;, score=0.870 total time=   3.7s\n",
      "[CV 3/3; 28/36] START metric=manhattan, n_neighbors=7, weights=distance.........\n",
      "[CV 3/3; 25/36] END metric=manhattan, n_neighbors=5, weights=uniform;, score=0.860 total time=   4.3s\n",
      "[CV 1/3; 29/36] START metric=manhattan, n_neighbors=9, weights=uniform..........\n",
      "[CV 3/3; 26/36] END metric=manhattan, n_neighbors=5, weights=distance;, score=0.873 total time=   3.7s\n",
      "[CV 2/3; 29/36] START metric=manhattan, n_neighbors=9, weights=uniform..........\n",
      "[CV 1/3; 27/36] END metric=manhattan, n_neighbors=7, weights=uniform;, score=0.861 total time=   4.2s\n",
      "[CV 3/3; 29/36] START metric=manhattan, n_neighbors=9, weights=uniform..........\n",
      "[CV 2/3; 27/36] END metric=manhattan, n_neighbors=7, weights=uniform;, score=0.869 total time=   4.2s\n",
      "[CV 1/3; 30/36] START metric=manhattan, n_neighbors=9, weights=distance.........\n",
      "[CV 3/3; 27/36] END metric=manhattan, n_neighbors=7, weights=uniform;, score=0.856 total time=   4.1s\n",
      "[CV 2/3; 30/36] START metric=manhattan, n_neighbors=9, weights=distance.........\n",
      "[CV 1/3; 28/36] END metric=manhattan, n_neighbors=7, weights=distance;, score=0.868 total time=   4.0s\n",
      "[CV 3/3; 30/36] START metric=manhattan, n_neighbors=9, weights=distance.........\n",
      "[CV 3/3; 28/36] END metric=manhattan, n_neighbors=7, weights=distance;, score=0.868 total time=   4.0s\n",
      "[CV 1/3; 31/36] START metric=manhattan, n_neighbors=11, weights=uniform.........\n",
      "[CV 2/3; 28/36] END metric=manhattan, n_neighbors=7, weights=distance;, score=0.878 total time=   4.1s\n",
      "[CV 2/3; 31/36] START metric=manhattan, n_neighbors=11, weights=uniform.........\n",
      "[CV 1/3; 29/36] END metric=manhattan, n_neighbors=9, weights=uniform;, score=0.851 total time=   4.2s\n",
      "[CV 3/3; 31/36] START metric=manhattan, n_neighbors=11, weights=uniform.........\n",
      "[CV 1/3; 30/36] END metric=manhattan, n_neighbors=9, weights=distance;, score=0.866 total time=   3.5s\n",
      "[CV 1/3; 32/36] START metric=manhattan, n_neighbors=11, weights=distance........\n",
      "[CV 2/3; 29/36] END metric=manhattan, n_neighbors=9, weights=uniform;, score=0.863 total time=   4.4s\n",
      "[CV 2/3; 32/36] START metric=manhattan, n_neighbors=11, weights=distance........\n",
      "[CV 3/3; 29/36] END metric=manhattan, n_neighbors=9, weights=uniform;, score=0.857 total time=   3.7s\n",
      "[CV 3/3; 32/36] START metric=manhattan, n_neighbors=11, weights=distance........\n",
      "[CV 3/3; 30/36] END metric=manhattan, n_neighbors=9, weights=distance;, score=0.872 total time=   3.1s\n",
      "[CV 1/3; 33/36] START metric=manhattan, n_neighbors=13, weights=uniform.........\n",
      "[CV 2/3; 30/36] END metric=manhattan, n_neighbors=9, weights=distance;, score=0.879 total time=   3.3s\n",
      "[CV 2/3; 33/36] START metric=manhattan, n_neighbors=13, weights=uniform.........\n",
      "[CV 2/3; 32/36] END metric=manhattan, n_neighbors=11, weights=distance;, score=0.876 total time=   4.0s\n",
      "[CV 3/3; 33/36] START metric=manhattan, n_neighbors=13, weights=uniform.........\n",
      "[CV 1/3; 31/36] END metric=manhattan, n_neighbors=11, weights=uniform;, score=0.853 total time=   4.5s\n",
      "[CV 1/3; 34/36] START metric=manhattan, n_neighbors=13, weights=distance........\n",
      "[CV 3/3; 31/36] END metric=manhattan, n_neighbors=11, weights=uniform;, score=0.854 total time=   4.3s\n",
      "[CV 2/3; 34/36] START metric=manhattan, n_neighbors=13, weights=distance........\n",
      "[CV 1/3; 32/36] END metric=manhattan, n_neighbors=11, weights=distance;, score=0.868 total time=   4.1s\n",
      "[CV 3/3; 34/36] START metric=manhattan, n_neighbors=13, weights=distance........\n",
      "[CV 3/3; 32/36] END metric=manhattan, n_neighbors=11, weights=distance;, score=0.868 total time=   4.0s\n",
      "[CV 1/3; 35/36] START metric=manhattan, n_neighbors=15, weights=uniform.........\n",
      "[CV 2/3; 31/36] END metric=manhattan, n_neighbors=11, weights=uniform;, score=0.859 total time=   4.6s\n",
      "[CV 2/3; 35/36] START metric=manhattan, n_neighbors=15, weights=uniform.........\n",
      "[CV 1/3; 33/36] END metric=manhattan, n_neighbors=13, weights=uniform;, score=0.853 total time=   3.3s\n",
      "[CV 3/3; 35/36] START metric=manhattan, n_neighbors=15, weights=uniform.........\n",
      "[CV 2/3; 33/36] END metric=manhattan, n_neighbors=13, weights=uniform;, score=0.853 total time=   3.3s\n",
      "[CV 1/3; 36/36] START metric=manhattan, n_neighbors=15, weights=distance........\n",
      "[CV 2/3; 34/36] END metric=manhattan, n_neighbors=13, weights=distance;, score=0.872 total time=   3.9s\n",
      "[CV 2/3; 36/36] START metric=manhattan, n_neighbors=15, weights=distance........\n",
      "[CV 1/3; 34/36] END metric=manhattan, n_neighbors=13, weights=distance;, score=0.868 total time=   3.9s\n",
      "[CV 3/3; 36/36] START metric=manhattan, n_neighbors=15, weights=distance........\n",
      "[CV 3/3; 34/36] END metric=manhattan, n_neighbors=13, weights=distance;, score=0.866 total time=   4.0s\n",
      "[CV 3/3; 33/36] END metric=manhattan, n_neighbors=13, weights=uniform;, score=0.850 total time=   4.0s\n",
      "[CV 1/3; 35/36] END metric=manhattan, n_neighbors=15, weights=uniform;, score=0.849 total time=   4.0s\n",
      "[CV 2/3; 35/36] END metric=manhattan, n_neighbors=15, weights=uniform;, score=0.849 total time=   4.0s\n",
      "[CV 1/3; 36/36] END metric=manhattan, n_neighbors=15, weights=distance;, score=0.869 total time=   2.6s\n",
      "[CV 3/3; 35/36] END metric=manhattan, n_neighbors=15, weights=uniform;, score=0.847 total time=   2.9s\n",
      "[CV 2/3; 36/36] END metric=manhattan, n_neighbors=15, weights=distance;, score=0.871 total time=   1.6s\n",
      "[CV 3/3; 36/36] END metric=manhattan, n_neighbors=15, weights=distance;, score=0.869 total time=   1.6s\n"
     ]
    }
   ],
   "source": [
    "from sklearn.model_selection import GridSearchCV\n",
    "from sklearn.metrics import make_scorer\n",
    "from sklearn.metrics import f1_score\n",
    "import joblib\n",
    "\n",
    "# Define the scoring metric\n",
    "scorer = make_scorer(f1_score)\n",
    "\n",
    "model = KNeighborsClassifier()\n",
    "\n",
    "grid_space={'n_neighbors':[5,7,9,11,13,15],\n",
    "            'weights':['uniform','distance'],\n",
    "            'metric':['minkowski','euclidean','manhattan']\n",
    "            }\n",
    "\n",
    "grid = GridSearchCV(model,param_grid=grid_space,cv=3,scoring=\"f1_micro\",verbose=10)\n",
    "\n",
    "# Enable verbose logging using joblib\n",
    "#joblib.parallel_backend('threading')\n",
    "\n",
    "model_grid = grid.fit(X_train,y_train)"
   ],
   "metadata": {
    "collapsed": false,
    "ExecuteTime": {
     "start_time": "2023-07-25T14:47:22.503607Z",
     "end_time": "2023-07-25T14:47:53.235008Z"
    }
   }
  },
  {
   "cell_type": "code",
   "execution_count": 13,
   "outputs": [
    {
     "name": "stdout",
     "output_type": "stream",
     "text": [
      "Best hyperparameters are: {'metric': 'manhattan', 'n_neighbors': 9, 'weights': 'distance'}\n",
      "Best score is: 0.8721560130010834\n"
     ]
    }
   ],
   "source": [
    "print('Best hyperparameters are: '+str(model_grid.best_params_))\n",
    "print('Best score is: '+str(model_grid.best_score_))"
   ],
   "metadata": {
    "collapsed": false,
    "ExecuteTime": {
     "start_time": "2023-07-25T14:48:01.294448Z",
     "end_time": "2023-07-25T14:48:01.319494Z"
    }
   }
  },
  {
   "cell_type": "code",
   "execution_count": 23,
   "id": "65f441bf",
   "metadata": {
    "ExecuteTime": {
     "start_time": "2023-08-02T12:50:42.668542Z",
     "end_time": "2023-08-02T12:50:43.579952Z"
    }
   },
   "outputs": [],
   "source": [
    "y_pred = knn.predict(X_test)"
   ]
  },
  {
   "cell_type": "code",
   "execution_count": 24,
   "id": "8b8f141f",
   "metadata": {
    "ExecuteTime": {
     "start_time": "2023-08-02T12:50:49.941728Z",
     "end_time": "2023-08-02T12:50:49.956347Z"
    }
   },
   "outputs": [
    {
     "name": "stdout",
     "output_type": "stream",
     "text": [
      "              precision    recall  f1-score   support\n",
      "\n",
      "           7       0.91      0.92      0.92       433\n",
      "          15       0.81      0.83      0.82       220\n",
      "          16       0.97      0.94      0.96       115\n",
      "          21       0.67      0.73      0.70        48\n",
      "          33       0.89      0.90      0.90       385\n",
      "          34       0.00      0.00      0.00         3\n",
      "          39       0.78      0.88      0.82         8\n",
      "          56       0.91      0.95      0.93       337\n",
      "          68       0.82      0.87      0.84       300\n",
      "          95       0.94      0.99      0.96       140\n",
      "        1000       0.88      0.79      0.83       379\n",
      "        1001       0.88      0.83      0.85       361\n",
      "\n",
      "    accuracy                           0.88      2729\n",
      "   macro avg       0.79      0.80      0.79      2729\n",
      "weighted avg       0.88      0.88      0.88      2729\n",
      "\n"
     ]
    },
    {
     "name": "stderr",
     "output_type": "stream",
     "text": [
      "C:\\Users\\jkaszyda\\.conda\\envs\\DeepLearning\\lib\\site-packages\\sklearn\\metrics\\_classification.py:1344: UndefinedMetricWarning: Precision and F-score are ill-defined and being set to 0.0 in labels with no predicted samples. Use `zero_division` parameter to control this behavior.\n",
      "  _warn_prf(average, modifier, msg_start, len(result))\n",
      "C:\\Users\\jkaszyda\\.conda\\envs\\DeepLearning\\lib\\site-packages\\sklearn\\metrics\\_classification.py:1344: UndefinedMetricWarning: Precision and F-score are ill-defined and being set to 0.0 in labels with no predicted samples. Use `zero_division` parameter to control this behavior.\n",
      "  _warn_prf(average, modifier, msg_start, len(result))\n",
      "C:\\Users\\jkaszyda\\.conda\\envs\\DeepLearning\\lib\\site-packages\\sklearn\\metrics\\_classification.py:1344: UndefinedMetricWarning: Precision and F-score are ill-defined and being set to 0.0 in labels with no predicted samples. Use `zero_division` parameter to control this behavior.\n",
      "  _warn_prf(average, modifier, msg_start, len(result))\n"
     ]
    }
   ],
   "source": [
    "from sklearn.metrics import classification_report\n",
    "\n",
    "print(classification_report(y_test, y_pred))"
   ]
  },
  {
   "cell_type": "code",
   "execution_count": 16,
   "id": "73992d82",
   "metadata": {
    "ExecuteTime": {
     "start_time": "2023-07-20T15:33:41.332841Z",
     "end_time": "2023-07-20T15:33:42.684033Z"
    }
   },
   "outputs": [
    {
     "data": {
      "text/plain": "<Figure size 640x480 with 2 Axes>",
      "image/png": "[encoded data removed]"
     },
     "metadata": {},
     "output_type": "display_data"
    }
   ],
   "source": [
    "from sklearn.metrics import confusion_matrix, ConfusionMatrixDisplay\n",
    "import matplotlib.pyplot as plt\n",
    "\n",
    "cm = confusion_matrix(y_test, y_pred, labels=knn.classes_)\n",
    "disp = ConfusionMatrixDisplay(confusion_matrix=cm,display_labels=knn.classes_)\n",
    "disp.plot()\n",
    "plt.show()"
   ]
  },
  {
   "cell_type": "code",
   "execution_count": 28,
   "id": "7f1217f2",
   "metadata": {
    "ExecuteTime": {
     "start_time": "2023-08-02T12:54:59.904641Z",
     "end_time": "2023-08-02T12:54:59.936069Z"
    }
   },
   "outputs": [],
   "source": [
    "#Verification with new unseen data\n",
    "# Read the dataframe\n",
    "df_verif = pd.read_csv(\"data\\lzac.csv\")\n",
    "\n",
    "# Drop any rows with missing values\n",
    "df_verif = df_verif.dropna()\n",
    "\n",
    "# Split the data into input features (X) and target variable (y)\n",
    "X_verif = df_verif.drop(\"y\", axis=1).values\n",
    "y_verif = df_verif[\"y\"].values"
   ]
  },
  {
   "cell_type": "code",
   "execution_count": 29,
   "outputs": [
    {
     "name": "stdout",
     "output_type": "stream",
     "text": [
      "              precision    recall  f1-score   support\n",
      "\n",
      "          15       0.00      0.00      0.00         0\n",
      "          21       0.00      0.00      0.00         0\n",
      "          33       0.00      0.00      0.00         7\n",
      "          55       0.00      0.00      0.00         1\n",
      "          56       0.00      0.00      0.00         2\n",
      "          68       0.00      0.00      0.00       105\n",
      "        1000       0.00      0.00      0.00         0\n",
      "        1001       0.35      0.34      0.35        64\n",
      "\n",
      "    accuracy                           0.12       179\n",
      "   macro avg       0.04      0.04      0.04       179\n",
      "weighted avg       0.13      0.12      0.12       179\n",
      "\n"
     ]
    },
    {
     "name": "stderr",
     "output_type": "stream",
     "text": [
      "C:\\Users\\jkaszyda\\.conda\\envs\\DeepLearning\\lib\\site-packages\\sklearn\\metrics\\_classification.py:1344: UndefinedMetricWarning: Precision and F-score are ill-defined and being set to 0.0 in labels with no predicted samples. Use `zero_division` parameter to control this behavior.\n",
      "  _warn_prf(average, modifier, msg_start, len(result))\n",
      "C:\\Users\\jkaszyda\\.conda\\envs\\DeepLearning\\lib\\site-packages\\sklearn\\metrics\\_classification.py:1344: UndefinedMetricWarning: Recall and F-score are ill-defined and being set to 0.0 in labels with no true samples. Use `zero_division` parameter to control this behavior.\n",
      "  _warn_prf(average, modifier, msg_start, len(result))\n",
      "C:\\Users\\jkaszyda\\.conda\\envs\\DeepLearning\\lib\\site-packages\\sklearn\\metrics\\_classification.py:1344: UndefinedMetricWarning: Precision and F-score are ill-defined and being set to 0.0 in labels with no predicted samples. Use `zero_division` parameter to control this behavior.\n",
      "  _warn_prf(average, modifier, msg_start, len(result))\n",
      "C:\\Users\\jkaszyda\\.conda\\envs\\DeepLearning\\lib\\site-packages\\sklearn\\metrics\\_classification.py:1344: UndefinedMetricWarning: Recall and F-score are ill-defined and being set to 0.0 in labels with no true samples. Use `zero_division` parameter to control this behavior.\n",
      "  _warn_prf(average, modifier, msg_start, len(result))\n",
      "C:\\Users\\jkaszyda\\.conda\\envs\\DeepLearning\\lib\\site-packages\\sklearn\\metrics\\_classification.py:1344: UndefinedMetricWarning: Precision and F-score are ill-defined and being set to 0.0 in labels with no predicted samples. Use `zero_division` parameter to control this behavior.\n",
      "  _warn_prf(average, modifier, msg_start, len(result))\n",
      "C:\\Users\\jkaszyda\\.conda\\envs\\DeepLearning\\lib\\site-packages\\sklearn\\metrics\\_classification.py:1344: UndefinedMetricWarning: Recall and F-score are ill-defined and being set to 0.0 in labels with no true samples. Use `zero_division` parameter to control this behavior.\n",
      "  _warn_prf(average, modifier, msg_start, len(result))\n"
     ]
    }
   ],
   "source": [
    "y_pred_verif = knn.predict(X_verif)\n",
    "print(classification_report(y_verif, y_pred_verif))"
   ],
   "metadata": {
    "collapsed": false,
    "ExecuteTime": {
     "start_time": "2023-08-02T12:55:02.357720Z",
     "end_time": "2023-08-02T12:55:02.442324Z"
    }
   }
  },
  {
   "cell_type": "code",
   "execution_count": null,
   "outputs": [],
   "source": [],
   "metadata": {
    "collapsed": false
   }
  }
 ],
 "metadata": {
  "kernelspec": {
   "display_name": "Python 3 (ipykernel)",
   "language": "python",
   "name": "python3"
  },
  "language_info": {
   "codemirror_mode": {
    "name": "ipython",
    "version": 3
   },
   "file_extension": ".py",
   "mimetype": "text/x-python",
   "name": "python",
   "nbconvert_exporter": "python",
   "pygments_lexer": "ipython3",
   "version": "3.9.16"
  }
 },
 "nbformat": 4,
 "nbformat_minor": 5
}
