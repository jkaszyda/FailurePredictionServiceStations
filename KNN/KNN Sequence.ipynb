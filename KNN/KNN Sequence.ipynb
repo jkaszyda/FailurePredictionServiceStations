{
 "cells": [
  {
   "cell_type": "code",
   "execution_count": 9,
   "id": "9e8f4529",
   "metadata": {
    "ExecuteTime": {
     "start_time": "2023-10-17T09:58:21.855299Z",
     "end_time": "2023-10-17T09:58:22.189145Z"
    }
   },
   "outputs": [],
   "source": [
    "import numpy as np\n",
    "import pandas as pd\n",
    "from sklearn.model_selection import train_test_split\n",
    "\n",
    "# Read data for X and y\n",
    "df7 = pd.read_csv(\"../Data/Train/Random Samples/10000/Sequences/7.csv\")\n",
    "df15 = pd.read_csv(\"../Data/Train/Random Samples/10000/Sequences/15.csv\")\n",
    "df16 = pd.read_csv(\"../Data/Train/Random Samples/10000/Sequences/16.csv\")\n",
    "df21 = pd.read_csv(\"../Data/Train/Random Samples/10000/Sequences/21.csv\")\n",
    "df33 = pd.read_csv(\"../Data/Train/Random Samples/10000/Sequences/33.csv\")\n",
    "df56 = pd.read_csv(\"../Data/Train/Random Samples/10000/Sequences/56.csv\")\n",
    "df68 = pd.read_csv(\"../Data/Train/Random Samples/10000/Sequences/68.csv\")\n",
    "df95 = pd.read_csv(\"../Data/Train/Random Samples/10000/Sequences/95.csv\")\n",
    "df1000 = pd.read_csv(\"../Data/Train/Random Samples/10000/Sequences/1000.csv\")\n",
    "df1001 = pd.read_csv(\"../Data/Train/Random Samples/10000/Sequences/1001.csv\")\n",
    "\n",
    "df = pd.concat([df7,df15, df16, df21, df33, df56, df68, df95, df1000, df1001], ignore_index=True)\n",
    "\n",
    "X = df.drop(columns=['y']).values\n",
    "y = df['y'].values"
   ]
  },
  {
   "cell_type": "code",
   "execution_count": 43,
   "id": "98187e9c",
   "metadata": {
    "ExecuteTime": {
     "start_time": "2023-08-11T15:55:49.720554Z",
     "end_time": "2023-08-11T15:55:51.738491Z"
    }
   },
   "outputs": [],
   "source": [
    "from imblearn.over_sampling import RandomOverSampler\n",
    "from collections import Counter\n",
    "from imblearn.over_sampling import SMOTE\n",
    "\n",
    "# Apply SMOTE to balance the dataset\n",
    "sm = SMOTE(random_state=42)\n",
    "X_res, y_res = sm.fit_resample(X, y)\n",
    "\n",
    "#oversampler = RandomOverSampler(random_state=42)\n",
    "#X_res, y_res = oversampler.fit_resample(X,y)"
   ]
  },
  {
   "cell_type": "code",
   "execution_count": 10,
   "id": "b64c83bd",
   "metadata": {
    "ExecuteTime": {
     "start_time": "2023-10-17T09:58:25.232159Z",
     "end_time": "2023-10-17T09:58:25.301259Z"
    }
   },
   "outputs": [],
   "source": [
    "# Split the data into train and test sets\n",
    "X_train, X_test, y_train, y_test = train_test_split(X, y, test_size=0.33, random_state=42)"
   ]
  },
  {
   "cell_type": "code",
   "execution_count": 11,
   "outputs": [
    {
     "name": "stdout",
     "output_type": "stream",
     "text": [
      "Fitting 2 folds for each of 12 candidates, totalling 24 fits\n",
      "[CV 1/2; 1/12] START metric=euclidean, n_neighbors=5............................\n",
      "[CV 1/2; 1/12] END metric=euclidean, n_neighbors=5;, score=0.461 total time=  19.7s\n",
      "[CV 2/2; 1/12] START metric=euclidean, n_neighbors=5............................\n",
      "[CV 2/2; 1/12] END metric=euclidean, n_neighbors=5;, score=0.463 total time=  17.1s\n",
      "[CV 1/2; 2/12] START metric=euclidean, n_neighbors=7............................\n",
      "[CV 1/2; 2/12] END metric=euclidean, n_neighbors=7;, score=0.465 total time=  21.0s\n",
      "[CV 2/2; 2/12] START metric=euclidean, n_neighbors=7............................\n",
      "[CV 2/2; 2/12] END metric=euclidean, n_neighbors=7;, score=0.460 total time=  19.0s\n",
      "[CV 1/2; 3/12] START metric=euclidean, n_neighbors=9............................\n",
      "[CV 1/2; 3/12] END metric=euclidean, n_neighbors=9;, score=0.473 total time=  21.7s\n",
      "[CV 2/2; 3/12] START metric=euclidean, n_neighbors=9............................\n",
      "[CV 2/2; 3/12] END metric=euclidean, n_neighbors=9;, score=0.466 total time=  21.2s\n",
      "[CV 1/2; 4/12] START metric=euclidean, n_neighbors=11...........................\n",
      "[CV 1/2; 4/12] END metric=euclidean, n_neighbors=11;, score=0.475 total time=  23.2s\n",
      "[CV 2/2; 4/12] START metric=euclidean, n_neighbors=11...........................\n",
      "[CV 2/2; 4/12] END metric=euclidean, n_neighbors=11;, score=0.466 total time=  20.7s\n",
      "[CV 1/2; 5/12] START metric=euclidean, n_neighbors=13...........................\n",
      "[CV 1/2; 5/12] END metric=euclidean, n_neighbors=13;, score=0.472 total time=  23.0s\n",
      "[CV 2/2; 5/12] START metric=euclidean, n_neighbors=13...........................\n",
      "[CV 2/2; 5/12] END metric=euclidean, n_neighbors=13;, score=0.467 total time=  21.2s\n",
      "[CV 1/2; 6/12] START metric=euclidean, n_neighbors=15...........................\n",
      "[CV 1/2; 6/12] END metric=euclidean, n_neighbors=15;, score=0.468 total time=  21.1s\n",
      "[CV 2/2; 6/12] START metric=euclidean, n_neighbors=15...........................\n",
      "[CV 2/2; 6/12] END metric=euclidean, n_neighbors=15;, score=0.468 total time=  21.2s\n",
      "[CV 1/2; 7/12] START metric=manhattan, n_neighbors=5............................\n",
      "[CV 1/2; 7/12] END metric=manhattan, n_neighbors=5;, score=0.486 total time=  25.8s\n",
      "[CV 2/2; 7/12] START metric=manhattan, n_neighbors=5............................\n",
      "[CV 2/2; 7/12] END metric=manhattan, n_neighbors=5;, score=0.482 total time=  27.5s\n",
      "[CV 1/2; 8/12] START metric=manhattan, n_neighbors=7............................\n",
      "[CV 1/2; 8/12] END metric=manhattan, n_neighbors=7;, score=0.498 total time=  25.5s\n",
      "[CV 2/2; 8/12] START metric=manhattan, n_neighbors=7............................\n",
      "[CV 2/2; 8/12] END metric=manhattan, n_neighbors=7;, score=0.491 total time=  34.5s\n",
      "[CV 1/2; 9/12] START metric=manhattan, n_neighbors=9............................\n",
      "[CV 1/2; 9/12] END metric=manhattan, n_neighbors=9;, score=0.501 total time=  33.2s\n",
      "[CV 2/2; 9/12] START metric=manhattan, n_neighbors=9............................\n",
      "[CV 2/2; 9/12] END metric=manhattan, n_neighbors=9;, score=0.495 total time=  32.2s\n",
      "[CV 1/2; 10/12] START metric=manhattan, n_neighbors=11..........................\n",
      "[CV 1/2; 10/12] END metric=manhattan, n_neighbors=11;, score=0.508 total time=  32.0s\n",
      "[CV 2/2; 10/12] START metric=manhattan, n_neighbors=11..........................\n",
      "[CV 2/2; 10/12] END metric=manhattan, n_neighbors=11;, score=0.498 total time=  27.1s\n",
      "[CV 1/2; 11/12] START metric=manhattan, n_neighbors=13..........................\n",
      "[CV 1/2; 11/12] END metric=manhattan, n_neighbors=13;, score=0.506 total time=  25.5s\n",
      "[CV 2/2; 11/12] START metric=manhattan, n_neighbors=13..........................\n",
      "[CV 2/2; 11/12] END metric=manhattan, n_neighbors=13;, score=0.502 total time=  38.7s\n",
      "[CV 1/2; 12/12] START metric=manhattan, n_neighbors=15..........................\n",
      "[CV 1/2; 12/12] END metric=manhattan, n_neighbors=15;, score=0.506 total time=  27.2s\n",
      "[CV 2/2; 12/12] START metric=manhattan, n_neighbors=15..........................\n",
      "[CV 2/2; 12/12] END metric=manhattan, n_neighbors=15;, score=0.501 total time=  32.8s\n"
     ]
    }
   ],
   "source": [
    "from sklearn.model_selection import GridSearchCV\n",
    "from sklearn.neighbors import KNeighborsClassifier\n",
    "from sklearn.metrics import make_scorer\n",
    "from sklearn.metrics import f1_score\n",
    "\n",
    "# Define the scoring metric\n",
    "scorer = make_scorer(f1_score)\n",
    "\n",
    "model = KNeighborsClassifier()\n",
    "\n",
    "grid_space={'n_neighbors':[5,7,9,11,13,15],\n",
    "            'metric':['euclidean','manhattan']\n",
    "            }\n",
    "\n",
    "grid = GridSearchCV(model,param_grid=grid_space,cv=2,scoring=\"f1_micro\",verbose=10)\n",
    "\n",
    "model_grid = grid.fit(X_train,y_train)"
   ],
   "metadata": {
    "collapsed": false,
    "ExecuteTime": {
     "start_time": "2023-10-17T09:58:31.326896Z",
     "end_time": "2023-10-17T10:08:45.847282Z"
    }
   }
  },
  {
   "cell_type": "code",
   "execution_count": 12,
   "outputs": [
    {
     "name": "stdout",
     "output_type": "stream",
     "text": [
      "Best hyperparameters are: {'metric': 'manhattan', 'n_neighbors': 13}\n",
      "Best score is: 0.5042892099336675\n"
     ]
    }
   ],
   "source": [
    "print('Best hyperparameters are: '+str(model_grid.best_params_))\n",
    "print('Best score is: '+str(model_grid.best_score_))"
   ],
   "metadata": {
    "collapsed": false,
    "ExecuteTime": {
     "start_time": "2023-10-17T10:28:41.712835Z",
     "end_time": "2023-10-17T10:28:41.732052Z"
    }
   }
  },
  {
   "cell_type": "code",
   "execution_count": 56,
   "id": "ee7d30e4",
   "metadata": {
    "ExecuteTime": {
     "start_time": "2023-08-11T16:10:35.599613Z",
     "end_time": "2023-08-11T16:10:35.616994Z"
    }
   },
   "outputs": [
    {
     "data": {
      "text/plain": "KNeighborsClassifier(n_jobs=-1)",
      "text/html": "<style>#sk-container-id-7 {color: black;background-color: white;}#sk-container-id-7 pre{padding: 0;}#sk-container-id-7 div.sk-toggleable {background-color: white;}#sk-container-id-7 label.sk-toggleable__label {cursor: pointer;display: block;width: 100%;margin-bottom: 0;padding: 0.3em;box-sizing: border-box;text-align: center;}#sk-container-id-7 label.sk-toggleable__label-arrow:before {content: \"▸\";float: left;margin-right: 0.25em;color: #696969;}#sk-container-id-7 label.sk-toggleable__label-arrow:hover:before {color: black;}#sk-container-id-7 div.sk-estimator:hover label.sk-toggleable__label-arrow:before {color: black;}#sk-container-id-7 div.sk-toggleable__content {max-height: 0;max-width: 0;overflow: hidden;text-align: left;background-color: #f0f8ff;}#sk-container-id-7 div.sk-toggleable__content pre {margin: 0.2em;color: black;border-radius: 0.25em;background-color: #f0f8ff;}#sk-container-id-7 input.sk-toggleable__control:checked~div.sk-toggleable__content {max-height: 200px;max-width: 100%;overflow: auto;}#sk-container-id-7 input.sk-toggleable__control:checked~label.sk-toggleable__label-arrow:before {content: \"▾\";}#sk-container-id-7 div.sk-estimator input.sk-toggleable__control:checked~label.sk-toggleable__label {background-color: #d4ebff;}#sk-container-id-7 div.sk-label input.sk-toggleable__control:checked~label.sk-toggleable__label {background-color: #d4ebff;}#sk-container-id-7 input.sk-hidden--visually {border: 0;clip: rect(1px 1px 1px 1px);clip: rect(1px, 1px, 1px, 1px);height: 1px;margin: -1px;overflow: hidden;padding: 0;position: absolute;width: 1px;}#sk-container-id-7 div.sk-estimator {font-family: monospace;background-color: #f0f8ff;border: 1px dotted black;border-radius: 0.25em;box-sizing: border-box;margin-bottom: 0.5em;}#sk-container-id-7 div.sk-estimator:hover {background-color: #d4ebff;}#sk-container-id-7 div.sk-parallel-item::after {content: \"\";width: 100%;border-bottom: 1px solid gray;flex-grow: 1;}#sk-container-id-7 div.sk-label:hover label.sk-toggleable__label {background-color: #d4ebff;}#sk-container-id-7 div.sk-serial::before {content: \"\";position: absolute;border-left: 1px solid gray;box-sizing: border-box;top: 0;bottom: 0;left: 50%;z-index: 0;}#sk-container-id-7 div.sk-serial {display: flex;flex-direction: column;align-items: center;background-color: white;padding-right: 0.2em;padding-left: 0.2em;position: relative;}#sk-container-id-7 div.sk-item {position: relative;z-index: 1;}#sk-container-id-7 div.sk-parallel {display: flex;align-items: stretch;justify-content: center;background-color: white;position: relative;}#sk-container-id-7 div.sk-item::before, #sk-container-id-7 div.sk-parallel-item::before {content: \"\";position: absolute;border-left: 1px solid gray;box-sizing: border-box;top: 0;bottom: 0;left: 50%;z-index: -1;}#sk-container-id-7 div.sk-parallel-item {display: flex;flex-direction: column;z-index: 1;position: relative;background-color: white;}#sk-container-id-7 div.sk-parallel-item:first-child::after {align-self: flex-end;width: 50%;}#sk-container-id-7 div.sk-parallel-item:last-child::after {align-self: flex-start;width: 50%;}#sk-container-id-7 div.sk-parallel-item:only-child::after {width: 0;}#sk-container-id-7 div.sk-dashed-wrapped {border: 1px dashed gray;margin: 0 0.4em 0.5em 0.4em;box-sizing: border-box;padding-bottom: 0.4em;background-color: white;}#sk-container-id-7 div.sk-label label {font-family: monospace;font-weight: bold;display: inline-block;line-height: 1.2em;}#sk-container-id-7 div.sk-label-container {text-align: center;}#sk-container-id-7 div.sk-container {/* jupyter's `normalize.less` sets `[hidden] { display: none; }` but bootstrap.min.css set `[hidden] { display: none !important; }` so we also need the `!important` here to be able to override the default hidden behavior on the sphinx rendered scikit-learn.org. See: https://github.com/scikit-learn/scikit-learn/issues/21755 */display: inline-block !important;position: relative;}#sk-container-id-7 div.sk-text-repr-fallback {display: none;}</style><div id=\"sk-container-id-7\" class=\"sk-top-container\"><div class=\"sk-text-repr-fallback\"><pre>KNeighborsClassifier(n_jobs=-1)</pre><b>In a Jupyter environment, please rerun this cell to show the HTML representation or trust the notebook. <br />On GitHub, the HTML representation is unable to render, please try loading this page with nbviewer.org.</b></div><div class=\"sk-container\" hidden><div class=\"sk-item\"><div class=\"sk-estimator sk-toggleable\"><input class=\"sk-toggleable__control sk-hidden--visually\" id=\"sk-estimator-id-7\" type=\"checkbox\" checked><label for=\"sk-estimator-id-7\" class=\"sk-toggleable__label sk-toggleable__label-arrow\">KNeighborsClassifier</label><div class=\"sk-toggleable__content\"><pre>KNeighborsClassifier(n_jobs=-1)</pre></div></div></div></div></div>"
     },
     "execution_count": 56,
     "metadata": {},
     "output_type": "execute_result"
    }
   ],
   "source": [
    "from sklearn.neighbors import KNeighborsClassifier\n",
    "\n",
    "knn = KNeighborsClassifier(n_neighbors=5, n_jobs=-1)\n",
    "knn.fit(X_train, y_train)"
   ]
  },
  {
   "cell_type": "code",
   "execution_count": 57,
   "id": "b24f67b5",
   "metadata": {
    "ExecuteTime": {
     "start_time": "2023-08-11T16:10:39.189245Z",
     "end_time": "2023-08-11T16:10:44.997649Z"
    }
   },
   "outputs": [
    {
     "name": "stdout",
     "output_type": "stream",
     "text": [
      "1000\n",
      "56\n"
     ]
    }
   ],
   "source": [
    "y_pred = knn.predict(X_test)\n",
    "print(y_pred[0])\n",
    "print(y_test[0])"
   ]
  },
  {
   "cell_type": "code",
   "execution_count": 58,
   "id": "74ea1566",
   "metadata": {
    "ExecuteTime": {
     "start_time": "2023-08-11T16:10:55.787350Z",
     "end_time": "2023-08-11T16:10:55.816806Z"
    }
   },
   "outputs": [
    {
     "name": "stdout",
     "output_type": "stream",
     "text": [
      "              precision    recall  f1-score   support\n",
      "\n",
      "           7       0.41      0.71      0.52      1641\n",
      "          15       0.12      0.34      0.18       149\n",
      "          16       0.00      0.00      0.00        45\n",
      "          21       0.15      0.08      0.11        36\n",
      "          33       0.26      0.26      0.26      1654\n",
      "          56       0.57      0.53      0.55      2185\n",
      "          68       0.31      0.18      0.23      1655\n",
      "          95       0.22      0.10      0.14        96\n",
      "        1000       0.59      0.59      0.59       803\n",
      "        1001       0.30      0.19      0.23      1603\n",
      "\n",
      "    accuracy                           0.40      9867\n",
      "   macro avg       0.29      0.30      0.28      9867\n",
      "weighted avg       0.39      0.40      0.38      9867\n",
      "\n"
     ]
    }
   ],
   "source": [
    "from sklearn.metrics import classification_report\n",
    "\n",
    "print(classification_report(y_test, y_pred))"
   ]
  },
  {
   "cell_type": "code",
   "execution_count": 59,
   "outputs": [],
   "source": [
    "# Performance evaluation with verification data\n",
    "\n",
    "# Read data for X and y\n",
    "df7_verif = pd.read_csv(\"data/Test Clean/Separated by error type/7.csv\")\n",
    "df15_verif = pd.read_csv(\"data/Test Clean/Separated by error type/15.csv\").iloc[1:]\n",
    "df16_verif = pd.read_csv(\"data/Test Clean/Separated by error type/16.csv\").iloc[1:]\n",
    "df1000_verif = pd.read_csv(\"data/Test Clean/Separated by error type/1000.csv\").iloc[1:]\n",
    "\n",
    "df_verif = pd.concat([df7_verif, df15_verif, df16_verif, df1000_verif], ignore_index=True)\n",
    "\n",
    "X_verif = df_verif.drop(columns=['y']).values\n",
    "y_verif = df_verif['y'].values"
   ],
   "metadata": {
    "collapsed": false,
    "ExecuteTime": {
     "start_time": "2023-08-11T16:11:09.860658Z",
     "end_time": "2023-08-11T16:11:10.174724Z"
    }
   }
  },
  {
   "cell_type": "code",
   "execution_count": 60,
   "outputs": [
    {
     "name": "stdout",
     "output_type": "stream",
     "text": [
      "7\n"
     ]
    }
   ],
   "source": [
    "y_pred_verif = knn.predict(X_verif)\n",
    "print(y_pred_verif[0])"
   ],
   "metadata": {
    "collapsed": false,
    "ExecuteTime": {
     "start_time": "2023-08-11T16:11:11.856728Z",
     "end_time": "2023-08-11T16:12:14.352238Z"
    }
   }
  },
  {
   "cell_type": "code",
   "execution_count": 61,
   "outputs": [
    {
     "name": "stdout",
     "output_type": "stream",
     "text": [
      "              precision    recall  f1-score   support\n",
      "\n",
      "           7       0.97      0.54      0.69     76652\n",
      "          15       0.00      0.11      0.01       665\n",
      "          16       0.00      0.00      0.00        22\n",
      "          21       0.00      0.00      0.00         0\n",
      "          33       0.00      0.00      0.00         0\n",
      "          56       0.00      0.00      0.00         0\n",
      "          68       0.00      0.00      0.00         0\n",
      "          95       0.00      0.00      0.00         0\n",
      "        1000       0.09      0.30      0.14      2271\n",
      "        1001       0.00      0.00      0.00         0\n",
      "\n",
      "    accuracy                           0.53     79610\n",
      "   macro avg       0.11      0.09      0.08     79610\n",
      "weighted avg       0.94      0.53      0.67     79610\n",
      "\n"
     ]
    },
    {
     "name": "stderr",
     "output_type": "stream",
     "text": [
      "C:\\Users\\jkaszyda\\.conda\\envs\\DeepLearning\\lib\\site-packages\\sklearn\\metrics\\_classification.py:1344: UndefinedMetricWarning: Recall and F-score are ill-defined and being set to 0.0 in labels with no true samples. Use `zero_division` parameter to control this behavior.\n",
      "  _warn_prf(average, modifier, msg_start, len(result))\n",
      "C:\\Users\\jkaszyda\\.conda\\envs\\DeepLearning\\lib\\site-packages\\sklearn\\metrics\\_classification.py:1344: UndefinedMetricWarning: Recall and F-score are ill-defined and being set to 0.0 in labels with no true samples. Use `zero_division` parameter to control this behavior.\n",
      "  _warn_prf(average, modifier, msg_start, len(result))\n",
      "C:\\Users\\jkaszyda\\.conda\\envs\\DeepLearning\\lib\\site-packages\\sklearn\\metrics\\_classification.py:1344: UndefinedMetricWarning: Recall and F-score are ill-defined and being set to 0.0 in labels with no true samples. Use `zero_division` parameter to control this behavior.\n",
      "  _warn_prf(average, modifier, msg_start, len(result))\n"
     ]
    }
   ],
   "source": [
    "print(classification_report(y_verif, y_pred_verif))"
   ],
   "metadata": {
    "collapsed": false,
    "ExecuteTime": {
     "start_time": "2023-08-11T16:12:18.173499Z",
     "end_time": "2023-08-11T16:12:18.245769Z"
    }
   }
  },
  {
   "cell_type": "code",
   "execution_count": 20,
   "id": "47855f18",
   "metadata": {
    "ExecuteTime": {
     "start_time": "2023-08-10T11:49:00.475328Z",
     "end_time": "2023-08-10T11:49:01.799370Z"
    }
   },
   "outputs": [
    {
     "data": {
      "text/plain": "<Figure size 640x480 with 2 Axes>",
      "image/png": "[encoded data removed]"
     },
     "metadata": {},
     "output_type": "display_data"
    }
   ],
   "source": [
    "from sklearn.metrics import confusion_matrix, ConfusionMatrixDisplay\n",
    "import matplotlib.pyplot as plt\n",
    "\n",
    "cm = confusion_matrix(y_test, y_pred, labels=knn.classes_)\n",
    "disp = ConfusionMatrixDisplay(confusion_matrix=cm,display_labels=knn.classes_)\n",
    "disp.plot()\n",
    "plt.show()"
   ]
  }
 ],
 "metadata": {
  "kernelspec": {
   "display_name": "Python 3 (ipykernel)",
   "language": "python",
   "name": "python3"
  },
  "language_info": {
   "codemirror_mode": {
    "name": "ipython",
    "version": 3
   },
   "file_extension": ".py",
   "mimetype": "text/x-python",
   "name": "python",
   "nbconvert_exporter": "python",
   "pygments_lexer": "ipython3",
   "version": "3.9.16"
  }
 },
 "nbformat": 4,
 "nbformat_minor": 5
}
