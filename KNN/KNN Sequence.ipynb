{
 "cells": [
  {
   "cell_type": "markdown",
   "source": [
    "This notebook creates and trains a KNN model which deals with sequence encoded data."
   ],
   "metadata": {
    "collapsed": false
   }
  },
  {
   "cell_type": "code",
   "execution_count": 1,
   "outputs": [],
   "source": [
    "import pandas as pd\n",
    "\n",
    "# Possible critical alarm types\n",
    "critical_alarm_types = [7,15,16,21,33,56,68,95,1000,1001]\n",
    "df = pd.DataFrame()\n",
    "\n",
    "for i in critical_alarm_types:\n",
    "    # Replace the link according to the data you want to read (All, Unique Samples, Random Samples)\n",
    "    type_df = pd.read_csv(\"../Data/Final Data/Train/Random Samples/Sequences/\" + str(i) + \".csv\")\n",
    "    df = pd.concat([df, type_df], ignore_index=True)\n",
    "\n",
    "X = df.drop(columns=['y']).values\n",
    "y = df['y'].values"
   ],
   "metadata": {
    "collapsed": false,
    "ExecuteTime": {
     "start_time": "2023-11-24T23:31:36.303822Z",
     "end_time": "2023-11-24T23:31:38.355808Z"
    }
   }
  },
  {
   "cell_type": "markdown",
   "source": [
    "If you wish to perform an upsampling using SMOTE, run the following cell. If you do not wish to perform an upsampling, bypass the following cell and run the next one."
   ],
   "metadata": {
    "collapsed": false
   }
  },
  {
   "cell_type": "code",
   "execution_count": null,
   "id": "98187e9c",
   "metadata": {
    "ExecuteTime": {
     "start_time": "2023-08-11T15:55:49.720554Z",
     "end_time": "2023-08-11T15:55:51.738491Z"
    }
   },
   "outputs": [],
   "source": [
    "# Upsampling using SMOTE\n",
    "\n",
    "from imblearn.over_sampling import SMOTE\n",
    "\n",
    "# Apply SMOTE to balance the dataset\n",
    "sm = SMOTE(random_state=42)\n",
    "X, y = sm.fit_resample(X, y)"
   ]
  },
  {
   "cell_type": "code",
   "execution_count": null,
   "id": "b64c83bd",
   "metadata": {
    "ExecuteTime": {
     "start_time": "2023-11-09T09:14:52.507366Z",
     "end_time": "2023-11-09T09:14:52.754463Z"
    }
   },
   "outputs": [],
   "source": [
    "# Split the data into train and test sets\n",
    "\n",
    "from sklearn.model_selection import train_test_split\n",
    "\n",
    "X_train, X_test, y_train, y_test = train_test_split(X, y, test_size=0.33, random_state=42)"
   ]
  },
  {
   "cell_type": "code",
   "execution_count": null,
   "id": "ee7d30e4",
   "metadata": {
    "ExecuteTime": {
     "start_time": "2023-11-09T09:15:05.396649Z",
     "end_time": "2023-11-09T09:15:09.081759Z"
    }
   },
   "outputs": [],
   "source": [
    "# Creating the model\n",
    "\n",
    "from sklearn.neighbors import KNeighborsClassifier\n",
    "\n",
    "knn = KNeighborsClassifier(n_neighbors=15, metric='manhattan', n_jobs=-1)\n",
    "knn.fit(X_train, y_train)"
   ]
  },
  {
   "cell_type": "code",
   "execution_count": null,
   "outputs": [],
   "source": [
    "import joblib\n",
    "\n",
    "joblib.dump(knn, 'KNN_Unique_Sequence.joblib')"
   ],
   "metadata": {
    "collapsed": false,
    "ExecuteTime": {
     "start_time": "2023-11-09T11:02:05.132186Z",
     "end_time": "2023-11-09T11:02:05.180700Z"
    }
   }
  },
  {
   "cell_type": "code",
   "execution_count": null,
   "outputs": [],
   "source": [
    "# Prediction with test data\n",
    "\n",
    "y_pred = knn.predict(X_test)"
   ],
   "metadata": {
    "collapsed": false
   }
  },
  {
   "cell_type": "code",
   "execution_count": null,
   "outputs": [],
   "source": [
    "# Print classification report\n",
    "\n",
    "from sklearn.metrics import classification_report\n",
    "\n",
    "print(classification_report(y_test, y_pred))"
   ],
   "metadata": {
    "collapsed": false
   }
  },
  {
   "cell_type": "code",
   "execution_count": null,
   "id": "47855f18",
   "metadata": {
    "ExecuteTime": {
     "start_time": "2023-08-10T11:49:00.475328Z",
     "end_time": "2023-08-10T11:49:01.799370Z"
    }
   },
   "outputs": [],
   "source": [
    "# Print confusion matrix\n",
    "\n",
    "from sklearn.metrics import confusion_matrix, ConfusionMatrixDisplay\n",
    "import matplotlib.pyplot as plt\n",
    "\n",
    "cm = confusion_matrix(y_test, y_pred, labels=knn.classes_)\n",
    "disp = ConfusionMatrixDisplay(confusion_matrix=cm,display_labels=knn.classes_)\n",
    "disp.plot()\n",
    "plt.show()"
   ]
  }
 ],
 "metadata": {
  "kernelspec": {
   "display_name": "Python 3 (ipykernel)",
   "language": "python",
   "name": "python3"
  },
  "language_info": {
   "codemirror_mode": {
    "name": "ipython",
    "version": 3
   },
   "file_extension": ".py",
   "mimetype": "text/x-python",
   "name": "python",
   "nbconvert_exporter": "python",
   "pygments_lexer": "ipython3",
   "version": "3.9.16"
  }
 },
 "nbformat": 4,
 "nbformat_minor": 5
}
