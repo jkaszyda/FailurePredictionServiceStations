{
 "cells": [
  {
   "cell_type": "code",
   "execution_count": 1,
   "id": "3f8ba1c0",
   "metadata": {
    "ExecuteTime": {
     "start_time": "2023-07-10T17:37:36.969728Z",
     "end_time": "2023-07-10T17:37:45.420696Z"
    }
   },
   "outputs": [],
   "source": [
    "from sklearn.preprocessing import OneHotEncoder\n",
    "import csv\n",
    "import numpy as np\n",
    "import pandas as pd\n",
    "\n",
    "# Read data for X and y\n",
    "X = pd.read_csv(\"data\\X.csv\").values\n",
    "y = pd.read_csv(\"data\\y.csv\").values\n",
    "\n",
    "# Flatten list y\n",
    "y = [item for sublist in y for item in sublist]"
   ]
  },
  {
   "cell_type": "code",
   "execution_count": 2,
   "id": "24b6c0eb",
   "metadata": {
    "ExecuteTime": {
     "start_time": "2023-07-10T17:37:52.447265Z",
     "end_time": "2023-07-10T17:37:55.370374Z"
    }
   },
   "outputs": [],
   "source": [
    "from imblearn.over_sampling import RandomOverSampler\n",
    "from collections import Counter\n",
    "from imblearn.over_sampling import SMOTE\n",
    "\n",
    "# Apply SMOTE to balance the dataset\n",
    "#sm = SMOTE(random_state=42)\n",
    "#X_res, y_res = sm.fit_resample(X, y)\n",
    "\n",
    "oversampler = RandomOverSampler(random_state=42)\n",
    "X_res, y_res = oversampler.fit_resample(X,y)"
   ]
  },
  {
   "cell_type": "code",
   "execution_count": 3,
   "id": "9881b9ce",
   "metadata": {
    "ExecuteTime": {
     "start_time": "2023-07-10T17:37:58.148614Z",
     "end_time": "2023-07-10T17:38:07.316092Z"
    }
   },
   "outputs": [],
   "source": [
    "# One-hot-encoding for sequences in X\n",
    "import numpy as np\n",
    "\n",
    "list_of_sequences = X_res\n",
    "\n",
    "# Create a set of unique IDs\n",
    "unique_ids = set()\n",
    "for sequence in list_of_sequences:\n",
    "    unique_ids.update(sequence)\n",
    "\n",
    "# Convert the set to a sorted list\n",
    "sorted_unique_ids = sorted(unique_ids)\n",
    "\n",
    "# Create a dictionary mapping each ID to its index\n",
    "id_to_index = {id: index for index, id in enumerate(sorted_unique_ids)}\n",
    "\n",
    "# One-hot encode each sequence separately\n",
    "encoded_sequences = []\n",
    "for sequence in list_of_sequences:\n",
    "    encoded_sequence = np.zeros((len(sequence), len(sorted_unique_ids)), dtype=int)\n",
    "    for i, id in enumerate(sequence):\n",
    "        index = id_to_index[id]\n",
    "        encoded_sequence[i, index] = 1\n",
    "    encoded_sequences.append(encoded_sequence)\n",
    "\n",
    "X_res = encoded_sequences"
   ]
  },
  {
   "cell_type": "code",
   "execution_count": 4,
   "id": "288060de",
   "metadata": {
    "ExecuteTime": {
     "start_time": "2023-07-10T17:38:12.731911Z",
     "end_time": "2023-07-10T17:38:16.899815Z"
    }
   },
   "outputs": [],
   "source": [
    "# Flatten nested list in order to pass it to the model\n",
    "\n",
    "flattened_X = np.array([np.array(row).flatten() for row in X_res])"
   ]
  },
  {
   "cell_type": "code",
   "execution_count": 5,
   "id": "5e90f9f7",
   "metadata": {
    "ExecuteTime": {
     "start_time": "2023-07-10T17:39:29.735442Z",
     "end_time": "2023-07-10T17:39:30.054965Z"
    }
   },
   "outputs": [],
   "source": [
    "from sklearn.model_selection import train_test_split\n",
    "\n",
    "X_train, X_test, y_train, y_test = train_test_split(flattened_X, y_res, random_state = 42, test_size = 0.33)"
   ]
  },
  {
   "cell_type": "code",
   "execution_count": 6,
   "outputs": [
    {
     "name": "stdout",
     "output_type": "stream",
     "text": [
      "Fitting 3 folds for each of 36 candidates, totalling 108 fits\n",
      "[CV 1/3; 1/36] START metric=minkowski, n_neighbors=5, weights=uniform...........\n",
      "[CV 2/3; 1/36] START metric=minkowski, n_neighbors=5, weights=uniform...........\n",
      "[CV 3/3; 1/36] START metric=minkowski, n_neighbors=5, weights=uniform...........\n",
      "[CV 1/3; 2/36] START metric=minkowski, n_neighbors=5, weights=distance..........\n",
      "[CV 1/3; 2/36] END metric=minkowski, n_neighbors=5, weights=distance;, score=0.760 total time=  47.8s\n",
      "[CV 2/3; 2/36] START metric=minkowski, n_neighbors=5, weights=distance..........\n",
      "[CV 1/3; 1/36] END metric=minkowski, n_neighbors=5, weights=uniform;, score=0.721 total time= 1.1min\n",
      "[CV 3/3; 2/36] START metric=minkowski, n_neighbors=5, weights=distance..........\n",
      "[CV 2/3; 1/36] END metric=minkowski, n_neighbors=5, weights=uniform;, score=0.707 total time= 1.5min\n",
      "[CV 1/3; 3/36] START metric=minkowski, n_neighbors=7, weights=uniform...........\n",
      "[CV 3/3; 1/36] END metric=minkowski, n_neighbors=5, weights=uniform;, score=0.717 total time= 1.9min\n",
      "[CV 2/3; 3/36] START metric=minkowski, n_neighbors=7, weights=uniform...........\n",
      "[CV 2/3; 2/36] END metric=minkowski, n_neighbors=5, weights=distance;, score=0.751 total time= 1.4min\n",
      "[CV 3/3; 3/36] START metric=minkowski, n_neighbors=7, weights=uniform...........\n",
      "[CV 3/3; 2/36] END metric=minkowski, n_neighbors=5, weights=distance;, score=0.762 total time= 1.4min\n",
      "[CV 1/3; 4/36] START metric=minkowski, n_neighbors=7, weights=distance..........\n",
      "[CV 1/3; 3/36] END metric=minkowski, n_neighbors=7, weights=uniform;, score=0.711 total time= 1.4min\n",
      "[CV 2/3; 4/36] START metric=minkowski, n_neighbors=7, weights=distance..........\n",
      "[CV 2/3; 3/36] END metric=minkowski, n_neighbors=7, weights=uniform;, score=0.698 total time= 1.4min\n",
      "[CV 3/3; 4/36] START metric=minkowski, n_neighbors=7, weights=distance..........\n",
      "[CV 3/3; 3/36] END metric=minkowski, n_neighbors=7, weights=uniform;, score=0.713 total time= 1.4min\n",
      "[CV 1/3; 5/36] START metric=minkowski, n_neighbors=9, weights=uniform...........\n",
      "[CV 1/3; 4/36] END metric=minkowski, n_neighbors=7, weights=distance;, score=0.764 total time= 1.3min\n",
      "[CV 2/3; 5/36] START metric=minkowski, n_neighbors=9, weights=uniform...........\n",
      "[CV 2/3; 4/36] END metric=minkowski, n_neighbors=7, weights=distance;, score=0.749 total time= 1.3min\n",
      "[CV 3/3; 5/36] START metric=minkowski, n_neighbors=9, weights=uniform...........\n",
      "[CV 3/3; 4/36] END metric=minkowski, n_neighbors=7, weights=distance;, score=0.767 total time= 1.3min\n",
      "[CV 1/3; 6/36] START metric=minkowski, n_neighbors=9, weights=distance..........\n",
      "[CV 1/3; 5/36] END metric=minkowski, n_neighbors=9, weights=uniform;, score=0.702 total time= 1.3min\n",
      "[CV 2/3; 6/36] START metric=minkowski, n_neighbors=9, weights=distance..........\n",
      "[CV 2/3; 5/36] END metric=minkowski, n_neighbors=9, weights=uniform;, score=0.697 total time= 1.3min\n",
      "[CV 3/3; 6/36] START metric=minkowski, n_neighbors=9, weights=distance..........\n",
      "[CV 3/3; 5/36] END metric=minkowski, n_neighbors=9, weights=uniform;, score=0.704 total time= 1.3min\n",
      "[CV 1/3; 7/36] START metric=minkowski, n_neighbors=11, weights=uniform..........\n",
      "[CV 1/3; 6/36] END metric=minkowski, n_neighbors=9, weights=distance;, score=0.764 total time= 1.4min\n",
      "[CV 2/3; 7/36] START metric=minkowski, n_neighbors=11, weights=uniform..........\n",
      "[CV 2/3; 6/36] END metric=minkowski, n_neighbors=9, weights=distance;, score=0.758 total time= 1.3min\n",
      "[CV 3/3; 7/36] START metric=minkowski, n_neighbors=11, weights=uniform..........\n",
      "[CV 3/3; 6/36] END metric=minkowski, n_neighbors=9, weights=distance;, score=0.767 total time= 1.4min\n",
      "[CV 1/3; 8/36] START metric=minkowski, n_neighbors=11, weights=distance.........\n",
      "[CV 1/3; 7/36] END metric=minkowski, n_neighbors=11, weights=uniform;, score=0.697 total time= 1.4min\n",
      "[CV 2/3; 8/36] START metric=minkowski, n_neighbors=11, weights=distance.........\n",
      "[CV 2/3; 7/36] END metric=minkowski, n_neighbors=11, weights=uniform;, score=0.691 total time= 1.4min\n",
      "[CV 3/3; 8/36] START metric=minkowski, n_neighbors=11, weights=distance.........\n",
      "[CV 3/3; 7/36] END metric=minkowski, n_neighbors=11, weights=uniform;, score=0.694 total time= 1.4min\n",
      "[CV 1/3; 9/36] START metric=minkowski, n_neighbors=13, weights=uniform..........\n",
      "[CV 1/3; 8/36] END metric=minkowski, n_neighbors=11, weights=distance;, score=0.763 total time= 1.3min\n",
      "[CV 2/3; 9/36] START metric=minkowski, n_neighbors=13, weights=uniform..........\n",
      "[CV 2/3; 8/36] END metric=minkowski, n_neighbors=11, weights=distance;, score=0.756 total time= 1.3min\n",
      "[CV 3/3; 9/36] START metric=minkowski, n_neighbors=13, weights=uniform..........\n",
      "[CV 3/3; 8/36] END metric=minkowski, n_neighbors=11, weights=distance;, score=0.763 total time= 1.3min\n",
      "[CV 1/3; 10/36] START metric=minkowski, n_neighbors=13, weights=distance........\n",
      "[CV 1/3; 9/36] END metric=minkowski, n_neighbors=13, weights=uniform;, score=0.691 total time= 1.4min\n",
      "[CV 2/3; 10/36] START metric=minkowski, n_neighbors=13, weights=distance........\n",
      "[CV 2/3; 9/36] END metric=minkowski, n_neighbors=13, weights=uniform;, score=0.684 total time= 1.5min\n",
      "[CV 3/3; 10/36] START metric=minkowski, n_neighbors=13, weights=distance........\n",
      "[CV 3/3; 9/36] END metric=minkowski, n_neighbors=13, weights=uniform;, score=0.686 total time= 1.6min\n",
      "[CV 1/3; 11/36] START metric=minkowski, n_neighbors=15, weights=uniform.........\n",
      "[CV 1/3; 10/36] END metric=minkowski, n_neighbors=13, weights=distance;, score=0.762 total time= 1.6min\n",
      "[CV 2/3; 11/36] START metric=minkowski, n_neighbors=15, weights=uniform.........\n",
      "[CV 2/3; 10/36] END metric=minkowski, n_neighbors=13, weights=distance;, score=0.754 total time= 1.4min\n",
      "[CV 3/3; 11/36] START metric=minkowski, n_neighbors=15, weights=uniform.........\n",
      "[CV 3/3; 10/36] END metric=minkowski, n_neighbors=13, weights=distance;, score=0.765 total time= 1.3min\n",
      "[CV 1/3; 12/36] START metric=minkowski, n_neighbors=15, weights=distance........\n",
      "[CV 1/3; 11/36] END metric=minkowski, n_neighbors=15, weights=uniform;, score=0.683 total time= 1.3min\n",
      "[CV 2/3; 12/36] START metric=minkowski, n_neighbors=15, weights=distance........\n",
      "[CV 2/3; 11/36] END metric=minkowski, n_neighbors=15, weights=uniform;, score=0.681 total time= 1.3min\n",
      "[CV 3/3; 12/36] START metric=minkowski, n_neighbors=15, weights=distance........\n",
      "[CV 3/3; 11/36] END metric=minkowski, n_neighbors=15, weights=uniform;, score=0.682 total time= 1.3min\n",
      "[CV 1/3; 13/36] START metric=euclidean, n_neighbors=5, weights=uniform..........\n",
      "[CV 1/3; 12/36] END metric=minkowski, n_neighbors=15, weights=distance;, score=0.760 total time= 1.3min\n",
      "[CV 2/3; 13/36] START metric=euclidean, n_neighbors=5, weights=uniform..........\n",
      "[CV 2/3; 12/36] END metric=minkowski, n_neighbors=15, weights=distance;, score=0.754 total time= 1.4min\n",
      "[CV 3/3; 13/36] START metric=euclidean, n_neighbors=5, weights=uniform..........\n",
      "[CV 3/3; 12/36] END metric=minkowski, n_neighbors=15, weights=distance;, score=0.767 total time= 1.4min\n",
      "[CV 1/3; 14/36] START metric=euclidean, n_neighbors=5, weights=distance.........\n",
      "[CV 1/3; 13/36] END metric=euclidean, n_neighbors=5, weights=uniform;, score=0.721 total time= 1.4min\n",
      "[CV 2/3; 14/36] START metric=euclidean, n_neighbors=5, weights=distance.........\n",
      "[CV 2/3; 13/36] END metric=euclidean, n_neighbors=5, weights=uniform;, score=0.707 total time= 1.4min\n",
      "[CV 3/3; 14/36] START metric=euclidean, n_neighbors=5, weights=distance.........\n",
      "[CV 3/3; 13/36] END metric=euclidean, n_neighbors=5, weights=uniform;, score=0.717 total time= 1.3min\n",
      "[CV 1/3; 15/36] START metric=euclidean, n_neighbors=7, weights=uniform..........\n",
      "[CV 1/3; 14/36] END metric=euclidean, n_neighbors=5, weights=distance;, score=0.760 total time= 1.3min\n",
      "[CV 2/3; 15/36] START metric=euclidean, n_neighbors=7, weights=uniform..........\n",
      "[CV 2/3; 14/36] END metric=euclidean, n_neighbors=5, weights=distance;, score=0.751 total time= 1.3min\n",
      "[CV 3/3; 15/36] START metric=euclidean, n_neighbors=7, weights=uniform..........\n",
      "[CV 3/3; 14/36] END metric=euclidean, n_neighbors=5, weights=distance;, score=0.762 total time= 1.3min\n",
      "[CV 1/3; 16/36] START metric=euclidean, n_neighbors=7, weights=distance.........\n",
      "[CV 1/3; 15/36] END metric=euclidean, n_neighbors=7, weights=uniform;, score=0.711 total time= 1.3min\n",
      "[CV 2/3; 16/36] START metric=euclidean, n_neighbors=7, weights=distance.........\n",
      "[CV 2/3; 15/36] END metric=euclidean, n_neighbors=7, weights=uniform;, score=0.698 total time= 1.3min\n",
      "[CV 3/3; 16/36] START metric=euclidean, n_neighbors=7, weights=distance.........\n",
      "[CV 3/3; 15/36] END metric=euclidean, n_neighbors=7, weights=uniform;, score=0.713 total time= 1.3min\n",
      "[CV 1/3; 17/36] START metric=euclidean, n_neighbors=9, weights=uniform..........\n",
      "[CV 1/3; 16/36] END metric=euclidean, n_neighbors=7, weights=distance;, score=0.764 total time= 1.3min\n",
      "[CV 2/3; 17/36] START metric=euclidean, n_neighbors=9, weights=uniform..........\n",
      "[CV 2/3; 16/36] END metric=euclidean, n_neighbors=7, weights=distance;, score=0.749 total time= 1.3min\n",
      "[CV 3/3; 17/36] START metric=euclidean, n_neighbors=9, weights=uniform..........\n",
      "[CV 3/3; 16/36] END metric=euclidean, n_neighbors=7, weights=distance;, score=0.767 total time= 1.3min\n",
      "[CV 1/3; 18/36] START metric=euclidean, n_neighbors=9, weights=distance.........\n",
      "[CV 1/3; 17/36] END metric=euclidean, n_neighbors=9, weights=uniform;, score=0.702 total time= 1.3min\n",
      "[CV 2/3; 18/36] START metric=euclidean, n_neighbors=9, weights=distance.........\n",
      "[CV 2/3; 17/36] END metric=euclidean, n_neighbors=9, weights=uniform;, score=0.697 total time= 1.3min\n",
      "[CV 3/3; 18/36] START metric=euclidean, n_neighbors=9, weights=distance.........\n",
      "[CV 3/3; 17/36] END metric=euclidean, n_neighbors=9, weights=uniform;, score=0.704 total time= 1.3min\n",
      "[CV 1/3; 19/36] START metric=euclidean, n_neighbors=11, weights=uniform.........\n",
      "[CV 1/3; 18/36] END metric=euclidean, n_neighbors=9, weights=distance;, score=0.764 total time= 1.2min\n",
      "[CV 2/3; 19/36] START metric=euclidean, n_neighbors=11, weights=uniform.........\n",
      "[CV 2/3; 18/36] END metric=euclidean, n_neighbors=9, weights=distance;, score=0.758 total time= 1.2min\n",
      "[CV 3/3; 19/36] START metric=euclidean, n_neighbors=11, weights=uniform.........\n",
      "[CV 3/3; 18/36] END metric=euclidean, n_neighbors=9, weights=distance;, score=0.767 total time= 1.2min\n",
      "[CV 1/3; 20/36] START metric=euclidean, n_neighbors=11, weights=distance........\n",
      "[CV 1/3; 19/36] END metric=euclidean, n_neighbors=11, weights=uniform;, score=0.697 total time= 1.3min\n",
      "[CV 2/3; 20/36] START metric=euclidean, n_neighbors=11, weights=distance........\n",
      "[CV 2/3; 19/36] END metric=euclidean, n_neighbors=11, weights=uniform;, score=0.691 total time= 1.3min\n",
      "[CV 3/3; 20/36] START metric=euclidean, n_neighbors=11, weights=distance........\n",
      "[CV 3/3; 19/36] END metric=euclidean, n_neighbors=11, weights=uniform;, score=0.694 total time= 1.3min\n",
      "[CV 1/3; 21/36] START metric=euclidean, n_neighbors=13, weights=uniform.........\n",
      "[CV 1/3; 20/36] END metric=euclidean, n_neighbors=11, weights=distance;, score=0.763 total time= 1.3min\n",
      "[CV 2/3; 21/36] START metric=euclidean, n_neighbors=13, weights=uniform.........\n",
      "[CV 2/3; 20/36] END metric=euclidean, n_neighbors=11, weights=distance;, score=0.756 total time= 1.2min\n",
      "[CV 3/3; 21/36] START metric=euclidean, n_neighbors=13, weights=uniform.........\n",
      "[CV 3/3; 20/36] END metric=euclidean, n_neighbors=11, weights=distance;, score=0.763 total time= 1.2min\n",
      "[CV 1/3; 22/36] START metric=euclidean, n_neighbors=13, weights=distance........\n",
      "[CV 1/3; 21/36] END metric=euclidean, n_neighbors=13, weights=uniform;, score=0.691 total time= 1.3min\n",
      "[CV 2/3; 22/36] START metric=euclidean, n_neighbors=13, weights=distance........\n",
      "[CV 2/3; 21/36] END metric=euclidean, n_neighbors=13, weights=uniform;, score=0.684 total time= 1.3min\n",
      "[CV 3/3; 22/36] START metric=euclidean, n_neighbors=13, weights=distance........\n",
      "[CV 3/3; 21/36] END metric=euclidean, n_neighbors=13, weights=uniform;, score=0.686 total time= 1.3min\n",
      "[CV 1/3; 23/36] START metric=euclidean, n_neighbors=15, weights=uniform.........\n",
      "[CV 1/3; 22/36] END metric=euclidean, n_neighbors=13, weights=distance;, score=0.762 total time= 1.3min\n",
      "[CV 2/3; 23/36] START metric=euclidean, n_neighbors=15, weights=uniform.........\n",
      "[CV 2/3; 22/36] END metric=euclidean, n_neighbors=13, weights=distance;, score=0.754 total time= 1.3min\n",
      "[CV 3/3; 23/36] START metric=euclidean, n_neighbors=15, weights=uniform.........\n",
      "[CV 3/3; 22/36] END metric=euclidean, n_neighbors=13, weights=distance;, score=0.765 total time= 1.3min\n",
      "[CV 1/3; 24/36] START metric=euclidean, n_neighbors=15, weights=distance........\n",
      "[CV 1/3; 23/36] END metric=euclidean, n_neighbors=15, weights=uniform;, score=0.683 total time= 1.3min\n",
      "[CV 2/3; 24/36] START metric=euclidean, n_neighbors=15, weights=distance........\n",
      "[CV 2/3; 23/36] END metric=euclidean, n_neighbors=15, weights=uniform;, score=0.681 total time= 1.3min\n",
      "[CV 3/3; 24/36] START metric=euclidean, n_neighbors=15, weights=distance........\n",
      "[CV 3/3; 23/36] END metric=euclidean, n_neighbors=15, weights=uniform;, score=0.682 total time= 1.3min\n",
      "[CV 1/3; 25/36] START metric=manhattan, n_neighbors=5, weights=uniform..........\n",
      "[CV 1/3; 24/36] END metric=euclidean, n_neighbors=15, weights=distance;, score=0.760 total time= 1.3min\n",
      "[CV 2/3; 25/36] START metric=manhattan, n_neighbors=5, weights=uniform..........\n",
      "[CV 2/3; 24/36] END metric=euclidean, n_neighbors=15, weights=distance;, score=0.754 total time= 1.3min\n",
      "[CV 3/3; 25/36] START metric=manhattan, n_neighbors=5, weights=uniform..........\n",
      "[CV 3/3; 24/36] END metric=euclidean, n_neighbors=15, weights=distance;, score=0.767 total time= 1.5min\n",
      "[CV 1/3; 26/36] START metric=manhattan, n_neighbors=5, weights=distance.........\n",
      "[CV 1/3; 25/36] END metric=manhattan, n_neighbors=5, weights=uniform;, score=0.721 total time=13.2min\n",
      "[CV 2/3; 26/36] START metric=manhattan, n_neighbors=5, weights=distance.........\n",
      "[CV 3/3; 25/36] END metric=manhattan, n_neighbors=5, weights=uniform;, score=0.717 total time=12.5min\n",
      "[CV 3/3; 26/36] START metric=manhattan, n_neighbors=5, weights=distance.........\n",
      "[CV 2/3; 25/36] END metric=manhattan, n_neighbors=5, weights=uniform;, score=0.707 total time=13.0min\n",
      "[CV 1/3; 27/36] START metric=manhattan, n_neighbors=7, weights=uniform..........\n",
      "[CV 1/3; 26/36] END metric=manhattan, n_neighbors=5, weights=distance;, score=0.761 total time=12.5min\n",
      "[CV 2/3; 27/36] START metric=manhattan, n_neighbors=7, weights=uniform..........\n",
      "[CV 3/3; 26/36] END metric=manhattan, n_neighbors=5, weights=distance;, score=0.762 total time=13.1min\n",
      "[CV 3/3; 27/36] START metric=manhattan, n_neighbors=7, weights=uniform..........\n",
      "[CV 2/3; 26/36] END metric=manhattan, n_neighbors=5, weights=distance;, score=0.751 total time=13.1min\n",
      "[CV 1/3; 28/36] START metric=manhattan, n_neighbors=7, weights=distance.........\n",
      "[CV 1/3; 27/36] END metric=manhattan, n_neighbors=7, weights=uniform;, score=0.711 total time=13.2min\n",
      "[CV 2/3; 28/36] START metric=manhattan, n_neighbors=7, weights=distance.........\n",
      "[CV 2/3; 27/36] END metric=manhattan, n_neighbors=7, weights=uniform;, score=0.698 total time=13.0min\n",
      "[CV 3/3; 28/36] START metric=manhattan, n_neighbors=7, weights=distance.........\n",
      "[CV 3/3; 27/36] END metric=manhattan, n_neighbors=7, weights=uniform;, score=0.713 total time=14.5min\n",
      "[CV 1/3; 29/36] START metric=manhattan, n_neighbors=9, weights=uniform..........\n",
      "[CV 1/3; 28/36] END metric=manhattan, n_neighbors=7, weights=distance;, score=0.764 total time=14.6min\n",
      "[CV 2/3; 29/36] START metric=manhattan, n_neighbors=9, weights=uniform..........\n",
      "[CV 2/3; 28/36] END metric=manhattan, n_neighbors=7, weights=distance;, score=0.750 total time=14.6min\n",
      "[CV 3/3; 29/36] START metric=manhattan, n_neighbors=9, weights=uniform..........\n",
      "[CV 3/3; 28/36] END metric=manhattan, n_neighbors=7, weights=distance;, score=0.767 total time=14.5min\n",
      "[CV 1/3; 30/36] START metric=manhattan, n_neighbors=9, weights=distance.........\n",
      "[CV 1/3; 29/36] END metric=manhattan, n_neighbors=9, weights=uniform;, score=0.702 total time=14.6min\n",
      "[CV 2/3; 30/36] START metric=manhattan, n_neighbors=9, weights=distance.........\n",
      "[CV 2/3; 29/36] END metric=manhattan, n_neighbors=9, weights=uniform;, score=0.697 total time=14.7min\n",
      "[CV 3/3; 30/36] START metric=manhattan, n_neighbors=9, weights=distance.........\n",
      "[CV 1/3; 30/36] END metric=manhattan, n_neighbors=9, weights=distance;, score=0.763 total time=14.6min\n",
      "[CV 1/3; 31/36] START metric=manhattan, n_neighbors=11, weights=uniform.........\n",
      "[CV 3/3; 29/36] END metric=manhattan, n_neighbors=9, weights=uniform;, score=0.704 total time=14.7min\n",
      "[CV 2/3; 31/36] START metric=manhattan, n_neighbors=11, weights=uniform.........\n",
      "[CV 2/3; 30/36] END metric=manhattan, n_neighbors=9, weights=distance;, score=0.759 total time=14.8min\n",
      "[CV 3/3; 31/36] START metric=manhattan, n_neighbors=11, weights=uniform.........\n",
      "[CV 3/3; 30/36] END metric=manhattan, n_neighbors=9, weights=distance;, score=0.768 total time=15.0min\n",
      "[CV 1/3; 32/36] START metric=manhattan, n_neighbors=11, weights=distance........\n",
      "[CV 1/3; 31/36] END metric=manhattan, n_neighbors=11, weights=uniform;, score=0.697 total time=14.9min\n",
      "[CV 2/3; 32/36] START metric=manhattan, n_neighbors=11, weights=distance........\n",
      "[CV 2/3; 31/36] END metric=manhattan, n_neighbors=11, weights=uniform;, score=0.691 total time=15.0min\n",
      "[CV 3/3; 32/36] START metric=manhattan, n_neighbors=11, weights=distance........\n",
      "[CV 3/3; 31/36] END metric=manhattan, n_neighbors=11, weights=uniform;, score=0.694 total time=15.5min\n",
      "[CV 1/3; 33/36] START metric=manhattan, n_neighbors=13, weights=uniform.........\n",
      "[CV 1/3; 32/36] END metric=manhattan, n_neighbors=11, weights=distance;, score=0.763 total time=15.5min\n",
      "[CV 2/3; 33/36] START metric=manhattan, n_neighbors=13, weights=uniform.........\n",
      "[CV 2/3; 32/36] END metric=manhattan, n_neighbors=11, weights=distance;, score=0.757 total time=15.5min\n",
      "[CV 3/3; 33/36] START metric=manhattan, n_neighbors=13, weights=uniform.........\n",
      "[CV 3/3; 32/36] END metric=manhattan, n_neighbors=11, weights=distance;, score=0.764 total time=15.6min\n",
      "[CV 1/3; 34/36] START metric=manhattan, n_neighbors=13, weights=distance........\n",
      "[CV 1/3; 33/36] END metric=manhattan, n_neighbors=13, weights=uniform;, score=0.691 total time=15.5min\n",
      "[CV 2/3; 34/36] START metric=manhattan, n_neighbors=13, weights=distance........\n",
      "[CV 3/3; 33/36] END metric=manhattan, n_neighbors=13, weights=uniform;, score=0.686 total time=15.4min\n",
      "[CV 3/3; 34/36] START metric=manhattan, n_neighbors=13, weights=distance........\n",
      "[CV 2/3; 33/36] END metric=manhattan, n_neighbors=13, weights=uniform;, score=0.684 total time=15.5min\n",
      "[CV 1/3; 35/36] START metric=manhattan, n_neighbors=15, weights=uniform.........\n",
      "[CV 1/3; 34/36] END metric=manhattan, n_neighbors=13, weights=distance;, score=0.763 total time=15.5min\n",
      "[CV 2/3; 35/36] START metric=manhattan, n_neighbors=15, weights=uniform.........\n",
      "[CV 2/3; 34/36] END metric=manhattan, n_neighbors=13, weights=distance;, score=0.754 total time=15.5min\n",
      "[CV 3/3; 35/36] START metric=manhattan, n_neighbors=15, weights=uniform.........\n",
      "[CV 3/3; 34/36] END metric=manhattan, n_neighbors=13, weights=distance;, score=0.767 total time=15.5min\n",
      "[CV 1/3; 36/36] START metric=manhattan, n_neighbors=15, weights=distance........\n",
      "[CV 1/3; 35/36] END metric=manhattan, n_neighbors=15, weights=uniform;, score=0.683 total time=15.5min\n",
      "[CV 2/3; 36/36] START metric=manhattan, n_neighbors=15, weights=distance........\n",
      "[CV 2/3; 35/36] END metric=manhattan, n_neighbors=15, weights=uniform;, score=0.681 total time=15.5min\n",
      "[CV 3/3; 36/36] START metric=manhattan, n_neighbors=15, weights=distance........\n",
      "[CV 3/3; 35/36] END metric=manhattan, n_neighbors=15, weights=uniform;, score=0.682 total time=15.3min\n",
      "[CV 1/3; 36/36] END metric=manhattan, n_neighbors=15, weights=distance;, score=0.761 total time=15.2min\n",
      "[CV 2/3; 36/36] END metric=manhattan, n_neighbors=15, weights=distance;, score=0.755 total time=15.2min\n",
      "[CV 3/3; 36/36] END metric=manhattan, n_neighbors=15, weights=distance;, score=0.768 total time=15.0min\n"
     ]
    }
   ],
   "source": [
    "from sklearn.model_selection import GridSearchCV\n",
    "from sklearn.neighbors import KNeighborsClassifier\n",
    "from sklearn.metrics import make_scorer\n",
    "from sklearn.metrics import f1_score\n",
    "import joblib\n",
    "\n",
    "# Define the scoring metric\n",
    "scorer = make_scorer(f1_score)\n",
    "\n",
    "model = KNeighborsClassifier()\n",
    "\n",
    "grid_space={'n_neighbors':[5,7,9,11,13,15],\n",
    "            'weights':['uniform','distance'],\n",
    "            'metric':['minkowski','euclidean','manhattan']\n",
    "            }\n",
    "\n",
    "grid = GridSearchCV(model,param_grid=grid_space,cv=3,scoring=\"f1_micro\",verbose=10, n_jobs=4)\n",
    "\n",
    "# Enable verbose logging using joblib\n",
    "joblib.parallel_backend('threading')\n",
    "\n",
    "model_grid = grid.fit(X_train,y_train)"
   ],
   "metadata": {
    "collapsed": false,
    "ExecuteTime": {
     "start_time": "2023-07-10T17:39:55.999404Z",
     "end_time": "2023-07-10T20:15:46.397254Z"
    }
   }
  },
  {
   "cell_type": "code",
   "execution_count": 7,
   "outputs": [
    {
     "name": "stdout",
     "output_type": "stream",
     "text": [
      "Best hyperparameters are: {'metric': 'manhattan', 'n_neighbors': 9, 'weights': 'distance'}\n",
      "Best score is: 0.7633577499077399\n"
     ]
    }
   ],
   "source": [
    "print('Best hyperparameters are: '+str(model_grid.best_params_))\n",
    "print('Best score is: '+str(model_grid.best_score_))"
   ],
   "metadata": {
    "collapsed": false,
    "ExecuteTime": {
     "start_time": "2023-07-10T20:32:25.556974Z",
     "end_time": "2023-07-10T20:32:25.630109Z"
    }
   }
  },
  {
   "cell_type": "code",
   "execution_count": 59,
   "id": "78014e21",
   "metadata": {},
   "outputs": [
    {
     "data": {
      "text/html": [
       "<style>#sk-container-id-5 {color: black;background-color: white;}#sk-container-id-5 pre{padding: 0;}#sk-container-id-5 div.sk-toggleable {background-color: white;}#sk-container-id-5 label.sk-toggleable__label {cursor: pointer;display: block;width: 100%;margin-bottom: 0;padding: 0.3em;box-sizing: border-box;text-align: center;}#sk-container-id-5 label.sk-toggleable__label-arrow:before {content: \"▸\";float: left;margin-right: 0.25em;color: #696969;}#sk-container-id-5 label.sk-toggleable__label-arrow:hover:before {color: black;}#sk-container-id-5 div.sk-estimator:hover label.sk-toggleable__label-arrow:before {color: black;}#sk-container-id-5 div.sk-toggleable__content {max-height: 0;max-width: 0;overflow: hidden;text-align: left;background-color: #f0f8ff;}#sk-container-id-5 div.sk-toggleable__content pre {margin: 0.2em;color: black;border-radius: 0.25em;background-color: #f0f8ff;}#sk-container-id-5 input.sk-toggleable__control:checked~div.sk-toggleable__content {max-height: 200px;max-width: 100%;overflow: auto;}#sk-container-id-5 input.sk-toggleable__control:checked~label.sk-toggleable__label-arrow:before {content: \"▾\";}#sk-container-id-5 div.sk-estimator input.sk-toggleable__control:checked~label.sk-toggleable__label {background-color: #d4ebff;}#sk-container-id-5 div.sk-label input.sk-toggleable__control:checked~label.sk-toggleable__label {background-color: #d4ebff;}#sk-container-id-5 input.sk-hidden--visually {border: 0;clip: rect(1px 1px 1px 1px);clip: rect(1px, 1px, 1px, 1px);height: 1px;margin: -1px;overflow: hidden;padding: 0;position: absolute;width: 1px;}#sk-container-id-5 div.sk-estimator {font-family: monospace;background-color: #f0f8ff;border: 1px dotted black;border-radius: 0.25em;box-sizing: border-box;margin-bottom: 0.5em;}#sk-container-id-5 div.sk-estimator:hover {background-color: #d4ebff;}#sk-container-id-5 div.sk-parallel-item::after {content: \"\";width: 100%;border-bottom: 1px solid gray;flex-grow: 1;}#sk-container-id-5 div.sk-label:hover label.sk-toggleable__label {background-color: #d4ebff;}#sk-container-id-5 div.sk-serial::before {content: \"\";position: absolute;border-left: 1px solid gray;box-sizing: border-box;top: 0;bottom: 0;left: 50%;z-index: 0;}#sk-container-id-5 div.sk-serial {display: flex;flex-direction: column;align-items: center;background-color: white;padding-right: 0.2em;padding-left: 0.2em;position: relative;}#sk-container-id-5 div.sk-item {position: relative;z-index: 1;}#sk-container-id-5 div.sk-parallel {display: flex;align-items: stretch;justify-content: center;background-color: white;position: relative;}#sk-container-id-5 div.sk-item::before, #sk-container-id-5 div.sk-parallel-item::before {content: \"\";position: absolute;border-left: 1px solid gray;box-sizing: border-box;top: 0;bottom: 0;left: 50%;z-index: -1;}#sk-container-id-5 div.sk-parallel-item {display: flex;flex-direction: column;z-index: 1;position: relative;background-color: white;}#sk-container-id-5 div.sk-parallel-item:first-child::after {align-self: flex-end;width: 50%;}#sk-container-id-5 div.sk-parallel-item:last-child::after {align-self: flex-start;width: 50%;}#sk-container-id-5 div.sk-parallel-item:only-child::after {width: 0;}#sk-container-id-5 div.sk-dashed-wrapped {border: 1px dashed gray;margin: 0 0.4em 0.5em 0.4em;box-sizing: border-box;padding-bottom: 0.4em;background-color: white;}#sk-container-id-5 div.sk-label label {font-family: monospace;font-weight: bold;display: inline-block;line-height: 1.2em;}#sk-container-id-5 div.sk-label-container {text-align: center;}#sk-container-id-5 div.sk-container {/* jupyter's `normalize.less` sets `[hidden] { display: none; }` but bootstrap.min.css set `[hidden] { display: none !important; }` so we also need the `!important` here to be able to override the default hidden behavior on the sphinx rendered scikit-learn.org. See: https://github.com/scikit-learn/scikit-learn/issues/21755 */display: inline-block !important;position: relative;}#sk-container-id-5 div.sk-text-repr-fallback {display: none;}</style><div id=\"sk-container-id-5\" class=\"sk-top-container\"><div class=\"sk-text-repr-fallback\"><pre>KNeighborsClassifier(n_jobs=-1)</pre><b>In a Jupyter environment, please rerun this cell to show the HTML representation or trust the notebook. <br />On GitHub, the HTML representation is unable to render, please try loading this page with nbviewer.org.</b></div><div class=\"sk-container\" hidden><div class=\"sk-item\"><div class=\"sk-estimator sk-toggleable\"><input class=\"sk-toggleable__control sk-hidden--visually\" id=\"sk-estimator-id-5\" type=\"checkbox\" checked><label for=\"sk-estimator-id-5\" class=\"sk-toggleable__label sk-toggleable__label-arrow\">KNeighborsClassifier</label><div class=\"sk-toggleable__content\"><pre>KNeighborsClassifier(n_jobs=-1)</pre></div></div></div></div></div>"
      ],
      "text/plain": [
       "KNeighborsClassifier(n_jobs=-1)"
      ]
     },
     "execution_count": 59,
     "metadata": {},
     "output_type": "execute_result"
    }
   ],
   "source": [
    "from sklearn.neighbors import KNeighborsClassifier\n",
    "\n",
    "knn = KNeighborsClassifier(n_neighbors=5, n_jobs=-1)\n",
    "knn.fit(X_train, y_train)"
   ]
  },
  {
   "cell_type": "code",
   "execution_count": 60,
   "id": "f19d3713",
   "metadata": {},
   "outputs": [],
   "source": [
    "y_pred = knn.predict(X_test)"
   ]
  },
  {
   "cell_type": "code",
   "execution_count": 61,
   "id": "cc4d5cb2",
   "metadata": {},
   "outputs": [
    {
     "name": "stdout",
     "output_type": "stream",
     "text": [
      "              precision    recall  f1-score   support\n",
      "\n",
      "           7       0.79      0.67      0.72       474\n",
      "          15       0.89      0.84      0.86       450\n",
      "          16       0.91      0.94      0.92       442\n",
      "          21       0.73      0.91      0.81       449\n",
      "          33       0.48      0.45      0.46       452\n",
      "          34       0.97      1.00      0.99       421\n",
      "          39       0.81      0.97      0.88       421\n",
      "          56       0.57      0.65      0.61       429\n",
      "          68       0.55      0.43      0.49       422\n",
      "          95       0.65      0.94      0.77       407\n",
      "        1000       0.87      0.64      0.74       401\n",
      "        1001       0.48      0.33      0.39       432\n",
      "\n",
      "    accuracy                           0.73      5200\n",
      "   macro avg       0.73      0.73      0.72      5200\n",
      "weighted avg       0.72      0.73      0.72      5200\n",
      "\n"
     ]
    }
   ],
   "source": [
    "from sklearn.metrics import classification_report\n",
    "\n",
    "print(classification_report(y_test, y_pred))"
   ]
  },
  {
   "cell_type": "code",
   "execution_count": 62,
   "id": "ccc7f881",
   "metadata": {},
   "outputs": [
    {
     "data": {
      "image/png": "[encoded data removed]",
      "text/plain": [
       "<Figure size 640x480 with 2 Axes>"
      ]
     },
     "metadata": {},
     "output_type": "display_data"
    }
   ],
   "source": [
    "from sklearn.metrics import confusion_matrix, ConfusionMatrixDisplay\n",
    "import matplotlib.pyplot as plt\n",
    "\n",
    "cm = confusion_matrix(y_test, y_pred, labels=knn.classes_)\n",
    "disp = ConfusionMatrixDisplay(confusion_matrix=cm,display_labels=knn.classes_)\n",
    "disp.plot()\n",
    "plt.show()"
   ]
  }
 ],
 "metadata": {
  "kernelspec": {
   "display_name": "Python 3 (ipykernel)",
   "language": "python",
   "name": "python3"
  },
  "language_info": {
   "codemirror_mode": {
    "name": "ipython",
    "version": 3
   },
   "file_extension": ".py",
   "mimetype": "text/x-python",
   "name": "python",
   "nbconvert_exporter": "python",
   "pygments_lexer": "ipython3",
   "version": "3.9.16"
  }
 },
 "nbformat": 4,
 "nbformat_minor": 5
}
