{
 "cells": [
  {
   "cell_type": "code",
   "execution_count": 14,
   "id": "a6156cfa",
   "metadata": {},
   "outputs": [
    {
     "name": "stdout",
     "output_type": "stream",
     "text": [
      "Reading data...\n",
      "Creating classification report...\n",
      "              precision    recall  f1-score   support\n",
      "\n",
      "           6       0.00      0.00      0.00         2\n",
      "           7       0.57      0.71      0.63        28\n",
      "          15       0.00      0.00      0.00         3\n",
      "          18       0.77      0.81      0.79        21\n",
      "          33       0.79      0.79      0.79        52\n",
      "        1000       0.25      0.11      0.15         9\n",
      "\n",
      "    accuracy                           0.69       115\n",
      "   macro avg       0.40      0.40      0.39       115\n",
      "weighted avg       0.66      0.69      0.67       115\n",
      "\n",
      "done\n"
     ]
    },
    {
     "name": "stderr",
     "output_type": "stream",
     "text": [
      "C:\\Users\\jkaszyda\\.conda\\envs\\tslearn\\lib\\site-packages\\sklearn\\metrics\\_classification.py:1344: UndefinedMetricWarning: Precision and F-score are ill-defined and being set to 0.0 in labels with no predicted samples. Use `zero_division` parameter to control this behavior.\n",
      "  _warn_prf(average, modifier, msg_start, len(result))\n",
      "C:\\Users\\jkaszyda\\.conda\\envs\\tslearn\\lib\\site-packages\\sklearn\\metrics\\_classification.py:1344: UndefinedMetricWarning: Precision and F-score are ill-defined and being set to 0.0 in labels with no predicted samples. Use `zero_division` parameter to control this behavior.\n",
      "  _warn_prf(average, modifier, msg_start, len(result))\n",
      "C:\\Users\\jkaszyda\\.conda\\envs\\tslearn\\lib\\site-packages\\sklearn\\metrics\\_classification.py:1344: UndefinedMetricWarning: Precision and F-score are ill-defined and being set to 0.0 in labels with no predicted samples. Use `zero_division` parameter to control this behavior.\n",
      "  _warn_prf(average, modifier, msg_start, len(result))\n"
     ]
    }
   ],
   "source": [
    "import pandas as pd\n",
    "from sklearn.metrics import classification_report\n",
    "\n",
    "print(\"Reading data...\")\n",
    "y_test = pd.read_csv(\"y_test.csv\")\n",
    "y_pred = pd.read_csv(\"y_pred.csv\")\n",
    "\n",
    "print(\"Creating classification report...\")\n",
    "print(classification_report(y_test,y_pred))\n",
    "print(\"done\")"
   ]
  }
 ],
 "metadata": {
  "kernelspec": {
   "display_name": "Python 3 (ipykernel)",
   "language": "python",
   "name": "python3"
  },
  "language_info": {
   "codemirror_mode": {
    "name": "ipython",
    "version": 3
   },
   "file_extension": ".py",
   "mimetype": "text/x-python",
   "name": "python",
   "nbconvert_exporter": "python",
   "pygments_lexer": "ipython3",
   "version": "3.9.12"
  }
 },
 "nbformat": 4,
 "nbformat_minor": 5
}
