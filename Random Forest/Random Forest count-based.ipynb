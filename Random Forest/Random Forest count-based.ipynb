{
 "cells": [
  {
   "cell_type": "code",
   "execution_count": 1,
   "id": "19aec456",
   "metadata": {
    "ExecuteTime": {
     "start_time": "2023-07-26T14:50:10.257632Z",
     "end_time": "2023-07-26T14:50:21.410527Z"
    },
    "scrolled": true
   },
   "outputs": [],
   "source": [
    "#Count-based approach\n",
    "import pandas as pd\n",
    "\n",
    "df = pd.read_csv(\"data/dataframe.csv\")\n",
    "df.head()\n",
    "\n",
    "X = df.drop(\"y\", axis=1).values\n",
    "y = df[\"y\"].values"
   ]
  },
  {
   "cell_type": "code",
   "execution_count": 2,
   "id": "cc20b4cf",
   "metadata": {
    "ExecuteTime": {
     "start_time": "2023-07-26T14:52:01.493747Z",
     "end_time": "2023-07-26T14:52:38.928087Z"
    }
   },
   "outputs": [],
   "source": [
    "from imblearn.over_sampling import RandomOverSampler\n",
    "from collections import Counter\n",
    "from imblearn.over_sampling import BorderlineSMOTE\n",
    "\n",
    "# Apply SMOTE to balance the dataset\n",
    "sm = BorderlineSMOTE(k_neighbors=4, random_state=42)\n",
    "X_res, y_res = sm.fit_resample(X, y)\n",
    "\n",
    "#oversampler = RandomOverSampler(random_state=42)\n",
    "#X_res, y_res = oversampler.fit_resample(X,y)"
   ]
  },
  {
   "cell_type": "code",
   "execution_count": 3,
   "id": "1b2d02d7",
   "metadata": {
    "ExecuteTime": {
     "start_time": "2023-07-26T14:52:44.081407Z",
     "end_time": "2023-07-26T14:52:44.180565Z"
    }
   },
   "outputs": [],
   "source": [
    "from sklearn.model_selection import train_test_split\n",
    "\n",
    "X_train, X_test, y_train, y_test = train_test_split(X_res, y_res, random_state = 42, test_size = 0.33)"
   ]
  },
  {
   "cell_type": "markdown",
   "source": [],
   "metadata": {
    "collapsed": false
   }
  },
  {
   "cell_type": "markdown",
   "source": [],
   "metadata": {
    "collapsed": false
   }
  },
  {
   "cell_type": "code",
   "execution_count": 4,
   "id": "03c78e8d",
   "metadata": {
    "ExecuteTime": {
     "start_time": "2023-07-26T14:53:29.124558Z",
     "end_time": "2023-07-26T14:53:37.619700Z"
    }
   },
   "outputs": [
    {
     "name": "stdout",
     "output_type": "stream",
     "text": [
      "0.8954510703363915\n"
     ]
    }
   ],
   "source": [
    "from sklearn.ensemble import RandomForestClassifier\n",
    "\n",
    "model = RandomForestClassifier(criterion = \"entropy\", n_estimators = 40, max_features=7, min_samples_split=3, min_samples_leaf=1)\n",
    "model.fit(X_train, y_train)\n",
    "\n",
    "print(model.score(X_test, y_test))"
   ]
  },
  {
   "cell_type": "code",
   "execution_count": null,
   "id": "93fc26d0",
   "metadata": {
    "ExecuteTime": {
     "start_time": "2023-07-25T11:02:49.175879Z",
     "end_time": "2023-07-25T11:22:14.384855Z"
    }
   },
   "outputs": [],
   "source": [
    "from sklearn.model_selection import GridSearchCV\n",
    "from sklearn.ensemble import RandomForestClassifier\n",
    "from sklearn.metrics import make_scorer\n",
    "from sklearn.metrics import f1_score\n",
    "import joblib\n",
    "\n",
    "# Define the scoring metric\n",
    "scorer = make_scorer(f1_score)\n",
    "\n",
    "model = RandomForestClassifier()\n",
    "\n",
    "grid_space={'max_depth':[3,5,10,None],\n",
    "              'n_estimators':[10,20,30,40,50],\n",
    "              'max_features':[1,3,5,7],\n",
    "              'min_samples_leaf':[1,2,3],\n",
    "              'min_samples_split':[1,2,3],\n",
    "              'criterion': [\"entropy\",\"gini\",\"log_loss\"]\n",
    "           }\n",
    "\n",
    "grid = GridSearchCV(model,param_grid=grid_space,cv=3,scoring=\"f1_micro\",verbose=10)\n",
    "\n",
    "# Enable verbose logging using joblib\n",
    "#joblib.parallel_backend('threading')\n",
    "\n",
    "model_grid = grid.fit(X_train,y_train)"
   ]
  },
  {
   "cell_type": "code",
   "execution_count": null,
   "id": "bab76980",
   "metadata": {
    "ExecuteTime": {
     "start_time": "2023-07-25T11:23:12.886714Z",
     "end_time": "2023-07-25T11:23:12.939511Z"
    }
   },
   "outputs": [],
   "source": [
    "print('Best hyperparameters are: '+str(model_grid.best_params_))\n",
    "print('Best score is: '+str(model_grid.best_score_))"
   ]
  },
  {
   "cell_type": "code",
   "execution_count": 5,
   "id": "d5e33de9",
   "metadata": {
    "ExecuteTime": {
     "start_time": "2023-07-26T14:53:51.823710Z",
     "end_time": "2023-07-26T14:53:52.409111Z"
    }
   },
   "outputs": [],
   "source": [
    "y_pred = model.predict(X_test)"
   ]
  },
  {
   "cell_type": "code",
   "execution_count": 6,
   "id": "e89a2076",
   "metadata": {
    "ExecuteTime": {
     "start_time": "2023-07-26T14:53:56.440341Z",
     "end_time": "2023-07-26T14:53:56.616519Z"
    }
   },
   "outputs": [
    {
     "name": "stdout",
     "output_type": "stream",
     "text": [
      "              precision    recall  f1-score   support\n",
      "\n",
      "           7       0.89      0.92      0.90       451\n",
      "          15       0.89      0.95      0.92       427\n",
      "          16       0.96      0.98      0.97       454\n",
      "          21       0.89      0.98      0.94       446\n",
      "          33       0.92      0.82      0.87       453\n",
      "          34       1.00      1.00      1.00       420\n",
      "          39       0.98      0.97      0.98       433\n",
      "          56       0.90      0.87      0.88       444\n",
      "          68       0.72      0.80      0.76       438\n",
      "          95       0.94      0.97      0.95       409\n",
      "        1000       0.90      0.73      0.81       408\n",
      "        1001       0.78      0.75      0.77       449\n",
      "\n",
      "    accuracy                           0.90      5232\n",
      "   macro avg       0.90      0.90      0.90      5232\n",
      "weighted avg       0.90      0.90      0.89      5232\n",
      "\n"
     ]
    }
   ],
   "source": [
    "from sklearn.metrics import classification_report\n",
    "\n",
    "print(classification_report(y_test, y_pred))"
   ]
  },
  {
   "cell_type": "code",
   "execution_count": null,
   "id": "ac94a039",
   "metadata": {
    "ExecuteTime": {
     "start_time": "2023-07-19T14:56:08.897575Z",
     "end_time": "2023-07-19T14:56:10.359470Z"
    }
   },
   "outputs": [],
   "source": [
    "from sklearn.metrics import confusion_matrix, ConfusionMatrixDisplay\n",
    "import matplotlib.pyplot as plt\n",
    "\n",
    "cm = confusion_matrix(y_test, y_pred, labels=model_grid.classes_)\n",
    "disp = ConfusionMatrixDisplay(confusion_matrix=cm,display_labels=model.classes_)\n",
    "disp.plot()\n",
    "plt.show()"
   ]
  }
 ],
 "metadata": {
  "kernelspec": {
   "display_name": "Python 3 (ipykernel)",
   "language": "python",
   "name": "python3"
  },
  "language_info": {
   "codemirror_mode": {
    "name": "ipython",
    "version": 3
   },
   "file_extension": ".py",
   "mimetype": "text/x-python",
   "name": "python",
   "nbconvert_exporter": "python",
   "pygments_lexer": "ipython3",
   "version": "3.9.16"
  }
 },
 "nbformat": 4,
 "nbformat_minor": 5
}
