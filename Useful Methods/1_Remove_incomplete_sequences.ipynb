{
 "cells": [
  {
   "cell_type": "markdown",
   "source": [
    "Step 1: Removing incomplete sequences\n",
    "Before the log data can be used to train machine learning models, incomplete sequences need to be removed. Each sequence should start with a log line of an alarm with lower severity (anomaly, minor, major) and finishes with a critical alarm."
   ],
   "metadata": {
    "collapsed": false
   }
  },
  {
   "cell_type": "code",
   "execution_count": null,
   "outputs": [],
   "source": [
    "# Finds the first crticial alarm of the log\n",
    "def find_first_critical(current_site_csv):\n",
    "    index = 0\n",
    "    for item in current_site_csv:\n",
    "        if (item['GRAVITE'] == 'CRITIQUE'):\n",
    "            return index\n",
    "        index = index + 1\n",
    "    return 0"
   ],
   "metadata": {
    "collapsed": false,
    "ExecuteTime": {
     "start_time": "2023-08-07T15:47:29.320509Z",
     "end_time": "2023-08-07T15:47:29.338223Z"
    }
   }
  },
  {
   "cell_type": "code",
   "execution_count": null,
   "outputs": [],
   "source": [
    "# Finds the last critical alarm of the log\n",
    "def find_last_critical(current_site_csv):\n",
    "    index = 0\n",
    "    last_index = 0\n",
    "    for item in current_site_csv:\n",
    "        if (item['GRAVITE'] == 'CRITIQUE'):\n",
    "            last_index = index\n",
    "        index = index + 1\n",
    "    return last_index"
   ],
   "metadata": {
    "collapsed": false,
    "ExecuteTime": {
     "start_time": "2023-08-07T15:47:31.686633Z",
     "end_time": "2023-08-07T15:47:31.694541Z"
    }
   }
  },
  {
   "cell_type": "code",
   "execution_count": null,
   "outputs": [],
   "source": [
    "# Checks, if severity is critical\n",
    "def is_severity_critical(item):\n",
    "    if item['GRAVITE'] == 'CRITIQUE':\n",
    "        return True\n",
    "    else:\n",
    "        return False"
   ],
   "metadata": {
    "collapsed": false,
    "ExecuteTime": {
     "start_time": "2023-08-07T15:47:34.180552Z",
     "end_time": "2023-08-07T15:47:34.191895Z"
    }
   }
  },
  {
   "cell_type": "code",
   "execution_count": null,
   "outputs": [],
   "source": [
    "import pandas as pd\n",
    "import csv\n",
    "\n",
    "for i in range(1,26):\n",
    "    df = pd.read_csv(str(i) + \".csv\", delimiter=';') # Read raw data\n",
    "    final_csv = []\n",
    "    current_site_csv = []\n",
    "\n",
    "    for index, row in df.iterrows():\n",
    "        if row['ID_SITE_LAFON'] == current_site:\n",
    "            current_site_csv.append(row)\n",
    "        else:\n",
    "            # Delete incomplete sequence until first critical\n",
    "            first_critical = find_first_critical(current_site_csv)\n",
    "            del current_site_csv[:first_critical+1]\n",
    "\n",
    "            # Delete last incomplete sequence from last critical on\n",
    "            last_critical = find_last_critical(current_site_csv)\n",
    "            if not is_severity_critical(current_site_csv[-1]):\n",
    "                del current_site_csv[last_critical+1:]\n",
    "\n",
    "            for item in current_site_csv:\n",
    "                final_csv.append(item)\n",
    "\n",
    "            current_site_csv = []\n",
    "            current_site = row['ID_SITE_LAFON']\n",
    "\n",
    "    # Treat last station of file\n",
    "    # Delete incomplete sequence until first critical\n",
    "    first_critical = find_first_critical(current_site_csv)\n",
    "    del current_site_csv[:first_critical+1]\n",
    "\n",
    "    # Delete last incomplete sequence from last critical on\n",
    "    last_critical = find_last_critical(current_site_csv)\n",
    "    if not is_severity_critical(current_site_csv[-1]):\n",
    "        del current_site_csv[last_critical+1:]\n",
    "\n",
    "    for item in current_site_csv:\n",
    "        final_csv.append(item)\n",
    "\n",
    "    with open(str(i) + \"_incomplete_removed.csv\", \"w\", newline='') as f:\n",
    "        writer = csv.writer(f, delimiter=',', dialect='excel')\n",
    "    writer.writerows(final_csv)\n"
   ],
   "metadata": {
    "collapsed": false,
    "ExecuteTime": {
     "start_time": "2023-08-07T16:02:36.553335Z",
     "end_time": "2023-08-07T16:02:38.018659Z"
    }
   }
  }
 ],
 "metadata": {
  "kernelspec": {
   "display_name": "Python 3",
   "language": "python",
   "name": "python3"
  },
  "language_info": {
   "codemirror_mode": {
    "name": "ipython",
    "version": 2
   },
   "file_extension": ".py",
   "mimetype": "text/x-python",
   "name": "python",
   "nbconvert_exporter": "python",
   "pygments_lexer": "ipython2",
   "version": "2.7.6"
  }
 },
 "nbformat": 4,
 "nbformat_minor": 0
}
