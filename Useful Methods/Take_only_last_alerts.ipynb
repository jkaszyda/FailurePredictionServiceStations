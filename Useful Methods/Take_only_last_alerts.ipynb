{
 "cells": [
  {
   "cell_type": "code",
   "execution_count": 1,
   "metadata": {
    "collapsed": true,
    "ExecuteTime": {
     "start_time": "2023-10-11T15:16:51.899861Z",
     "end_time": "2023-10-11T15:16:51.943054Z"
    }
   },
   "outputs": [],
   "source": [
    "def prepare_data():\n",
    "    print(\"Preparing data...\")\n",
    "    prepared_x = []\n",
    "    prepared_y = []\n",
    "    current_sequence = []\n",
    "    counter = 1\n",
    "\n",
    "    for index, row in df.iterrows():\n",
    "        if row.iloc[2] == \"CRITIQUE\":\n",
    "            if len(current_sequence) > 20:\n",
    "                prepared_x.append(current_sequence[-20:])\n",
    "            else:\n",
    "                prepared_x.append(current_sequence)\n",
    "            prepared_y.append(int(row.iloc[1]))\n",
    "            current_sequence = []\n",
    "        else:\n",
    "            current_sequence.append(int(row.iloc[1]))\n",
    "        counter = counter+1\n",
    "    return prepared_x, prepared_y"
   ]
  },
  {
   "cell_type": "code",
   "execution_count": 2,
   "outputs": [],
   "source": [
    "def fill_sequences_with_zero():\n",
    "    print(\"Filling with 0...\")\n",
    "    new_X_temp = []\n",
    "    for item in X_temp:\n",
    "        for i in range(len(item), 20):\n",
    "            item.append(0)\n",
    "        new_X_temp.append(item)\n",
    "\n",
    "    return new_X_temp"
   ],
   "metadata": {
    "collapsed": false,
    "ExecuteTime": {
     "start_time": "2023-10-11T15:16:53.721967Z",
     "end_time": "2023-10-11T15:16:53.755937Z"
    }
   }
  },
  {
   "cell_type": "code",
   "execution_count": 3,
   "outputs": [],
   "source": [
    "def add_to_X(x_to_add):\n",
    "    for item in x_to_add:\n",
    "        X.append(item)\n",
    "\n",
    "def add_to_y(y_to_add):\n",
    "    for item in y_to_add:\n",
    "        y.append(item)"
   ],
   "metadata": {
    "collapsed": false,
    "ExecuteTime": {
     "start_time": "2023-10-11T15:16:55.958958Z",
     "end_time": "2023-10-11T15:16:55.976024Z"
    }
   }
  },
  {
   "cell_type": "code",
   "execution_count": 4,
   "outputs": [
    {
     "name": "stdout",
     "output_type": "stream",
     "text": [
      "1 out of 25\n",
      "Preparing data...\n",
      "Filling with 0...\n",
      "Saving new file for 1\n",
      "2 out of 25\n",
      "Preparing data...\n"
     ]
    },
    {
     "ename": "KeyboardInterrupt",
     "evalue": "",
     "output_type": "error",
     "traceback": [
      "\u001B[1;31m---------------------------------------------------------------------------\u001B[0m",
      "\u001B[1;31mKeyboardInterrupt\u001B[0m                         Traceback (most recent call last)",
      "Cell \u001B[1;32mIn[4], line 9\u001B[0m\n\u001B[0;32m      7\u001B[0m \u001B[38;5;28mprint\u001B[39m(\u001B[38;5;28mstr\u001B[39m(i) \u001B[38;5;241m+\u001B[39m \u001B[38;5;124m\"\u001B[39m\u001B[38;5;124m out of 25\u001B[39m\u001B[38;5;124m\"\u001B[39m)\n\u001B[0;32m      8\u001B[0m df \u001B[38;5;241m=\u001B[39m pd\u001B[38;5;241m.\u001B[39mread_csv(\u001B[38;5;124m\"\u001B[39m\u001B[38;5;124m../Data/Train/Last 100/2 Clean without single criticals/\u001B[39m\u001B[38;5;124m\"\u001B[39m \u001B[38;5;241m+\u001B[39m \u001B[38;5;28mstr\u001B[39m(i) \u001B[38;5;241m+\u001B[39m \u001B[38;5;124m\"\u001B[39m\u001B[38;5;124m_final.csv\u001B[39m\u001B[38;5;124m\"\u001B[39m, header\u001B[38;5;241m=\u001B[39m\u001B[38;5;28;01mNone\u001B[39;00m)\n\u001B[1;32m----> 9\u001B[0m X_temp, y_temp \u001B[38;5;241m=\u001B[39m \u001B[43mprepare_data\u001B[49m\u001B[43m(\u001B[49m\u001B[43m)\u001B[49m\n\u001B[0;32m     10\u001B[0m X_temp \u001B[38;5;241m=\u001B[39m fill_sequences_with_zero()\n\u001B[0;32m     11\u001B[0m add_to_X(X_temp)\n",
      "Cell \u001B[1;32mIn[1], line 9\u001B[0m, in \u001B[0;36mprepare_data\u001B[1;34m()\u001B[0m\n\u001B[0;32m      6\u001B[0m counter \u001B[38;5;241m=\u001B[39m \u001B[38;5;241m1\u001B[39m\n\u001B[0;32m      8\u001B[0m \u001B[38;5;28;01mfor\u001B[39;00m index, row \u001B[38;5;129;01min\u001B[39;00m df\u001B[38;5;241m.\u001B[39miterrows():\n\u001B[1;32m----> 9\u001B[0m     \u001B[38;5;28;01mif\u001B[39;00m \u001B[43mrow\u001B[49m\u001B[38;5;241;43m.\u001B[39;49m\u001B[43miloc\u001B[49m[\u001B[38;5;241m2\u001B[39m] \u001B[38;5;241m==\u001B[39m \u001B[38;5;124m\"\u001B[39m\u001B[38;5;124mCRITIQUE\u001B[39m\u001B[38;5;124m\"\u001B[39m:\n\u001B[0;32m     10\u001B[0m         \u001B[38;5;28;01mif\u001B[39;00m \u001B[38;5;28mlen\u001B[39m(current_sequence) \u001B[38;5;241m>\u001B[39m \u001B[38;5;241m20\u001B[39m:\n\u001B[0;32m     11\u001B[0m             prepared_x\u001B[38;5;241m.\u001B[39mappend(current_sequence[\u001B[38;5;241m-\u001B[39m\u001B[38;5;241m20\u001B[39m:])\n",
      "File \u001B[1;32m~\\.conda\\envs\\DeepLearning\\lib\\site-packages\\pandas\\core\\indexing.py:285\u001B[0m, in \u001B[0;36mIndexingMixin.iloc\u001B[1;34m(self)\u001B[0m\n\u001B[0;32m    148\u001B[0m \u001B[38;5;129m@property\u001B[39m\n\u001B[0;32m    149\u001B[0m \u001B[38;5;28;01mdef\u001B[39;00m \u001B[38;5;21miloc\u001B[39m(\u001B[38;5;28mself\u001B[39m) \u001B[38;5;241m-\u001B[39m\u001B[38;5;241m>\u001B[39m _iLocIndexer:\n\u001B[0;32m    150\u001B[0m \u001B[38;5;250m    \u001B[39m\u001B[38;5;124;03m\"\"\"\u001B[39;00m\n\u001B[0;32m    151\u001B[0m \u001B[38;5;124;03m    Purely integer-location based indexing for selection by position.\u001B[39;00m\n\u001B[0;32m    152\u001B[0m \n\u001B[1;32m   (...)\u001B[0m\n\u001B[0;32m    283\u001B[0m \u001B[38;5;124;03m    2  1000  3000\u001B[39;00m\n\u001B[0;32m    284\u001B[0m \u001B[38;5;124;03m    \"\"\"\u001B[39;00m\n\u001B[1;32m--> 285\u001B[0m     \u001B[38;5;28;01mreturn\u001B[39;00m \u001B[43m_iLocIndexer\u001B[49m(\u001B[38;5;124m\"\u001B[39m\u001B[38;5;124miloc\u001B[39m\u001B[38;5;124m\"\u001B[39m, \u001B[38;5;28mself\u001B[39m)\n",
      "\u001B[1;31mKeyboardInterrupt\u001B[0m: "
     ]
    }
   ],
   "source": [
    "import pandas as pd\n",
    "\n",
    "X = []\n",
    "y = []\n",
    "\n",
    "for i in range(1,26):\n",
    "    print(str(i) + \" out of 25\")\n",
    "    df = pd.read_csv(\"../Data/Train/Last 100/2 Clean without single criticals/\" + str(i) + \"_final.csv\", header=None)\n",
    "    X_temp, y_temp = prepare_data()\n",
    "    X_temp = fill_sequences_with_zero()\n",
    "    add_to_X(X_temp)\n",
    "    add_to_y(y_temp)\n",
    "    df2 = pd.DataFrame(X)\n",
    "    df2['y'] = y\n",
    "    print(\"Saving new file for \" + str(i))\n",
    "    df2.to_csv(str(i) + \"_output_last20.csv\", index=False)\n",
    "    X = []\n",
    "    y = []"
   ],
   "metadata": {
    "collapsed": false,
    "ExecuteTime": {
     "start_time": "2023-10-11T11:15:10.382117Z",
     "end_time": "2023-10-11T11:17:50.371262Z"
    }
   }
  }
 ],
 "metadata": {
  "kernelspec": {
   "display_name": "Python 3",
   "language": "python",
   "name": "python3"
  },
  "language_info": {
   "codemirror_mode": {
    "name": "ipython",
    "version": 2
   },
   "file_extension": ".py",
   "mimetype": "text/x-python",
   "name": "python",
   "nbconvert_exporter": "python",
   "pygments_lexer": "ipython2",
   "version": "2.7.6"
  }
 },
 "nbformat": 4,
 "nbformat_minor": 0
}
