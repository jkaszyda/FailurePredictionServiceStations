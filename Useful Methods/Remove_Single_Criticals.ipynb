{
 "cells": [
  {
   "cell_type": "code",
   "execution_count": 17,
   "outputs": [],
   "source": [
    "import pandas as pd\n",
    "\n",
    "def delete_single_criticals(df):\n",
    "    previous_row_severity = df.iloc[0][2]\n",
    "    rows_to_remove = []\n",
    "\n",
    "    for index, row in df.iterrows():\n",
    "        if row.iloc[2] == 'CRITIQUE':\n",
    "            if previous_row_severity == 'CRITIQUE':\n",
    "                rows_to_remove.append(index)\n",
    "        previous_row_severity = row.iloc[2]\n",
    "\n",
    "    print(\"Deleting rows...\")\n",
    "    df2 = df.drop(rows_to_remove, inplace=False)\n",
    "    return df2"
   ],
   "metadata": {
    "collapsed": false,
    "ExecuteTime": {
     "start_time": "2023-08-07T17:37:45.356277Z",
     "end_time": "2023-08-07T17:37:45.371991Z"
    }
   }
  },
  {
   "cell_type": "code",
   "execution_count": 19,
   "outputs": [
    {
     "name": "stdout",
     "output_type": "stream",
     "text": [
      "1 out of 25\n",
      "Deleting rows...\n",
      "2 out of 25\n",
      "Deleting rows...\n",
      "3 out of 25\n",
      "Deleting rows...\n",
      "4 out of 25\n",
      "Deleting rows...\n",
      "5 out of 25\n",
      "Deleting rows...\n",
      "6 out of 25\n",
      "Deleting rows...\n",
      "7 out of 25\n",
      "Deleting rows...\n",
      "8 out of 25\n",
      "Deleting rows...\n",
      "9 out of 25\n",
      "Deleting rows...\n",
      "10 out of 25\n",
      "Deleting rows...\n",
      "11 out of 25\n",
      "Deleting rows...\n",
      "12 out of 25\n",
      "Deleting rows...\n",
      "13 out of 25\n",
      "Deleting rows...\n",
      "14 out of 25\n",
      "Deleting rows...\n",
      "15 out of 25\n",
      "Deleting rows...\n",
      "16 out of 25\n",
      "Deleting rows...\n",
      "17 out of 25\n",
      "Deleting rows...\n",
      "18 out of 25\n",
      "Deleting rows...\n",
      "19 out of 25\n",
      "Deleting rows...\n",
      "20 out of 25\n",
      "Deleting rows...\n",
      "21 out of 25\n",
      "Deleting rows...\n",
      "22 out of 25\n",
      "Deleting rows...\n",
      "23 out of 25\n",
      "Deleting rows...\n",
      "24 out of 25\n",
      "Deleting rows...\n",
      "25 out of 25\n",
      "Deleting rows...\n"
     ]
    }
   ],
   "source": [
    "filename = 1\n",
    "\n",
    "for i in range (1,26):\n",
    "    print(str(filename) + \" out of 25\")\n",
    "    df = pd.read_csv(\"Test Clean/\" + str(filename) + \"_clean.csv\", delimiter=',')\n",
    "    df = delete_single_criticals(df)\n",
    "    df.to_csv(str(filename) + \"_final.csv\", index=False)\n",
    "    filename = filename + 1"
   ],
   "metadata": {
    "collapsed": false,
    "ExecuteTime": {
     "start_time": "2023-08-07T17:38:05.240907Z",
     "end_time": "2023-08-07T17:43:58.389585Z"
    }
   }
  }
 ],
 "metadata": {
  "kernelspec": {
   "display_name": "Python 3",
   "language": "python",
   "name": "python3"
  },
  "language_info": {
   "codemirror_mode": {
    "name": "ipython",
    "version": 2
   },
   "file_extension": ".py",
   "mimetype": "text/x-python",
   "name": "python",
   "nbconvert_exporter": "python",
   "pygments_lexer": "ipython2",
   "version": "2.7.6"
  }
 },
 "nbformat": 4,
 "nbformat_minor": 0
}
