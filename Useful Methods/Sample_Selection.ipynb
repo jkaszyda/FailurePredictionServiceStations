{
 "cells": [
  {
   "cell_type": "code",
   "execution_count": 19,
   "metadata": {
    "collapsed": true,
    "ExecuteTime": {
     "start_time": "2023-10-15T15:09:04.958311Z",
     "end_time": "2023-10-15T15:09:04.964660Z"
    }
   },
   "outputs": [],
   "source": [
    "import numpy as np\n",
    "import pandas as pd\n",
    "\n",
    "critical_errors = [7,15,16,21,33,56,68,95,1000,1001]\n"
   ]
  },
  {
   "cell_type": "code",
   "execution_count": 18,
   "outputs": [
    {
     "name": "stdout",
     "output_type": "stream",
     "text": [
      "7\n",
      "33\n",
      "56\n",
      "68\n",
      "1001\n"
     ]
    }
   ],
   "source": [
    "# Select only 10000 samples by class\n",
    "for item in critical_errors:\n",
    "    df = pd.read_csv(\"../Data/Train/All/Last 20/4 Separated by error type/Sequences/Classic/\" + str(item) + \".csv\")\n",
    "    if len(df) > 5000:\n",
    "        print(item)\n",
    "        sampled_df = df.sample(n=5000, random_state=42, ignore_index=True)\n",
    "    else:\n",
    "        sampled_df = df\n",
    "    sampled_df.to_csv(str(item) + \".csv\", index=False)\n"
   ],
   "metadata": {
    "collapsed": false,
    "ExecuteTime": {
     "start_time": "2023-10-15T15:03:21.344306Z",
     "end_time": "2023-10-15T15:03:23.244819Z"
    }
   }
  },
  {
   "cell_type": "code",
   "execution_count": 21,
   "outputs": [],
   "source": [
    "# Select only unique samples\n",
    "for item in critical_errors:\n",
    "    df = pd.read_csv(\"../Data/Train/All/Last 20/4 Separated by error type/Sequences/Classic/\" + str(item) + \".csv\")\n",
    "    unique_samples = df.drop_duplicates(keep='first')\n",
    "    unique_samples.to_csv(str(item) + \".csv\", index=False)"
   ],
   "metadata": {
    "collapsed": false,
    "ExecuteTime": {
     "start_time": "2023-10-15T15:09:35.523992Z",
     "end_time": "2023-10-15T15:09:40.622280Z"
    }
   }
  }
 ],
 "metadata": {
  "kernelspec": {
   "display_name": "Python 3",
   "language": "python",
   "name": "python3"
  },
  "language_info": {
   "codemirror_mode": {
    "name": "ipython",
    "version": 2
   },
   "file_extension": ".py",
   "mimetype": "text/x-python",
   "name": "python",
   "nbconvert_exporter": "python",
   "pygments_lexer": "ipython2",
   "version": "2.7.6"
  }
 },
 "nbformat": 4,
 "nbformat_minor": 0
}
