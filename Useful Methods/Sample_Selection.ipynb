{
 "cells": [
  {
   "cell_type": "code",
   "execution_count": 34,
   "metadata": {
    "collapsed": true,
    "ExecuteTime": {
     "start_time": "2023-08-11T15:50:52.884582Z",
     "end_time": "2023-08-11T15:50:52.888711Z"
    }
   },
   "outputs": [],
   "source": [
    "import numpy as np\n",
    "import pandas as pd\n",
    "\n",
    "critical_errors = [7,15,16,21,33,56,68,95,1000,1001]\n"
   ]
  },
  {
   "cell_type": "code",
   "execution_count": 35,
   "outputs": [
    {
     "name": "stdout",
     "output_type": "stream",
     "text": [
      "7\n",
      "33\n",
      "68\n",
      "1001\n",
      "29899\n"
     ]
    }
   ],
   "source": [
    "# Read data\n",
    "final_df = pd.DataFrame()\n",
    "\n",
    "for item in critical_errors:\n",
    "    df = pd.read_csv(\"Training Clean/Separated by error type/\" + str(item) + \".csv\")\n",
    "    if len(df) > 10000:\n",
    "        print(item)\n",
    "        unique_samples = df.drop_duplicates(keep='first')\n",
    "        if len(unique_samples) > 5000:\n",
    "            sampled_df = unique_samples.sample(n=5000, random_state=42)\n",
    "        else:\n",
    "            sampled_df = unique_samples\n",
    "    else:\n",
    "        sampled_df = df\n",
    "    final_df = pd.concat([final_df, sampled_df], ignore_index=True)\n",
    "\n",
    "print(len(final_df))"
   ],
   "metadata": {
    "collapsed": false,
    "ExecuteTime": {
     "start_time": "2023-08-11T15:50:57.870208Z",
     "end_time": "2023-08-11T15:51:00.679766Z"
    }
   }
  },
  {
   "cell_type": "code",
   "execution_count": 36,
   "outputs": [],
   "source": [
    "final_df.to_csv(\"Final_DF.csv\", index='None')"
   ],
   "metadata": {
    "collapsed": false,
    "ExecuteTime": {
     "start_time": "2023-08-11T15:51:04.175387Z",
     "end_time": "2023-08-11T15:51:04.478018Z"
    }
   }
  }
 ],
 "metadata": {
  "kernelspec": {
   "display_name": "Python 3",
   "language": "python",
   "name": "python3"
  },
  "language_info": {
   "codemirror_mode": {
    "name": "ipython",
    "version": 2
   },
   "file_extension": ".py",
   "mimetype": "text/x-python",
   "name": "python",
   "nbconvert_exporter": "python",
   "pygments_lexer": "ipython2",
   "version": "2.7.6"
  }
 },
 "nbformat": 4,
 "nbformat_minor": 0
}
