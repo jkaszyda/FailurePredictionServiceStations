{
 "cells": [
  {
   "cell_type": "markdown",
   "source": [
    "If you wish to train the models only on a selection of samples and not on the entire data set, you can make whether a random selection of samples or select only unique samples."
   ],
   "metadata": {
    "collapsed": false
   }
  },
  {
   "cell_type": "code",
   "execution_count": null,
   "outputs": [],
   "source": [
    "import pandas as pd\n",
    "\n",
    "critical_errors = [7,15,16,21,33,56,68,95,1000,1001]\n"
   ],
   "metadata": {
    "collapsed": false
   }
  },
  {
   "cell_type": "code",
   "execution_count": null,
   "outputs": [],
   "source": [
    "# Select only 10000 samples by class\n",
    "# When using count-based encoding, please replace the link by \"../Data/Train/All/Count-based/\" + str(item) + \"_countbased.csv\"\n",
    "for item in critical_errors:\n",
    "    df = pd.read_csv(\"../Data/Train/All/Sequences/\" + str(item) + \".csv\")\n",
    "    if len(df) > 10000:\n",
    "        print(item)\n",
    "        sampled_df = df.sample(n=10000, random_state=42, ignore_index=True)\n",
    "    else:\n",
    "        sampled_df = df\n",
    "    sampled_df.to_csv(str(item) + \".csv\", index=False)\n"
   ],
   "metadata": {
    "collapsed": false,
    "ExecuteTime": {
     "start_time": "2023-10-15T15:03:21.344306Z",
     "end_time": "2023-10-15T15:03:23.244819Z"
    }
   }
  },
  {
   "cell_type": "code",
   "execution_count": null,
   "outputs": [],
   "source": [
    "# Select only unique samples\n",
    "# When using count-based encoding, please replace the link by \"../Data/Train/All/Count-based/\" + str(item) + \"_countbased.csv\"\n",
    "for item in critical_errors:\n",
    "    df = pd.read_csv(\"../Data/Train/All/Sequences/\" + str(item) + \".csv\")\n",
    "    unique_samples = df.drop_duplicates(keep='first')\n",
    "    unique_samples.to_csv(str(item) + \".csv\", index=False)"
   ],
   "metadata": {
    "collapsed": false,
    "ExecuteTime": {
     "start_time": "2023-11-08T15:39:52.297748Z",
     "end_time": "2023-11-08T15:39:56.554294Z"
    }
   }
  }
 ],
 "metadata": {
  "kernelspec": {
   "display_name": "Python 3",
   "language": "python",
   "name": "python3"
  },
  "language_info": {
   "codemirror_mode": {
    "name": "ipython",
    "version": 2
   },
   "file_extension": ".py",
   "mimetype": "text/x-python",
   "name": "python",
   "nbconvert_exporter": "python",
   "pygments_lexer": "ipython2",
   "version": "2.7.6"
  }
 },
 "nbformat": 4,
 "nbformat_minor": 0
}
