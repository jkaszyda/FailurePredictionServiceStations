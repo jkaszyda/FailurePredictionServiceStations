{
 "cells": [
  {
   "cell_type": "markdown",
   "source": [
    "Step 3: Transform log into sequences\n",
    "Each sequence contains the integer IDs of the alarm types which have occurred and finishes with the ID of the critical alarm type to which the sequence has led."
   ],
   "metadata": {
    "collapsed": false
   }
  },
  {
   "cell_type": "code",
   "execution_count": 23,
   "outputs": [],
   "source": [
    "def prepare_data():\n",
    "    print(\"Preparing data...\")\n",
    "    prepared_x = []\n",
    "    prepared_y = []\n",
    "    current_sequence = []\n",
    "    counter = 1\n",
    "    for index, row in df.iterrows():\n",
    "        if row.iloc[2] == \"CRITIQUE\":\n",
    "            prepared_x.append(current_sequence)\n",
    "            prepared_y.append(int(row.iloc[1]))\n",
    "            current_sequence = []\n",
    "        else:\n",
    "            current_sequence.append(int(row.iloc[1]))\n",
    "        counter = counter + 1\n",
    "\n",
    "    return prepared_x, prepared_y"
   ],
   "metadata": {
    "collapsed": false
   }
  },
  {
   "cell_type": "code",
   "execution_count": 24,
   "outputs": [],
   "source": [
    "def fill_sequences_with_zero():\n",
    "    print(\"Filling with 0...\")\n",
    "    new_X_temp = []\n",
    "    for item in X_temp:\n",
    "        for i in range(len(item), 100):\n",
    "            item.append(0)\n",
    "        new_X_temp.append(item)\n",
    "\n",
    "    return new_X_temp"
   ],
   "metadata": {
    "collapsed": false,
    "ExecuteTime": {
     "start_time": "2023-10-11T15:09:33.941924Z",
     "end_time": "2023-10-11T15:09:33.953457Z"
    }
   }
  },
  {
   "cell_type": "code",
   "execution_count": 25,
   "outputs": [],
   "source": [
    "def add_to_X(x_to_add):\n",
    "    for item in x_to_add:\n",
    "        X.append(item)\n",
    "\n",
    "def add_to_y(y_to_add):\n",
    "    for item in y_to_add:\n",
    "        y.append(item)"
   ],
   "metadata": {
    "collapsed": false,
    "ExecuteTime": {
     "start_time": "2023-10-11T15:09:36.317038Z",
     "end_time": "2023-10-11T15:09:36.352478Z"
    }
   }
  },
  {
   "cell_type": "code",
   "execution_count": 26,
   "outputs": [
    {
     "name": "stdout",
     "output_type": "stream",
     "text": [
      "1 out of 25\n",
      "Preparing data...\n",
      "Filling with 0...\n",
      "Saving new file for 1\n",
      "2 out of 25\n",
      "Preparing data...\n",
      "Filling with 0...\n",
      "Saving new file for 2\n",
      "3 out of 25\n",
      "Preparing data...\n"
     ]
    },
    {
     "ename": "KeyboardInterrupt",
     "evalue": "",
     "output_type": "error",
     "traceback": [
      "\u001B[1;31m---------------------------------------------------------------------------\u001B[0m",
      "\u001B[1;31mKeyboardInterrupt\u001B[0m                         Traceback (most recent call last)",
      "Cell \u001B[1;32mIn[26], line 11\u001B[0m\n\u001B[0;32m      9\u001B[0m \u001B[38;5;28mprint\u001B[39m(\u001B[38;5;28mstr\u001B[39m(i) \u001B[38;5;241m+\u001B[39m \u001B[38;5;124m\"\u001B[39m\u001B[38;5;124m out of 25\u001B[39m\u001B[38;5;124m\"\u001B[39m)\n\u001B[0;32m     10\u001B[0m df \u001B[38;5;241m=\u001B[39m pd\u001B[38;5;241m.\u001B[39mread_csv(\u001B[38;5;124m\"\u001B[39m\u001B[38;5;124m../Data/Train/Last 100/2 Clean without single criticals/\u001B[39m\u001B[38;5;124m\"\u001B[39m \u001B[38;5;241m+\u001B[39m \u001B[38;5;28mstr\u001B[39m(i) \u001B[38;5;241m+\u001B[39m \u001B[38;5;124m\"\u001B[39m\u001B[38;5;124m_final.csv\u001B[39m\u001B[38;5;124m\"\u001B[39m, header\u001B[38;5;241m=\u001B[39m\u001B[38;5;28;01mNone\u001B[39;00m)\n\u001B[1;32m---> 11\u001B[0m X_temp, y_temp \u001B[38;5;241m=\u001B[39m \u001B[43mprepare_data\u001B[49m\u001B[43m(\u001B[49m\u001B[43m)\u001B[49m\n\u001B[0;32m     12\u001B[0m X_temp \u001B[38;5;241m=\u001B[39m fill_sequences_with_zero()\n\u001B[0;32m     13\u001B[0m add_to_X(X_temp)\n",
      "Cell \u001B[1;32mIn[23], line 7\u001B[0m, in \u001B[0;36mprepare_data\u001B[1;34m()\u001B[0m\n\u001B[0;32m      5\u001B[0m current_sequence \u001B[38;5;241m=\u001B[39m []\n\u001B[0;32m      6\u001B[0m counter \u001B[38;5;241m=\u001B[39m \u001B[38;5;241m1\u001B[39m\n\u001B[1;32m----> 7\u001B[0m \u001B[38;5;28;01mfor\u001B[39;00m index, row \u001B[38;5;129;01min\u001B[39;00m df\u001B[38;5;241m.\u001B[39miterrows():\n\u001B[0;32m      8\u001B[0m     \u001B[38;5;28;01mif\u001B[39;00m row\u001B[38;5;241m.\u001B[39miloc[\u001B[38;5;241m2\u001B[39m] \u001B[38;5;241m==\u001B[39m \u001B[38;5;124m\"\u001B[39m\u001B[38;5;124mCRITIQUE\u001B[39m\u001B[38;5;124m\"\u001B[39m:\n\u001B[0;32m      9\u001B[0m         \u001B[38;5;28;01mif\u001B[39;00m \u001B[38;5;28mlen\u001B[39m(current_sequence) \u001B[38;5;241m>\u001B[39m \u001B[38;5;241m100\u001B[39m: \u001B[38;5;66;03m#only take short sequences into account\u001B[39;00m\n",
      "File \u001B[1;32m~\\.conda\\envs\\DeepLearning\\lib\\site-packages\\pandas\\core\\frame.py:1400\u001B[0m, in \u001B[0;36mDataFrame.iterrows\u001B[1;34m(self)\u001B[0m\n\u001B[0;32m   1398\u001B[0m using_cow \u001B[38;5;241m=\u001B[39m using_copy_on_write()\n\u001B[0;32m   1399\u001B[0m \u001B[38;5;28;01mfor\u001B[39;00m k, v \u001B[38;5;129;01min\u001B[39;00m \u001B[38;5;28mzip\u001B[39m(\u001B[38;5;28mself\u001B[39m\u001B[38;5;241m.\u001B[39mindex, \u001B[38;5;28mself\u001B[39m\u001B[38;5;241m.\u001B[39mvalues):\n\u001B[1;32m-> 1400\u001B[0m     s \u001B[38;5;241m=\u001B[39m \u001B[43mklass\u001B[49m\u001B[43m(\u001B[49m\u001B[43mv\u001B[49m\u001B[43m,\u001B[49m\u001B[43m \u001B[49m\u001B[43mindex\u001B[49m\u001B[38;5;241;43m=\u001B[39;49m\u001B[43mcolumns\u001B[49m\u001B[43m,\u001B[49m\u001B[43m \u001B[49m\u001B[43mname\u001B[49m\u001B[38;5;241;43m=\u001B[39;49m\u001B[43mk\u001B[49m\u001B[43m)\u001B[49m\u001B[38;5;241m.\u001B[39m__finalize__(\u001B[38;5;28mself\u001B[39m)\n\u001B[0;32m   1401\u001B[0m     \u001B[38;5;28;01mif\u001B[39;00m using_cow \u001B[38;5;129;01mand\u001B[39;00m \u001B[38;5;28mself\u001B[39m\u001B[38;5;241m.\u001B[39m_mgr\u001B[38;5;241m.\u001B[39mis_single_block:\n\u001B[0;32m   1402\u001B[0m         s\u001B[38;5;241m.\u001B[39m_mgr\u001B[38;5;241m.\u001B[39madd_references(\u001B[38;5;28mself\u001B[39m\u001B[38;5;241m.\u001B[39m_mgr)  \u001B[38;5;66;03m# type: ignore[arg-type]\u001B[39;00m\n",
      "File \u001B[1;32m~\\.conda\\envs\\DeepLearning\\lib\\site-packages\\pandas\\core\\series.py:511\u001B[0m, in \u001B[0;36mSeries.__init__\u001B[1;34m(self, data, index, dtype, name, copy, fastpath)\u001B[0m\n\u001B[0;32m    508\u001B[0m \u001B[38;5;28;01melse\u001B[39;00m:\n\u001B[0;32m    509\u001B[0m     data \u001B[38;5;241m=\u001B[39m sanitize_array(data, index, dtype, copy)\n\u001B[1;32m--> 511\u001B[0m     manager \u001B[38;5;241m=\u001B[39m \u001B[43mget_option\u001B[49m\u001B[43m(\u001B[49m\u001B[38;5;124;43m\"\u001B[39;49m\u001B[38;5;124;43mmode.data_manager\u001B[39;49m\u001B[38;5;124;43m\"\u001B[39;49m\u001B[43m)\u001B[49m\n\u001B[0;32m    512\u001B[0m     \u001B[38;5;28;01mif\u001B[39;00m manager \u001B[38;5;241m==\u001B[39m \u001B[38;5;124m\"\u001B[39m\u001B[38;5;124mblock\u001B[39m\u001B[38;5;124m\"\u001B[39m:\n\u001B[0;32m    513\u001B[0m         data \u001B[38;5;241m=\u001B[39m SingleBlockManager\u001B[38;5;241m.\u001B[39mfrom_array(data, index, refs\u001B[38;5;241m=\u001B[39mrefs)\n",
      "\u001B[1;31mKeyboardInterrupt\u001B[0m: "
     ]
    }
   ],
   "source": [
    "# Data preparation for sequence and 1-hot approaches\n",
    "\n",
    "import pandas as pd\n",
    "\n",
    "X = []\n",
    "y = []\n",
    "\n",
    "for i in range(1,26):\n",
    "    print(str(i) + \" out of 25\")\n",
    "    df = pd.read_csv(\"../Data/Train/Last 100/2 Clean without single criticals/\" + str(i) + \"_final.csv\", header=None)\n",
    "    X_temp, y_temp = prepare_data()\n",
    "    X_temp = fill_sequences_with_zero()\n",
    "    add_to_X(X_temp)\n",
    "    add_to_y(y_temp)\n",
    "    df2 = pd.DataFrame(X)\n",
    "    df2['y'] = y\n",
    "    print(\"Saving new file for \" + str(i))\n",
    "    df2.to_csv(str(i) + \"_sequences100.csv\", index=False)\n",
    "    X = []\n",
    "    y = []"
   ],
   "metadata": {
    "collapsed": false,
    "ExecuteTime": {
     "start_time": "2023-10-11T14:38:01.698145Z",
     "end_time": "2023-10-11T14:46:26.535500Z"
    }
   }
  }
 ],
 "metadata": {
  "kernelspec": {
   "display_name": "Python 3",
   "language": "python",
   "name": "python3"
  },
  "language_info": {
   "codemirror_mode": {
    "name": "ipython",
    "version": 2
   },
   "file_extension": ".py",
   "mimetype": "text/x-python",
   "name": "python",
   "nbconvert_exporter": "python",
   "pygments_lexer": "ipython2",
   "version": "2.7.6"
  }
 },
 "nbformat": 4,
 "nbformat_minor": 0
}
