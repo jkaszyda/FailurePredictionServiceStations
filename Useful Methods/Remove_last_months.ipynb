{
 "cells": [
  {
   "cell_type": "code",
   "execution_count": 128,
   "metadata": {
    "collapsed": true,
    "ExecuteTime": {
     "start_time": "2023-10-10T22:21:55.795702Z",
     "end_time": "2023-10-10T22:21:55.812656Z"
    }
   },
   "outputs": [],
   "source": [
    "from datetime import datetime\n",
    "\n",
    "def is_date_limit_exceeded(datestring):\n",
    "    date_to_compare = '2023-03-01'\n",
    "    datetime_object = datetime.strptime(datestring, '%Y-%m-%d %H:%M:%S.%f')\n",
    "    date_from_string = datetime_object.strftime('%Y-%m-%d')\n",
    "\n",
    "    if date_from_string <= date_to_compare:\n",
    "        return False\n",
    "    else:\n",
    "        return True\n"
   ]
  },
  {
   "cell_type": "code",
   "execution_count": 129,
   "outputs": [],
   "source": [
    "def remove_exceeded_lines(station_data):\n",
    "    index_to_delete = 0\n",
    "    for item in station_data:\n",
    "        if item[2] == \"CRITIQUE\":\n",
    "            if is_date_limit_exceeded(item[3]) == True:\n",
    "                index_to_delete = index_to_delete + 1\n",
    "                break\n",
    "        index_to_delete = index_to_delete + 1\n",
    "\n",
    "    if index_to_delete != 0:\n",
    "        station_data = station_data[:index_to_delete]\n",
    "\n",
    "    return station_data"
   ],
   "metadata": {
    "collapsed": false,
    "ExecuteTime": {
     "start_time": "2023-10-10T22:21:59.307151Z",
     "end_time": "2023-10-10T22:21:59.325509Z"
    }
   }
  },
  {
   "cell_type": "code",
   "execution_count": 131,
   "outputs": [
    {
     "name": "stdout",
     "output_type": "stream",
     "text": [
      "1 out of 25\n",
      "Length is:  22193\n",
      "2 out of 25\n",
      "Length is:  12716\n",
      "3 out of 25\n",
      "Length is:  50016\n",
      "4 out of 25\n",
      "Length is:  126010\n",
      "5 out of 25\n",
      "Length is:  247482\n",
      "6 out of 25\n",
      "Length is:  223509\n",
      "7 out of 25\n",
      "Length is:  41419\n",
      "8 out of 25\n",
      "Length is:  40516\n",
      "9 out of 25\n",
      "Length is:  82843\n",
      "10 out of 25\n",
      "Length is:  115862\n",
      "11 out of 25\n",
      "Length is:  85126\n",
      "12 out of 25\n",
      "Length is:  199549\n",
      "13 out of 25\n",
      "Length is:  182871\n",
      "14 out of 25\n",
      "Length is:  261181\n",
      "15 out of 25\n",
      "Length is:  302489\n",
      "16 out of 25\n",
      "Length is:  390767\n",
      "17 out of 25\n",
      "Length is:  343890\n",
      "18 out of 25\n",
      "Length is:  309422\n",
      "19 out of 25\n",
      "Length is:  338813\n",
      "20 out of 25\n",
      "Length is:  277214\n",
      "21 out of 25\n",
      "Length is:  260573\n",
      "22 out of 25\n",
      "Length is:  239725\n",
      "23 out of 25\n",
      "Length is:  150012\n",
      "24 out of 25\n",
      "Length is:  123168\n",
      "25 out of 25\n",
      "Length is:  9509\n"
     ]
    }
   ],
   "source": [
    "import pandas as pd\n",
    "\n",
    "for i in range(1,26):\n",
    "    print(str(i) + \" out of 25\")\n",
    "    df = pd.read_csv(\"../Data/Test/Prep/All/2 Clean without single criticals/\" + str(i) + \"_final.csv\", header=None)\n",
    "    print(\"Length is: \", len(df))\n",
    "\n",
    "    current_station = df.loc[0][0]\n",
    "    station_df = []\n",
    "    final_df = []\n",
    "\n",
    "    for index, row in df.iterrows():\n",
    "        if row.iloc[0] != current_station:\n",
    "            current_station = row.iloc[0]\n",
    "            if len(station_df) > 1:\n",
    "                final_df.extend(remove_exceeded_lines(station_df))\n",
    "            station_df = []\n",
    "            station_df.append(row)\n",
    "        else:\n",
    "            station_df.append(row)\n",
    "\n",
    "    final_df.extend(remove_exceeded_lines(station_df))\n",
    "    df_new = pd.DataFrame(final_df)\n",
    "    df_new.to_csv(str(i) + \"_final.csv\", index=False, header=False)\n"
   ],
   "metadata": {
    "collapsed": false,
    "ExecuteTime": {
     "start_time": "2023-10-10T22:23:01.692292Z",
     "end_time": "2023-10-10T22:29:09.583043Z"
    }
   }
  },
  {
   "cell_type": "code",
   "execution_count": 121,
   "outputs": [
    {
     "name": "stdout",
     "output_type": "stream",
     "text": [
      "14488\n"
     ]
    }
   ],
   "source": [
    "print(len(final_df))"
   ],
   "metadata": {
    "collapsed": false,
    "ExecuteTime": {
     "start_time": "2023-10-10T21:47:55.019392Z",
     "end_time": "2023-10-10T21:47:55.035069Z"
    }
   }
  },
  {
   "cell_type": "code",
   "execution_count": 123,
   "outputs": [],
   "source": [],
   "metadata": {
    "collapsed": false,
    "ExecuteTime": {
     "start_time": "2023-10-10T21:49:13.800731Z",
     "end_time": "2023-10-10T21:49:14.016131Z"
    }
   }
  }
 ],
 "metadata": {
  "kernelspec": {
   "display_name": "Python 3",
   "language": "python",
   "name": "python3"
  },
  "language_info": {
   "codemirror_mode": {
    "name": "ipython",
    "version": 2
   },
   "file_extension": ".py",
   "mimetype": "text/x-python",
   "name": "python",
   "nbconvert_exporter": "python",
   "pygments_lexer": "ipython2",
   "version": "2.7.6"
  }
 },
 "nbformat": 4,
 "nbformat_minor": 0
}
