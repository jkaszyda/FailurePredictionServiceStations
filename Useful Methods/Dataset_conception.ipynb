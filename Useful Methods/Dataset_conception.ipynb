{
 "cells": [
  {
   "cell_type": "code",
   "execution_count": 38,
   "metadata": {
    "collapsed": true,
    "ExecuteTime": {
     "start_time": "2023-08-08T15:15:54.206842Z",
     "end_time": "2023-08-08T15:15:54.226525Z"
    }
   },
   "outputs": [],
   "source": [
    "def prepare_data():\n",
    "    print(\"Preparing data...\")\n",
    "    prepared_x = []\n",
    "    prepared_y = []\n",
    "    current_sequence = []\n",
    "    counter = 1\n",
    "    for index, row in df.iterrows():\n",
    "        if row.iloc[2] == \"CRITIQUE\":\n",
    "            if len(current_sequence) > 100: #only take short sequences into account\n",
    "                current_sequence = []\n",
    "            else:\n",
    "                prepared_x.append(current_sequence)\n",
    "                prepared_y.append(int(row.iloc[1]))\n",
    "                current_sequence = []\n",
    "        else:\n",
    "            current_sequence.append(int(row.iloc[1]))\n",
    "        counter = counter + 1\n",
    "\n",
    "    return prepared_x, prepared_y"
   ]
  },
  {
   "cell_type": "code",
   "execution_count": 39,
   "outputs": [],
   "source": [
    "def fill_sequences_with_zero():\n",
    "    print(\"Filling with 0...\")\n",
    "    new_X_temp = []\n",
    "    for item in X_temp:\n",
    "        for i in range(len(item), 100):\n",
    "            item.append(0)\n",
    "        new_X_temp.append(item)\n",
    "\n",
    "    return new_X_temp"
   ],
   "metadata": {
    "collapsed": false,
    "ExecuteTime": {
     "start_time": "2023-08-08T15:15:56.570688Z",
     "end_time": "2023-08-08T15:15:56.610735Z"
    }
   }
  },
  {
   "cell_type": "code",
   "execution_count": 40,
   "outputs": [],
   "source": [
    "def add_to_X(x_to_add):\n",
    "    for item in x_to_add:\n",
    "        X.append(item)\n",
    "\n",
    "def add_to_y(y_to_add):\n",
    "    for item in y_to_add:\n",
    "        y.append(item)"
   ],
   "metadata": {
    "collapsed": false,
    "ExecuteTime": {
     "start_time": "2023-08-08T15:15:59.259552Z",
     "end_time": "2023-08-08T15:15:59.275388Z"
    }
   }
  },
  {
   "cell_type": "code",
   "execution_count": 41,
   "outputs": [
    {
     "name": "stdout",
     "output_type": "stream",
     "text": [
      "1 out of 25\n",
      "Preparing data...\n"
     ]
    },
    {
     "ename": "KeyboardInterrupt",
     "evalue": "",
     "output_type": "error",
     "traceback": [
      "\u001B[1;31m---------------------------------------------------------------------------\u001B[0m",
      "\u001B[1;31mKeyboardInterrupt\u001B[0m                         Traceback (most recent call last)",
      "Cell \u001B[1;32mIn[41], line 11\u001B[0m\n\u001B[0;32m      9\u001B[0m \u001B[38;5;28mprint\u001B[39m(\u001B[38;5;28mstr\u001B[39m(i) \u001B[38;5;241m+\u001B[39m \u001B[38;5;124m\"\u001B[39m\u001B[38;5;124m out of 25\u001B[39m\u001B[38;5;124m\"\u001B[39m)\n\u001B[0;32m     10\u001B[0m df \u001B[38;5;241m=\u001B[39m pd\u001B[38;5;241m.\u001B[39mread_csv(\u001B[38;5;124m\"\u001B[39m\u001B[38;5;124mTraining Clean/Clean without single criticals/\u001B[39m\u001B[38;5;124m\"\u001B[39m \u001B[38;5;241m+\u001B[39m \u001B[38;5;28mstr\u001B[39m(i) \u001B[38;5;241m+\u001B[39m \u001B[38;5;124m\"\u001B[39m\u001B[38;5;124m_final.csv\u001B[39m\u001B[38;5;124m\"\u001B[39m, header\u001B[38;5;241m=\u001B[39m\u001B[38;5;28;01mNone\u001B[39;00m)\n\u001B[1;32m---> 11\u001B[0m X_temp, y_temp \u001B[38;5;241m=\u001B[39m \u001B[43mprepare_data\u001B[49m\u001B[43m(\u001B[49m\u001B[43m)\u001B[49m\n\u001B[0;32m     12\u001B[0m X_temp \u001B[38;5;241m=\u001B[39m fill_sequences_with_zero()\n\u001B[0;32m     13\u001B[0m add_to_X(X_temp)\n",
      "Cell \u001B[1;32mIn[38], line 8\u001B[0m, in \u001B[0;36mprepare_data\u001B[1;34m()\u001B[0m\n\u001B[0;32m      6\u001B[0m counter \u001B[38;5;241m=\u001B[39m \u001B[38;5;241m1\u001B[39m\n\u001B[0;32m      7\u001B[0m \u001B[38;5;28;01mfor\u001B[39;00m index, row \u001B[38;5;129;01min\u001B[39;00m df\u001B[38;5;241m.\u001B[39miterrows():\n\u001B[1;32m----> 8\u001B[0m     \u001B[38;5;28;01mif\u001B[39;00m \u001B[43mrow\u001B[49m\u001B[38;5;241;43m.\u001B[39;49m\u001B[43miloc\u001B[49m\u001B[43m[\u001B[49m\u001B[38;5;241;43m2\u001B[39;49m\u001B[43m]\u001B[49m \u001B[38;5;241m==\u001B[39m \u001B[38;5;124m\"\u001B[39m\u001B[38;5;124mCRITIQUE\u001B[39m\u001B[38;5;124m\"\u001B[39m:\n\u001B[0;32m      9\u001B[0m         \u001B[38;5;28;01mif\u001B[39;00m \u001B[38;5;28mlen\u001B[39m(current_sequence) \u001B[38;5;241m>\u001B[39m \u001B[38;5;241m100\u001B[39m: \u001B[38;5;66;03m#only take short sequences into account\u001B[39;00m\n\u001B[0;32m     10\u001B[0m             current_sequence \u001B[38;5;241m=\u001B[39m []\n",
      "File \u001B[1;32m~\\.conda\\envs\\DeepLearning\\lib\\site-packages\\pandas\\core\\indexing.py:1103\u001B[0m, in \u001B[0;36m_LocationIndexer.__getitem__\u001B[1;34m(self, key)\u001B[0m\n\u001B[0;32m   1100\u001B[0m axis \u001B[38;5;241m=\u001B[39m \u001B[38;5;28mself\u001B[39m\u001B[38;5;241m.\u001B[39maxis \u001B[38;5;129;01mor\u001B[39;00m \u001B[38;5;241m0\u001B[39m\n\u001B[0;32m   1102\u001B[0m maybe_callable \u001B[38;5;241m=\u001B[39m com\u001B[38;5;241m.\u001B[39mapply_if_callable(key, \u001B[38;5;28mself\u001B[39m\u001B[38;5;241m.\u001B[39mobj)\n\u001B[1;32m-> 1103\u001B[0m \u001B[38;5;28;01mreturn\u001B[39;00m \u001B[38;5;28;43mself\u001B[39;49m\u001B[38;5;241;43m.\u001B[39;49m\u001B[43m_getitem_axis\u001B[49m\u001B[43m(\u001B[49m\u001B[43mmaybe_callable\u001B[49m\u001B[43m,\u001B[49m\u001B[43m \u001B[49m\u001B[43maxis\u001B[49m\u001B[38;5;241;43m=\u001B[39;49m\u001B[43maxis\u001B[49m\u001B[43m)\u001B[49m\n",
      "File \u001B[1;32m~\\.conda\\envs\\DeepLearning\\lib\\site-packages\\pandas\\core\\indexing.py:1658\u001B[0m, in \u001B[0;36m_iLocIndexer._getitem_axis\u001B[1;34m(self, key, axis)\u001B[0m\n\u001B[0;32m   1655\u001B[0m \u001B[38;5;66;03m# validate the location\u001B[39;00m\n\u001B[0;32m   1656\u001B[0m \u001B[38;5;28mself\u001B[39m\u001B[38;5;241m.\u001B[39m_validate_integer(key, axis)\n\u001B[1;32m-> 1658\u001B[0m \u001B[38;5;28;01mreturn\u001B[39;00m \u001B[38;5;28;43mself\u001B[39;49m\u001B[38;5;241;43m.\u001B[39;49m\u001B[43mobj\u001B[49m\u001B[38;5;241;43m.\u001B[39;49m\u001B[43m_ixs\u001B[49m\u001B[43m(\u001B[49m\u001B[43mkey\u001B[49m\u001B[43m,\u001B[49m\u001B[43m \u001B[49m\u001B[43maxis\u001B[49m\u001B[38;5;241;43m=\u001B[39;49m\u001B[43maxis\u001B[49m\u001B[43m)\u001B[49m\n",
      "File \u001B[1;32m~\\.conda\\envs\\DeepLearning\\lib\\site-packages\\pandas\\core\\series.py:985\u001B[0m, in \u001B[0;36mSeries._ixs\u001B[1;34m(self, i, axis)\u001B[0m\n\u001B[0;32m    973\u001B[0m \u001B[38;5;28;01mdef\u001B[39;00m \u001B[38;5;21m_ixs\u001B[39m(\u001B[38;5;28mself\u001B[39m, i: \u001B[38;5;28mint\u001B[39m, axis: AxisInt \u001B[38;5;241m=\u001B[39m \u001B[38;5;241m0\u001B[39m) \u001B[38;5;241m-\u001B[39m\u001B[38;5;241m>\u001B[39m Any:\n\u001B[0;32m    974\u001B[0m \u001B[38;5;250m    \u001B[39m\u001B[38;5;124;03m\"\"\"\u001B[39;00m\n\u001B[0;32m    975\u001B[0m \u001B[38;5;124;03m    Return the i-th value or values in the Series by location.\u001B[39;00m\n\u001B[0;32m    976\u001B[0m \n\u001B[1;32m   (...)\u001B[0m\n\u001B[0;32m    983\u001B[0m \u001B[38;5;124;03m    scalar (int) or Series (slice, sequence)\u001B[39;00m\n\u001B[0;32m    984\u001B[0m \u001B[38;5;124;03m    \"\"\"\u001B[39;00m\n\u001B[1;32m--> 985\u001B[0m     \u001B[38;5;28;01mreturn\u001B[39;00m \u001B[38;5;28;43mself\u001B[39;49m\u001B[38;5;241;43m.\u001B[39;49m\u001B[43m_values\u001B[49m[i]\n",
      "File \u001B[1;32m~\\.conda\\envs\\DeepLearning\\lib\\site-packages\\pandas\\core\\series.py:750\u001B[0m, in \u001B[0;36mSeries._values\u001B[1;34m(self)\u001B[0m\n\u001B[0;32m    718\u001B[0m \u001B[38;5;129m@property\u001B[39m\n\u001B[0;32m    719\u001B[0m \u001B[38;5;28;01mdef\u001B[39;00m \u001B[38;5;21m_values\u001B[39m(\u001B[38;5;28mself\u001B[39m):\n\u001B[0;32m    720\u001B[0m \u001B[38;5;250m    \u001B[39m\u001B[38;5;124;03m\"\"\"\u001B[39;00m\n\u001B[0;32m    721\u001B[0m \u001B[38;5;124;03m    Return the internal repr of this data (defined by Block.interval_values).\u001B[39;00m\n\u001B[0;32m    722\u001B[0m \u001B[38;5;124;03m    This are the values as stored in the Block (ndarray or ExtensionArray\u001B[39;00m\n\u001B[1;32m   (...)\u001B[0m\n\u001B[0;32m    748\u001B[0m \n\u001B[0;32m    749\u001B[0m \u001B[38;5;124;03m    \"\"\"\u001B[39;00m\n\u001B[1;32m--> 750\u001B[0m     \u001B[38;5;28;01mreturn\u001B[39;00m \u001B[38;5;28;43mself\u001B[39;49m\u001B[38;5;241;43m.\u001B[39;49m\u001B[43m_mgr\u001B[49m\u001B[38;5;241;43m.\u001B[39;49m\u001B[43minternal_values\u001B[49m\u001B[43m(\u001B[49m\u001B[43m)\u001B[49m\n",
      "File \u001B[1;32m~\\.conda\\envs\\DeepLearning\\lib\\site-packages\\pandas\\core\\internals\\managers.py:2013\u001B[0m, in \u001B[0;36mSingleBlockManager.internal_values\u001B[1;34m(self)\u001B[0m\n\u001B[0;32m   2011\u001B[0m \u001B[38;5;28;01mdef\u001B[39;00m \u001B[38;5;21minternal_values\u001B[39m(\u001B[38;5;28mself\u001B[39m):\n\u001B[0;32m   2012\u001B[0m \u001B[38;5;250m    \u001B[39m\u001B[38;5;124;03m\"\"\"The array that Series._values returns\"\"\"\u001B[39;00m\n\u001B[1;32m-> 2013\u001B[0m     \u001B[38;5;28;01mreturn\u001B[39;00m \u001B[38;5;28;43mself\u001B[39;49m\u001B[38;5;241;43m.\u001B[39;49m\u001B[43m_block\u001B[49m\u001B[38;5;241m.\u001B[39mvalues\n",
      "File \u001B[1;32m~\\.conda\\envs\\DeepLearning\\lib\\site-packages\\pandas\\_libs\\properties.pyx:36\u001B[0m, in \u001B[0;36mpandas._libs.properties.CachedProperty.__get__\u001B[1;34m()\u001B[0m\n",
      "File \u001B[1;32m~\\.conda\\envs\\DeepLearning\\lib\\site-packages\\pandas\\core\\internals\\managers.py:1946\u001B[0m, in \u001B[0;36mSingleBlockManager._block\u001B[1;34m(self)\u001B[0m\n\u001B[0;32m   1944\u001B[0m \u001B[38;5;129m@cache_readonly\u001B[39m\n\u001B[0;32m   1945\u001B[0m \u001B[38;5;28;01mdef\u001B[39;00m \u001B[38;5;21m_block\u001B[39m(\u001B[38;5;28mself\u001B[39m) \u001B[38;5;241m-\u001B[39m\u001B[38;5;241m>\u001B[39m Block:\n\u001B[1;32m-> 1946\u001B[0m     \u001B[38;5;28;01mreturn\u001B[39;00m \u001B[38;5;28;43mself\u001B[39;49m\u001B[38;5;241;43m.\u001B[39;49m\u001B[43mblocks\u001B[49m[\u001B[38;5;241m0\u001B[39m]\n",
      "\u001B[1;31mKeyboardInterrupt\u001B[0m: "
     ]
    }
   ],
   "source": [
    "# Data preparation for sequence and 1-hot approaches\n",
    "\n",
    "import pandas as pd\n",
    "\n",
    "X = []\n",
    "y = []\n",
    "\n",
    "for i in range(1,26):\n",
    "    print(str(i) + \" out of 25\")\n",
    "    df = pd.read_csv(\"Training Clean/Clean without single criticals/\" + str(i) + \"_final.csv\", header=None)\n",
    "    X_temp, y_temp = prepare_data()\n",
    "    X_temp = fill_sequences_with_zero()\n",
    "    add_to_X(X_temp)\n",
    "    add_to_y(y_temp)\n",
    "    df2 = pd.DataFrame(X)\n",
    "    df2['y'] = y\n",
    "    print(\"Saving new file for \" + str(i))\n",
    "    df2.to_csv(str(i) + \"_output.csv\", index=False)"
   ],
   "metadata": {
    "collapsed": false,
    "ExecuteTime": {
     "start_time": "2023-08-08T15:01:52.844614Z",
     "end_time": "2023-08-08T15:01:52.855030Z"
    }
   }
  }
 ],
 "metadata": {
  "kernelspec": {
   "display_name": "Python 3",
   "language": "python",
   "name": "python3"
  },
  "language_info": {
   "codemirror_mode": {
    "name": "ipython",
    "version": 2
   },
   "file_extension": ".py",
   "mimetype": "text/x-python",
   "name": "python",
   "nbconvert_exporter": "python",
   "pygments_lexer": "ipython2",
   "version": "2.7.6"
  }
 },
 "nbformat": 4,
 "nbformat_minor": 0
}
