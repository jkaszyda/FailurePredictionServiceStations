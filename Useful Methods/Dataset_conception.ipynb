{
 "cells": [
  {
   "cell_type": "code",
   "execution_count": 1,
   "metadata": {
    "collapsed": true,
    "ExecuteTime": {
     "start_time": "2023-08-10T11:53:10.670462Z",
     "end_time": "2023-08-10T11:53:10.702732Z"
    }
   },
   "outputs": [],
   "source": [
    "def prepare_data():\n",
    "    print(\"Preparing data...\")\n",
    "    prepared_x = []\n",
    "    prepared_y = []\n",
    "    current_sequence = []\n",
    "    counter = 1\n",
    "    for index, row in df.iterrows():\n",
    "        if row.iloc[2] == \"CRITIQUE\":\n",
    "            if len(current_sequence) > 100: #only take short sequences into account\n",
    "                current_sequence = []\n",
    "            else:\n",
    "                prepared_x.append(current_sequence)\n",
    "                prepared_y.append(int(row.iloc[1]))\n",
    "                current_sequence = []\n",
    "        else:\n",
    "            current_sequence.append(int(row.iloc[1]))\n",
    "        counter = counter + 1\n",
    "\n",
    "    return prepared_x, prepared_y"
   ]
  },
  {
   "cell_type": "code",
   "execution_count": 2,
   "outputs": [],
   "source": [
    "def fill_sequences_with_zero():\n",
    "    print(\"Filling with 0...\")\n",
    "    new_X_temp = []\n",
    "    for item in X_temp:\n",
    "        for i in range(len(item), 100):\n",
    "            item.append(0)\n",
    "        new_X_temp.append(item)\n",
    "\n",
    "    return new_X_temp"
   ],
   "metadata": {
    "collapsed": false,
    "ExecuteTime": {
     "start_time": "2023-08-10T11:53:12.540171Z",
     "end_time": "2023-08-10T11:53:12.558997Z"
    }
   }
  },
  {
   "cell_type": "code",
   "execution_count": 3,
   "outputs": [],
   "source": [
    "def add_to_X(x_to_add):\n",
    "    for item in x_to_add:\n",
    "        X.append(item)\n",
    "\n",
    "def add_to_y(y_to_add):\n",
    "    for item in y_to_add:\n",
    "        y.append(item)"
   ],
   "metadata": {
    "collapsed": false,
    "ExecuteTime": {
     "start_time": "2023-08-10T11:53:16.281257Z",
     "end_time": "2023-08-10T11:53:16.305700Z"
    }
   }
  },
  {
   "cell_type": "code",
   "execution_count": 4,
   "outputs": [
    {
     "name": "stdout",
     "output_type": "stream",
     "text": [
      "1 out of 25\n",
      "Preparing data...\n",
      "Filling with 0...\n",
      "Saving new file for 1\n",
      "2 out of 25\n",
      "Preparing data...\n",
      "Filling with 0...\n",
      "Saving new file for 2\n",
      "3 out of 25\n",
      "Preparing data...\n",
      "Filling with 0...\n",
      "Saving new file for 3\n",
      "4 out of 25\n",
      "Preparing data...\n",
      "Filling with 0...\n",
      "Saving new file for 4\n",
      "5 out of 25\n",
      "Preparing data...\n",
      "Filling with 0...\n",
      "Saving new file for 5\n",
      "6 out of 25\n",
      "Preparing data...\n",
      "Filling with 0...\n",
      "Saving new file for 6\n",
      "7 out of 25\n",
      "Preparing data...\n",
      "Filling with 0...\n",
      "Saving new file for 7\n",
      "8 out of 25\n",
      "Preparing data...\n",
      "Filling with 0...\n",
      "Saving new file for 8\n",
      "9 out of 25\n",
      "Preparing data...\n",
      "Filling with 0...\n",
      "Saving new file for 9\n",
      "10 out of 25\n",
      "Preparing data...\n",
      "Filling with 0...\n",
      "Saving new file for 10\n",
      "11 out of 25\n",
      "Preparing data...\n",
      "Filling with 0...\n",
      "Saving new file for 11\n",
      "12 out of 25\n",
      "Preparing data...\n",
      "Filling with 0...\n",
      "Saving new file for 12\n",
      "13 out of 25\n",
      "Preparing data...\n",
      "Filling with 0...\n",
      "Saving new file for 13\n",
      "14 out of 25\n",
      "Preparing data...\n",
      "Filling with 0...\n",
      "Saving new file for 14\n",
      "15 out of 25\n",
      "Preparing data...\n",
      "Filling with 0...\n",
      "Saving new file for 15\n",
      "16 out of 25\n",
      "Preparing data...\n",
      "Filling with 0...\n",
      "Saving new file for 16\n",
      "17 out of 25\n",
      "Preparing data...\n",
      "Filling with 0...\n",
      "Saving new file for 17\n",
      "18 out of 25\n",
      "Preparing data...\n",
      "Filling with 0...\n",
      "Saving new file for 18\n",
      "19 out of 25\n",
      "Preparing data...\n",
      "Filling with 0...\n",
      "Saving new file for 19\n",
      "20 out of 25\n",
      "Preparing data...\n",
      "Filling with 0...\n",
      "Saving new file for 20\n",
      "21 out of 25\n",
      "Preparing data...\n",
      "Filling with 0...\n",
      "Saving new file for 21\n",
      "22 out of 25\n",
      "Preparing data...\n",
      "Filling with 0...\n",
      "Saving new file for 22\n",
      "23 out of 25\n",
      "Preparing data...\n",
      "Filling with 0...\n",
      "Saving new file for 23\n",
      "24 out of 25\n",
      "Preparing data...\n",
      "Filling with 0...\n",
      "Saving new file for 24\n",
      "25 out of 25\n",
      "Preparing data...\n",
      "Filling with 0...\n",
      "Saving new file for 25\n"
     ]
    }
   ],
   "source": [
    "# Data preparation for sequence and 1-hot approaches\n",
    "\n",
    "import pandas as pd\n",
    "\n",
    "X = []\n",
    "y = []\n",
    "\n",
    "for i in range(1,26):\n",
    "    print(str(i) + \" out of 25\")\n",
    "    df = pd.read_csv(\"Test Clean/Clean without single criticals/\" + str(i) + \"_final.csv\", header=None)\n",
    "    X_temp, y_temp = prepare_data()\n",
    "    X_temp = fill_sequences_with_zero()\n",
    "    add_to_X(X_temp)\n",
    "    add_to_y(y_temp)\n",
    "    df2 = pd.DataFrame(X)\n",
    "    df2['y'] = y\n",
    "    print(\"Saving new file for \" + str(i))\n",
    "    df2.to_csv(str(i) + \"_output.csv\", index=False)"
   ],
   "metadata": {
    "collapsed": false,
    "ExecuteTime": {
     "start_time": "2023-08-10T11:53:41.697036Z",
     "end_time": "2023-08-10T12:01:30.754358Z"
    }
   }
  }
 ],
 "metadata": {
  "kernelspec": {
   "display_name": "Python 3",
   "language": "python",
   "name": "python3"
  },
  "language_info": {
   "codemirror_mode": {
    "name": "ipython",
    "version": 2
   },
   "file_extension": ".py",
   "mimetype": "text/x-python",
   "name": "python",
   "nbconvert_exporter": "python",
   "pygments_lexer": "ipython2",
   "version": "2.7.6"
  }
 },
 "nbformat": 4,
 "nbformat_minor": 0
}
