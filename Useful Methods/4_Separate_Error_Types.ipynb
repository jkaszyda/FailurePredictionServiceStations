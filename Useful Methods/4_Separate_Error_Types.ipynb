{
 "cells": [
  {
   "cell_type": "markdown",
   "source": [
    "Step 4: Separate data by alarm type\n",
    "The available samples are sorted by alarm type and saved in separate .csv files"
   ],
   "metadata": {
    "collapsed": false
   }
  },
  {
   "cell_type": "code",
   "execution_count": 21,
   "outputs": [],
   "source": [
    "def separate_error_types():\n",
    "    for index,row in df.iterrows():\n",
    "        y = row.iloc[100]\n",
    "        if y == 7:\n",
    "            samples_7.append(row)\n",
    "        elif y == 15:\n",
    "            samples_15.append(row)\n",
    "        elif y == 16:\n",
    "            samples_16.append(row)\n",
    "        elif y == 21:\n",
    "            samples_21.append(row)\n",
    "        elif y == 33:\n",
    "            samples_33.append(row)\n",
    "        elif y == 34:\n",
    "            samples_34.append(row)\n",
    "        elif y == 39:\n",
    "            samples_39.append(row)\n",
    "        elif y == 56:\n",
    "            samples_56.append(row)\n",
    "        elif y == 68:\n",
    "            samples_68.append(row)\n",
    "        elif y == 95:\n",
    "            samples_95.append(row)\n",
    "        elif y == 1000:\n",
    "            samples_1000.append(row)\n",
    "        elif y == 1001:\n",
    "            samples_1001.append(row)\n",
    "        else:\n",
    "            continue"
   ],
   "metadata": {
    "collapsed": false
   }
  },
  {
   "cell_type": "code",
   "execution_count": 24,
   "outputs": [
    {
     "name": "stdout",
     "output_type": "stream",
     "text": [
      "1 out of 25\n",
      "Length:  1717\n",
      "2 out of 25\n",
      "Length:  1679\n",
      "3 out of 25\n",
      "Length:  2959\n",
      "4 out of 25\n",
      "Length:  2916\n",
      "5 out of 25\n",
      "Length:  3994\n",
      "6 out of 25\n",
      "Length:  3437\n",
      "7 out of 25\n",
      "Length:  1230\n",
      "8 out of 25\n",
      "Length:  1031\n",
      "9 out of 25\n",
      "Length:  1364\n",
      "10 out of 25\n",
      "Length:  2034\n",
      "11 out of 25\n",
      "Length:  2023\n",
      "12 out of 25\n",
      "Length:  2128\n",
      "13 out of 25\n",
      "Length:  2789\n",
      "14 out of 25\n",
      "Length:  4534\n",
      "15 out of 25\n",
      "Length:  5922\n",
      "16 out of 25\n",
      "Length:  5677\n",
      "17 out of 25\n",
      "Length:  5117\n",
      "18 out of 25\n",
      "Length:  5225\n",
      "19 out of 25\n",
      "Length:  4313\n",
      "20 out of 25\n",
      "Length:  3338\n",
      "21 out of 25\n",
      "Length:  2816\n",
      "22 out of 25\n",
      "Length:  2489\n",
      "23 out of 25\n",
      "Length:  2383\n",
      "24 out of 25\n",
      "Length:  1616\n",
      "25 out of 25\n",
      "Length:  187\n",
      "Total length:  72918\n"
     ]
    }
   ],
   "source": [
    "import pandas as pd\n",
    "\n",
    "samples_7 = []\n",
    "samples_15 = []\n",
    "samples_16 = []\n",
    "samples_21 = []\n",
    "samples_33 = []\n",
    "samples_34 = []\n",
    "samples_39 = []\n",
    "samples_56 = []\n",
    "samples_68 = []\n",
    "samples_95 = []\n",
    "samples_1000 = []\n",
    "samples_1001 = []\n",
    "\n",
    "total_length = 0\n",
    "current_length = 0\n",
    "\n",
    "for i in range(1,26):\n",
    "    print(str(i) + \" out of 25\")\n",
    "    df = pd.read_csv(\"../Data/3 Transformed into Sequences/\" + str(i) + \"_sequences100.csv\")\n",
    "    current_length = len(df)\n",
    "    print(\"Length: \", current_length)\n",
    "    total_length = total_length + current_length\n",
    "    separate_error_types()\n",
    "    current_length = 0\n",
    "\n",
    "print(\"Total length: \", total_length)\n",
    "df7 = pd.DataFrame(samples_7)\n",
    "df15 = pd.DataFrame(samples_15)\n",
    "df16 = pd.DataFrame(samples_16)\n",
    "df21 = pd.DataFrame(samples_21)\n",
    "df33 = pd.DataFrame(samples_33)\n",
    "df34 = pd.DataFrame(samples_34)\n",
    "df39 = pd.DataFrame(samples_39)\n",
    "df56 = pd.DataFrame(samples_56)\n",
    "df68 = pd.DataFrame(samples_68)\n",
    "df95 = pd.DataFrame(samples_95)\n",
    "df1000 = pd.DataFrame(samples_1000)\n",
    "df1001 = pd.DataFrame(samples_1001)\n",
    "\n",
    "df7.to_csv(\"7.csv\", index=None)\n",
    "df15.to_csv(\"15.csv\", index=None)\n",
    "df16.to_csv(\"16.csv\", index=None)\n",
    "df21.to_csv(\"21.csv\", index=None)\n",
    "df33.to_csv(\"33.csv\", index=None)\n",
    "df34.to_csv(\"34.csv\", index=None)\n",
    "df39.to_csv(\"39.csv\", index=None)\n",
    "df56.to_csv(\"56.csv\", index=None)\n",
    "df68.to_csv(\"68.csv\", index=None)\n",
    "df95.to_csv(\"95.csv\", index=None)\n",
    "df1000.to_csv(\"1000.csv\", index=None)\n",
    "df1001.to_csv(\"1001.csv\", index=None)"
   ],
   "metadata": {
    "collapsed": false,
    "ExecuteTime": {
     "start_time": "2023-10-11T14:50:36.806838Z",
     "end_time": "2023-10-11T14:50:46.640022Z"
    }
   }
  }
 ],
 "metadata": {
  "kernelspec": {
   "display_name": "Python 3",
   "language": "python",
   "name": "python3"
  },
  "language_info": {
   "codemirror_mode": {
    "name": "ipython",
    "version": 2
   },
   "file_extension": ".py",
   "mimetype": "text/x-python",
   "name": "python",
   "nbconvert_exporter": "python",
   "pygments_lexer": "ipython2",
   "version": "2.7.6"
  }
 },
 "nbformat": 4,
 "nbformat_minor": 0
}
