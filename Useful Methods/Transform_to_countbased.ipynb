{
 "cells": [
  {
   "cell_type": "code",
   "execution_count": 10,
   "metadata": {
    "collapsed": true,
    "ExecuteTime": {
     "start_time": "2023-10-15T15:48:17.576481Z",
     "end_time": "2023-10-15T15:48:17.597537Z"
    }
   },
   "outputs": [],
   "source": [
    "import pandas as pd\n",
    "\n",
    "dictionary_frame = {1:0,2:0,3:0,4:0,5:0,9:0,10:0,11:0,13:0,14:0,17:0,19:0,20:0,22:0,23:0,24:0,\n",
    "                    25:0,26:0,27:0,28:0,29:0,30:0,31:0,32:0,35:0,36:0,37:0,38:0,40:0,41:0,42:0,43:0,44:0,45:0,\n",
    "                    46:0,47:0,48:0,49:0,50:0,52:0,53:0,57:0,58:0,59:0,60:0,62:0,63:0,64:0,65:0,66:0,\n",
    "                    67:0,69:0,70:0,71:0,79:0,81:0,83:0,84:0,85:0,86:0,87:0,88:0,89:0,90:0,91:0,92:0,93:0,94:0,96:0,\n",
    "                    98:0,99:0,100:0,101:0,102:0,103:0,104:0,107:0}\n",
    "\n",
    "error_list = [7,15,16,21,33,56,68,95,1000,1001]"
   ]
  },
  {
   "cell_type": "code",
   "execution_count": 11,
   "outputs": [],
   "source": [
    "def transform_to_countbased(current_x):\n",
    "    dictionary_current = dictionary_frame\n",
    "    dictionary_current = dict.fromkeys(dictionary_current, 0)\n",
    "    list_data = []\n",
    "    for item in current_x:\n",
    "        for sample in item:\n",
    "            if not sample == 0:\n",
    "                dictionary_current[sample] += 1\n",
    "        list_data.append(dictionary_current)\n",
    "        dictionary_current = dict.fromkeys(dictionary_current, 0)\n",
    "    return list_data\n"
   ],
   "metadata": {
    "collapsed": false,
    "ExecuteTime": {
     "start_time": "2023-10-15T15:48:19.916798Z",
     "end_time": "2023-10-15T15:48:19.934862Z"
    }
   }
  },
  {
   "cell_type": "code",
   "execution_count": 13,
   "outputs": [],
   "source": [
    "for i in error_list:\n",
    "    y = []\n",
    "    df = pd.read_csv(\"../Data/Train/Unique Samples/Sequence/\" + str(i) + \".csv\")\n",
    "    y = df['y'].values\n",
    "    x = df.drop(columns=['y']).values\n",
    "    data = transform_to_countbased(x)\n",
    "    df_new = pd.DataFrame(data)\n",
    "    df_new['y'] = y\n",
    "    df_new.to_csv(str(i) + '_countbased.csv', index=False)\n"
   ],
   "metadata": {
    "collapsed": false,
    "ExecuteTime": {
     "start_time": "2023-10-15T15:48:45.199900Z",
     "end_time": "2023-10-15T15:49:06.983231Z"
    }
   }
  }
 ],
 "metadata": {
  "kernelspec": {
   "display_name": "Python 3",
   "language": "python",
   "name": "python3"
  },
  "language_info": {
   "codemirror_mode": {
    "name": "ipython",
    "version": 2
   },
   "file_extension": ".py",
   "mimetype": "text/x-python",
   "name": "python",
   "nbconvert_exporter": "python",
   "pygments_lexer": "ipython2",
   "version": "2.7.6"
  }
 },
 "nbformat": 4,
 "nbformat_minor": 0
}
