{
 "cells": [
  {
   "cell_type": "code",
   "execution_count": 191,
   "metadata": {
    "collapsed": true,
    "ExecuteTime": {
     "start_time": "2023-08-07T12:06:53.912191Z",
     "end_time": "2023-08-07T12:06:53.999610Z"
    }
   },
   "outputs": [],
   "source": [
    "import pandas as pd\n",
    "\n",
    "df = pd.read_csv(\"25.csv\", delimiter=';')"
   ]
  },
  {
   "cell_type": "code",
   "execution_count": 192,
   "outputs": [
    {
     "name": "stdout",
     "output_type": "stream",
     "text": [
      "107000002040923\n"
     ]
    }
   ],
   "source": [
    "current_site = df['ID_SITE_LAFON'].iloc[0]\n",
    "site_counter = 1\n",
    "print(current_site)"
   ],
   "metadata": {
    "collapsed": false,
    "ExecuteTime": {
     "start_time": "2023-08-07T12:06:55.924206Z",
     "end_time": "2023-08-07T12:06:55.940465Z"
    }
   }
  },
  {
   "cell_type": "markdown",
   "source": [],
   "metadata": {
    "collapsed": false
   }
  },
  {
   "cell_type": "code",
   "execution_count": 93,
   "outputs": [],
   "source": [
    "def find_first_critical(current_site_csv):\n",
    "    index = 0\n",
    "    for item in current_site_csv:\n",
    "        if (item['GRAVITE'] == 'CRITIQUE'):\n",
    "            return index\n",
    "        index = index + 1\n",
    "    return 0"
   ],
   "metadata": {
    "collapsed": false,
    "ExecuteTime": {
     "start_time": "2023-08-07T10:52:01.850268Z",
     "end_time": "2023-08-07T10:52:01.867903Z"
    }
   }
  },
  {
   "cell_type": "code",
   "execution_count": 94,
   "outputs": [],
   "source": [
    "def find_last_critical(current_site_csv):\n",
    "    index = 0\n",
    "    last_index = 0\n",
    "    for item in current_site_csv:\n",
    "        if (item['GRAVITE'] == 'CRITIQUE'):\n",
    "            last_index = index\n",
    "        index = index + 1\n",
    "    return last_index"
   ],
   "metadata": {
    "collapsed": false,
    "ExecuteTime": {
     "start_time": "2023-08-07T10:52:03.553493Z",
     "end_time": "2023-08-07T10:52:03.565868Z"
    }
   }
  },
  {
   "cell_type": "code",
   "execution_count": 95,
   "outputs": [],
   "source": [
    "def is_severity_critical(item):\n",
    "    if item['GRAVITE'] == 'CRITIQUE':\n",
    "        return True\n",
    "    else:\n",
    "        return False"
   ],
   "metadata": {
    "collapsed": false,
    "ExecuteTime": {
     "start_time": "2023-08-07T10:52:05.401048Z",
     "end_time": "2023-08-07T10:52:05.414756Z"
    }
   }
  },
  {
   "cell_type": "code",
   "execution_count": null,
   "outputs": [],
   "source": [
    "#def process_site_csv(current_site_csv):\n",
    "#    for (item in current_site_csv)"
   ],
   "metadata": {
    "collapsed": false
   }
  },
  {
   "cell_type": "code",
   "execution_count": 193,
   "outputs": [
    {
     "name": "stdout",
     "output_type": "stream",
     "text": [
      "Site counter:  1\n",
      "Site counter:  2\n",
      "Site counter:  3\n",
      "Site counter:  4\n",
      "Site counter:  5\n",
      "Site counter:  6\n",
      "Site counter:  7\n",
      "Site counter:  8\n",
      "Site counter:  9\n",
      "Site counter:  10\n",
      "Site counter:  11\n",
      "Site counter:  12\n",
      "Site counter:  13\n",
      "Site counter:  14\n",
      "Site counter:  15\n",
      "Site counter:  16\n",
      "Site counter:  17\n",
      "Site counter:  18\n",
      "Site counter:  19\n",
      "Site counter:  20\n",
      "Site counter:  21\n",
      "Site counter:  22\n",
      "Site counter:  23\n",
      "Site counter:  24\n",
      "Site counter:  25\n"
     ]
    }
   ],
   "source": [
    "final_csv = []\n",
    "current_site_csv = []\n",
    "site_counter = 1\n",
    "\n",
    "print(\"Site counter: \", str(site_counter))\n",
    "for index, row in df.iterrows():\n",
    "    if row['ID_SITE_LAFON'] == current_site:\n",
    "        current_site_csv.append(row)\n",
    "    else:\n",
    "        # Delete incomplete sequence until first critical\n",
    "        first_critical = find_first_critical(current_site_csv)\n",
    "        del current_site_csv[:first_critical+1]\n",
    "\n",
    "        # Delete last incomplete sequence from last critical on\n",
    "        last_critical = find_last_critical(current_site_csv)\n",
    "        if not is_severity_critical(current_site_csv[-1]):\n",
    "            del current_site_csv[last_critical+1:]\n",
    "\n",
    "        for item in current_site_csv:\n",
    "            final_csv.append(item)\n",
    "\n",
    "        current_site_csv = []\n",
    "        current_site = row['ID_SITE_LAFON']\n",
    "        site_counter = site_counter + 1\n",
    "        print(\"Site counter: \", str(site_counter))\n",
    "\n",
    "# Treat last station of file\n",
    "# Delete incomplete sequence until first critical\n",
    "first_critical = find_first_critical(current_site_csv)\n",
    "del current_site_csv[:first_critical+1]\n",
    "\n",
    "# Delete last incomplete sequence from last critical on\n",
    "last_critical = find_last_critical(current_site_csv)\n",
    "if not is_severity_critical(current_site_csv[-1]):\n",
    "    del current_site_csv[last_critical+1:]\n",
    "\n",
    "for item in current_site_csv:\n",
    "    final_csv.append(item)\n"
   ],
   "metadata": {
    "collapsed": false,
    "ExecuteTime": {
     "start_time": "2023-08-07T12:06:59.743261Z",
     "end_time": "2023-08-07T12:07:03.862715Z"
    }
   }
  },
  {
   "cell_type": "code",
   "execution_count": 194,
   "outputs": [],
   "source": [
    "import csv\n",
    "with open(\"25_clean.csv\", \"w\", newline='') as f:\n",
    "    writer = csv.writer(f, delimiter=',', dialect='excel')\n",
    "    writer.writerows(final_csv)"
   ],
   "metadata": {
    "collapsed": false,
    "ExecuteTime": {
     "start_time": "2023-08-07T12:07:08.326129Z",
     "end_time": "2023-08-07T12:07:08.593741Z"
    }
   }
  }
 ],
 "metadata": {
  "kernelspec": {
   "display_name": "Python 3",
   "language": "python",
   "name": "python3"
  },
  "language_info": {
   "codemirror_mode": {
    "name": "ipython",
    "version": 2
   },
   "file_extension": ".py",
   "mimetype": "text/x-python",
   "name": "python",
   "nbconvert_exporter": "python",
   "pygments_lexer": "ipython2",
   "version": "2.7.6"
  }
 },
 "nbformat": 4,
 "nbformat_minor": 0
}
