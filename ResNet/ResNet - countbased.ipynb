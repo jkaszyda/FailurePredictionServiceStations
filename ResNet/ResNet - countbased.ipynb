{
 "cells": [
  {
   "cell_type": "code",
   "execution_count": 1,
   "id": "b503cf2a",
   "metadata": {
    "ExecuteTime": {
     "start_time": "2023-10-18T13:03:09.140360Z",
     "end_time": "2023-10-18T13:03:31.955396Z"
    }
   },
   "outputs": [],
   "source": [
    "import numpy as np\n",
    "import pandas as pd\n",
    "from sklearn.model_selection import train_test_split\n",
    "from sklearn.preprocessing import StandardScaler\n",
    "from sklearn.preprocessing import LabelEncoder\n",
    "from tensorflow import keras\n",
    "from tensorflow.keras import layers\n",
    "from tensorflow.keras.utils import to_categorical\n",
    "from sklearn.utils import class_weight\n",
    "from sklearn.preprocessing import OneHotEncoder\n",
    "\n",
    "# Read data for X and y\n",
    "df7 = pd.read_csv(\"../Data/Train/Random Samples/10000/Count based/7_countbased.csv\")\n",
    "df15 = pd.read_csv(\"../Data/Train/Random Samples/10000/Count based/15_countbased.csv\")\n",
    "df16 = pd.read_csv(\"../Data/Train/Random Samples/10000/Count based/16_countbased.csv\")\n",
    "df21 = pd.read_csv(\"../Data/Train/Random Samples/10000/Count based/21_countbased.csv\")\n",
    "df33 = pd.read_csv(\"../Data/Train/Random Samples/10000/Count based/33_countbased.csv\")\n",
    "df56 = pd.read_csv(\"../Data/Train/Random Samples/10000/Count based/56_countbased.csv\")\n",
    "df68 = pd.read_csv(\"../Data/Train/Random Samples/10000/Count based/68_countbased.csv\")\n",
    "df95 = pd.read_csv(\"../Data/Train/Random Samples/10000/Count based/95_countbased.csv\")\n",
    "df1000 = pd.read_csv(\"../Data/Train/Random Samples/10000/Count based/1000_countbased.csv\")\n",
    "df1001 = pd.read_csv(\"../Data/Train/Random Samples/10000/Count based/1001_countbased.csv\")\n",
    "\n",
    "df = pd.concat([df7,df15, df16, df21, df33, df56, df68, df95, df1000, df1001], ignore_index=True)\n",
    "\n",
    "X = df.drop(columns=['y']).values\n",
    "y = df['y'].values"
   ]
  },
  {
   "cell_type": "code",
   "execution_count": 19,
   "id": "fb011521",
   "metadata": {
    "ExecuteTime": {
     "start_time": "2023-07-26T14:28:32.783667Z",
     "end_time": "2023-07-26T14:28:32.927311Z"
    }
   },
   "outputs": [],
   "source": [
    "from imblearn.over_sampling import RandomOverSampler\n",
    "from collections import Counter\n",
    "from imblearn.over_sampling import BorderlineSMOTE\n",
    "\n",
    "# Apply SMOTE to balance the dataset\n",
    "sm = BorderlineSMOTE(k_neighbors=4, random_state=42)\n",
    "X_res, y_res = sm.fit_resample(X, y)\n",
    "\n",
    "#oversampler = RandomOverSampler(random_state=42)\n",
    "#X_res, y_res = oversampler.fit_resample(X,y)"
   ]
  },
  {
   "cell_type": "code",
   "execution_count": 2,
   "id": "3fd724a7",
   "metadata": {
    "ExecuteTime": {
     "start_time": "2023-10-18T13:03:58.867523Z",
     "end_time": "2023-10-18T13:03:59.048587Z"
    }
   },
   "outputs": [
    {
     "name": "stdout",
     "output_type": "stream",
     "text": [
      "10\n"
     ]
    }
   ],
   "source": [
    "# Determine the number of unique critical error types\n",
    "num_classes = len(np.unique(y))\n",
    "print(num_classes)\n",
    "\n",
    "# Encode the target variable using LabelEncoder and one-hot encoding\n",
    "label_encoder = LabelEncoder()\n",
    "y = label_encoder.fit_transform(y)\n",
    "y = to_categorical(y)\n",
    "\n",
    "# Split the data into train and test sets\n",
    "X_train, X_test, y_train, y_test = train_test_split(X, y, test_size=0.33, random_state=42)"
   ]
  },
  {
   "cell_type": "code",
   "execution_count": 21,
   "id": "8a393fbb",
   "metadata": {
    "ExecuteTime": {
     "start_time": "2023-07-26T14:28:37.703193Z",
     "end_time": "2023-07-26T14:28:37.739166Z"
    }
   },
   "outputs": [],
   "source": [
    "# Assuming X_train and X_test are your input data arrays\n",
    "#X_train = np.reshape(X_train, (X_train.shape[0], X_train.shape[1], 1))\n",
    "#X_test = np.reshape(X_test, (X_test.shape[0], X_test.shape[1], 1))\n",
    "\n",
    "# Assuming y_train and y_test are your label arrays\n",
    "y_train = np.array(y_train)\n",
    "y_test = np.array(y_test)"
   ]
  },
  {
   "cell_type": "code",
   "execution_count": 18,
   "id": "427c220f",
   "metadata": {
    "scrolled": true,
    "ExecuteTime": {
     "start_time": "2023-10-18T13:13:41.328827Z",
     "end_time": "2023-10-18T13:13:44.173785Z"
    }
   },
   "outputs": [
    {
     "name": "stdout",
     "output_type": "stream",
     "text": [
      "Model: \"model_4\"\n",
      "__________________________________________________________________________________________________\n",
      " Layer (type)                   Output Shape         Param #     Connected to                     \n",
      "==================================================================================================\n",
      " input_5 (InputLayer)           [(None, 77, 1)]      0           []                               \n",
      "                                                                                                  \n",
      " conv1d_105 (Conv1D)            (None, 77, 64)       512         ['input_5[0][0]']                \n",
      "                                                                                                  \n",
      " batch_normalization_94 (BatchN  (None, 77, 64)      256         ['conv1d_105[0][0]']             \n",
      " ormalization)                                                                                    \n",
      "                                                                                                  \n",
      " activation_94 (Activation)     (None, 77, 64)       0           ['batch_normalization_94[0][0]'] \n",
      "                                                                                                  \n",
      " conv1d_106 (Conv1D)            (None, 77, 64)       12352       ['activation_94[0][0]']          \n",
      "                                                                                                  \n",
      " batch_normalization_95 (BatchN  (None, 77, 64)      256         ['conv1d_106[0][0]']             \n",
      " ormalization)                                                                                    \n",
      "                                                                                                  \n",
      " activation_95 (Activation)     (None, 77, 64)       0           ['batch_normalization_95[0][0]'] \n",
      "                                                                                                  \n",
      " conv1d_107 (Conv1D)            (None, 77, 64)       12352       ['activation_95[0][0]']          \n",
      "                                                                                                  \n",
      " batch_normalization_96 (BatchN  (None, 77, 64)      256         ['conv1d_107[0][0]']             \n",
      " ormalization)                                                                                    \n",
      "                                                                                                  \n",
      " add_45 (Add)                   (None, 77, 64)       0           ['batch_normalization_96[0][0]', \n",
      "                                                                  'activation_94[0][0]']          \n",
      "                                                                                                  \n",
      " activation_96 (Activation)     (None, 77, 64)       0           ['add_45[0][0]']                 \n",
      "                                                                                                  \n",
      " conv1d_108 (Conv1D)            (None, 77, 64)       12352       ['activation_96[0][0]']          \n",
      "                                                                                                  \n",
      " batch_normalization_97 (BatchN  (None, 77, 64)      256         ['conv1d_108[0][0]']             \n",
      " ormalization)                                                                                    \n",
      "                                                                                                  \n",
      " activation_97 (Activation)     (None, 77, 64)       0           ['batch_normalization_97[0][0]'] \n",
      "                                                                                                  \n",
      " conv1d_109 (Conv1D)            (None, 77, 64)       12352       ['activation_97[0][0]']          \n",
      "                                                                                                  \n",
      " batch_normalization_98 (BatchN  (None, 77, 64)      256         ['conv1d_109[0][0]']             \n",
      " ormalization)                                                                                    \n",
      "                                                                                                  \n",
      " add_46 (Add)                   (None, 77, 64)       0           ['batch_normalization_98[0][0]', \n",
      "                                                                  'activation_96[0][0]']          \n",
      "                                                                                                  \n",
      " activation_98 (Activation)     (None, 77, 64)       0           ['add_46[0][0]']                 \n",
      "                                                                                                  \n",
      " conv1d_110 (Conv1D)            (None, 77, 64)       12352       ['activation_98[0][0]']          \n",
      "                                                                                                  \n",
      " batch_normalization_99 (BatchN  (None, 77, 64)      256         ['conv1d_110[0][0]']             \n",
      " ormalization)                                                                                    \n",
      "                                                                                                  \n",
      " activation_99 (Activation)     (None, 77, 64)       0           ['batch_normalization_99[0][0]'] \n",
      "                                                                                                  \n",
      " conv1d_111 (Conv1D)            (None, 77, 64)       12352       ['activation_99[0][0]']          \n",
      "                                                                                                  \n",
      " batch_normalization_100 (Batch  (None, 77, 64)      256         ['conv1d_111[0][0]']             \n",
      " Normalization)                                                                                   \n",
      "                                                                                                  \n",
      " add_47 (Add)                   (None, 77, 64)       0           ['batch_normalization_100[0][0]',\n",
      "                                                                  'activation_98[0][0]']          \n",
      "                                                                                                  \n",
      " activation_100 (Activation)    (None, 77, 64)       0           ['add_47[0][0]']                 \n",
      "                                                                                                  \n",
      " conv1d_112 (Conv1D)            (None, 39, 128)      24704       ['activation_100[0][0]']         \n",
      "                                                                                                  \n",
      " batch_normalization_101 (Batch  (None, 39, 128)     512         ['conv1d_112[0][0]']             \n",
      " Normalization)                                                                                   \n",
      "                                                                                                  \n",
      " activation_101 (Activation)    (None, 39, 128)      0           ['batch_normalization_101[0][0]']\n",
      "                                                                                                  \n",
      " conv1d_113 (Conv1D)            (None, 39, 128)      49280       ['activation_101[0][0]']         \n",
      "                                                                                                  \n",
      " batch_normalization_102 (Batch  (None, 39, 128)     512         ['conv1d_113[0][0]']             \n",
      " Normalization)                                                                                   \n",
      "                                                                                                  \n",
      " conv1d_114 (Conv1D)            (None, 39, 128)      8320        ['activation_100[0][0]']         \n",
      "                                                                                                  \n",
      " add_48 (Add)                   (None, 39, 128)      0           ['batch_normalization_102[0][0]',\n",
      "                                                                  'conv1d_114[0][0]']             \n",
      "                                                                                                  \n",
      " activation_102 (Activation)    (None, 39, 128)      0           ['add_48[0][0]']                 \n",
      "                                                                                                  \n",
      " conv1d_115 (Conv1D)            (None, 39, 128)      49280       ['activation_102[0][0]']         \n",
      "                                                                                                  \n",
      " batch_normalization_103 (Batch  (None, 39, 128)     512         ['conv1d_115[0][0]']             \n",
      " Normalization)                                                                                   \n",
      "                                                                                                  \n",
      " activation_103 (Activation)    (None, 39, 128)      0           ['batch_normalization_103[0][0]']\n",
      "                                                                                                  \n",
      " conv1d_116 (Conv1D)            (None, 39, 128)      49280       ['activation_103[0][0]']         \n",
      "                                                                                                  \n",
      " batch_normalization_104 (Batch  (None, 39, 128)     512         ['conv1d_116[0][0]']             \n",
      " Normalization)                                                                                   \n",
      "                                                                                                  \n",
      " add_49 (Add)                   (None, 39, 128)      0           ['batch_normalization_104[0][0]',\n",
      "                                                                  'activation_102[0][0]']         \n",
      "                                                                                                  \n",
      " activation_104 (Activation)    (None, 39, 128)      0           ['add_49[0][0]']                 \n",
      "                                                                                                  \n",
      " conv1d_117 (Conv1D)            (None, 39, 128)      49280       ['activation_104[0][0]']         \n",
      "                                                                                                  \n",
      " batch_normalization_105 (Batch  (None, 39, 128)     512         ['conv1d_117[0][0]']             \n",
      " Normalization)                                                                                   \n",
      "                                                                                                  \n",
      " activation_105 (Activation)    (None, 39, 128)      0           ['batch_normalization_105[0][0]']\n",
      "                                                                                                  \n",
      " conv1d_118 (Conv1D)            (None, 39, 128)      49280       ['activation_105[0][0]']         \n",
      "                                                                                                  \n",
      " batch_normalization_106 (Batch  (None, 39, 128)     512         ['conv1d_118[0][0]']             \n",
      " Normalization)                                                                                   \n",
      "                                                                                                  \n",
      " add_50 (Add)                   (None, 39, 128)      0           ['batch_normalization_106[0][0]',\n",
      "                                                                  'activation_104[0][0]']         \n",
      "                                                                                                  \n",
      " activation_106 (Activation)    (None, 39, 128)      0           ['add_50[0][0]']                 \n",
      "                                                                                                  \n",
      " conv1d_119 (Conv1D)            (None, 20, 256)      98560       ['activation_106[0][0]']         \n",
      "                                                                                                  \n",
      " batch_normalization_107 (Batch  (None, 20, 256)     1024        ['conv1d_119[0][0]']             \n",
      " Normalization)                                                                                   \n",
      "                                                                                                  \n",
      " activation_107 (Activation)    (None, 20, 256)      0           ['batch_normalization_107[0][0]']\n",
      "                                                                                                  \n",
      " conv1d_120 (Conv1D)            (None, 20, 256)      196864      ['activation_107[0][0]']         \n",
      "                                                                                                  \n",
      " batch_normalization_108 (Batch  (None, 20, 256)     1024        ['conv1d_120[0][0]']             \n",
      " Normalization)                                                                                   \n",
      "                                                                                                  \n",
      " conv1d_121 (Conv1D)            (None, 20, 256)      33024       ['activation_106[0][0]']         \n",
      "                                                                                                  \n",
      " add_51 (Add)                   (None, 20, 256)      0           ['batch_normalization_108[0][0]',\n",
      "                                                                  'conv1d_121[0][0]']             \n",
      "                                                                                                  \n",
      " activation_108 (Activation)    (None, 20, 256)      0           ['add_51[0][0]']                 \n",
      "                                                                                                  \n",
      " conv1d_122 (Conv1D)            (None, 20, 256)      196864      ['activation_108[0][0]']         \n",
      "                                                                                                  \n",
      " batch_normalization_109 (Batch  (None, 20, 256)     1024        ['conv1d_122[0][0]']             \n",
      " Normalization)                                                                                   \n",
      "                                                                                                  \n",
      " activation_109 (Activation)    (None, 20, 256)      0           ['batch_normalization_109[0][0]']\n",
      "                                                                                                  \n",
      " conv1d_123 (Conv1D)            (None, 20, 256)      196864      ['activation_109[0][0]']         \n",
      "                                                                                                  \n",
      " batch_normalization_110 (Batch  (None, 20, 256)     1024        ['conv1d_123[0][0]']             \n",
      " Normalization)                                                                                   \n",
      "                                                                                                  \n",
      " add_52 (Add)                   (None, 20, 256)      0           ['batch_normalization_110[0][0]',\n",
      "                                                                  'activation_108[0][0]']         \n",
      "                                                                                                  \n",
      " activation_110 (Activation)    (None, 20, 256)      0           ['add_52[0][0]']                 \n",
      "                                                                                                  \n",
      " conv1d_124 (Conv1D)            (None, 20, 256)      196864      ['activation_110[0][0]']         \n",
      "                                                                                                  \n",
      " batch_normalization_111 (Batch  (None, 20, 256)     1024        ['conv1d_124[0][0]']             \n",
      " Normalization)                                                                                   \n",
      "                                                                                                  \n",
      " activation_111 (Activation)    (None, 20, 256)      0           ['batch_normalization_111[0][0]']\n",
      "                                                                                                  \n",
      " conv1d_125 (Conv1D)            (None, 20, 256)      196864      ['activation_111[0][0]']         \n",
      "                                                                                                  \n",
      " batch_normalization_112 (Batch  (None, 20, 256)     1024        ['conv1d_125[0][0]']             \n",
      " Normalization)                                                                                   \n",
      "                                                                                                  \n",
      " add_53 (Add)                   (None, 20, 256)      0           ['batch_normalization_112[0][0]',\n",
      "                                                                  'activation_110[0][0]']         \n",
      "                                                                                                  \n",
      " activation_112 (Activation)    (None, 20, 256)      0           ['add_53[0][0]']                 \n",
      "                                                                                                  \n",
      " conv1d_126 (Conv1D)            (None, 10, 512)      393728      ['activation_112[0][0]']         \n",
      "                                                                                                  \n",
      " batch_normalization_113 (Batch  (None, 10, 512)     2048        ['conv1d_126[0][0]']             \n",
      " Normalization)                                                                                   \n",
      "                                                                                                  \n",
      " activation_113 (Activation)    (None, 10, 512)      0           ['batch_normalization_113[0][0]']\n",
      "                                                                                                  \n",
      " conv1d_127 (Conv1D)            (None, 10, 512)      786944      ['activation_113[0][0]']         \n",
      "                                                                                                  \n",
      " batch_normalization_114 (Batch  (None, 10, 512)     2048        ['conv1d_127[0][0]']             \n",
      " Normalization)                                                                                   \n",
      "                                                                                                  \n",
      " conv1d_128 (Conv1D)            (None, 10, 512)      131584      ['activation_112[0][0]']         \n",
      "                                                                                                  \n",
      " add_54 (Add)                   (None, 10, 512)      0           ['batch_normalization_114[0][0]',\n",
      "                                                                  'conv1d_128[0][0]']             \n",
      "                                                                                                  \n",
      " activation_114 (Activation)    (None, 10, 512)      0           ['add_54[0][0]']                 \n",
      "                                                                                                  \n",
      " conv1d_129 (Conv1D)            (None, 10, 512)      786944      ['activation_114[0][0]']         \n",
      "                                                                                                  \n",
      " batch_normalization_115 (Batch  (None, 10, 512)     2048        ['conv1d_129[0][0]']             \n",
      " Normalization)                                                                                   \n",
      "                                                                                                  \n",
      " activation_115 (Activation)    (None, 10, 512)      0           ['batch_normalization_115[0][0]']\n",
      "                                                                                                  \n",
      " conv1d_130 (Conv1D)            (None, 10, 512)      786944      ['activation_115[0][0]']         \n",
      "                                                                                                  \n",
      " batch_normalization_116 (Batch  (None, 10, 512)     2048        ['conv1d_130[0][0]']             \n",
      " Normalization)                                                                                   \n",
      "                                                                                                  \n",
      " add_55 (Add)                   (None, 10, 512)      0           ['batch_normalization_116[0][0]',\n",
      "                                                                  'activation_114[0][0]']         \n",
      "                                                                                                  \n",
      " activation_116 (Activation)    (None, 10, 512)      0           ['add_55[0][0]']                 \n",
      "                                                                                                  \n",
      " conv1d_131 (Conv1D)            (None, 10, 512)      786944      ['activation_116[0][0]']         \n",
      "                                                                                                  \n",
      " batch_normalization_117 (Batch  (None, 10, 512)     2048        ['conv1d_131[0][0]']             \n",
      " Normalization)                                                                                   \n",
      "                                                                                                  \n",
      " activation_117 (Activation)    (None, 10, 512)      0           ['batch_normalization_117[0][0]']\n",
      "                                                                                                  \n",
      " conv1d_132 (Conv1D)            (None, 10, 512)      786944      ['activation_117[0][0]']         \n",
      "                                                                                                  \n",
      " batch_normalization_118 (Batch  (None, 10, 512)     2048        ['conv1d_132[0][0]']             \n",
      " Normalization)                                                                                   \n",
      "                                                                                                  \n",
      " add_56 (Add)                   (None, 10, 512)      0           ['batch_normalization_118[0][0]',\n",
      "                                                                  'activation_116[0][0]']         \n",
      "                                                                                                  \n",
      " activation_118 (Activation)    (None, 10, 512)      0           ['add_56[0][0]']                 \n",
      "                                                                                                  \n",
      " global_average_pooling1d_4 (Gl  (None, 512)         0           ['activation_118[0][0]']         \n",
      " obalAveragePooling1D)                                                                            \n",
      "                                                                                                  \n",
      " dense_4 (Dense)                (None, 10)           5130        ['global_average_pooling1d_4[0][0\n",
      "                                                                 ]']                              \n",
      "                                                                                                  \n",
      "==================================================================================================\n",
      "Total params: 5,958,410\n",
      "Trainable params: 5,946,762\n",
      "Non-trainable params: 11,648\n",
      "__________________________________________________________________________________________________\n"
     ]
    }
   ],
   "source": [
    "from keras.models import Model\n",
    "from keras.layers import Input, Conv1D, BatchNormalization, Activation, MaxPooling1D, Add, GlobalAveragePooling1D, Dense\n",
    "\n",
    "def residual_block(input_tensor, filters, kernel_size, strides=1):\n",
    "    x = Conv1D(filters, kernel_size, strides=strides, padding='same')(input_tensor)\n",
    "    x = BatchNormalization()(x)\n",
    "    x = Activation('relu')(x)\n",
    "    \n",
    "    x = Conv1D(filters, kernel_size, padding='same')(x)\n",
    "    x = BatchNormalization()(x)\n",
    "    \n",
    "    # Downsample the input tensor if strides=2\n",
    "    if strides == 2:\n",
    "        input_tensor = Conv1D(filters, 1, strides=strides, padding='same')(input_tensor)\n",
    "    \n",
    "    x = Add()([x, input_tensor])\n",
    "    x = Activation('relu')(x)\n",
    "    return x\n",
    "\n",
    "# Input layer\n",
    "inputs = Input(shape=(77, 1))\n",
    "\n",
    "# Initial convolution\n",
    "x = Conv1D(64, 7, padding='same')(inputs)\n",
    "x = BatchNormalization()(x)\n",
    "x = Activation('relu')(x)\n",
    "\n",
    "# Residual blocks\n",
    "x = residual_block(x, 64, 3)\n",
    "x = residual_block(x, 64, 3)\n",
    "x = residual_block(x, 64, 3)\n",
    "\n",
    "x = residual_block(x, 128, 3, strides=2)\n",
    "x = residual_block(x, 128, 3)\n",
    "x = residual_block(x, 128, 3)\n",
    "\n",
    "x = residual_block(x, 256, 3, strides=2)\n",
    "x = residual_block(x, 256, 3)\n",
    "x = residual_block(x, 256, 3)\n",
    "\n",
    "x = residual_block(x, 512, 3, strides=2)\n",
    "x = residual_block(x, 512, 3)\n",
    "x = residual_block(x, 512, 3)\n",
    "\n",
    "# Global average pooling\n",
    "x = GlobalAveragePooling1D()(x)\n",
    "\n",
    "# Output layer\n",
    "outputs = Dense(10, activation='softmax')(x)\n",
    "\n",
    "# Create the model\n",
    "model = Model(inputs=inputs, outputs=outputs)\n",
    "\n",
    "# Compile the model\n",
    "model.compile(loss='categorical_crossentropy', optimizer='adam', metrics=['accuracy'])\n",
    "\n",
    "# Print the model summary\n",
    "model.summary()"
   ]
  },
  {
   "cell_type": "code",
   "execution_count": 19,
   "outputs": [],
   "source": [
    "from keras import callbacks\n",
    "earlystopping = callbacks.EarlyStopping(monitor=\"val_loss\",\n",
    "                                        mode=\"min\", patience=3,\n",
    "                                        restore_best_weights=True)"
   ],
   "metadata": {
    "collapsed": false,
    "ExecuteTime": {
     "start_time": "2023-10-18T13:13:48.931971Z",
     "end_time": "2023-10-18T13:13:48.963009Z"
    }
   }
  },
  {
   "cell_type": "code",
   "execution_count": 20,
   "id": "0f2158ee",
   "metadata": {
    "ExecuteTime": {
     "start_time": "2023-10-18T13:13:51.971376Z",
     "end_time": "2023-10-18T13:38:13.239834Z"
    }
   },
   "outputs": [
    {
     "name": "stdout",
     "output_type": "stream",
     "text": [
      "Epoch 1/50\n",
      "151/151 [==============================] - 190s 1s/step - loss: 1.6707 - accuracy: 0.4035 - val_loss: 1.7149 - val_accuracy: 0.3128\n",
      "Epoch 2/50\n",
      "151/151 [==============================] - 160s 1s/step - loss: 1.3135 - accuracy: 0.4891 - val_loss: 1.3196 - val_accuracy: 0.4806\n",
      "Epoch 3/50\n",
      "151/151 [==============================] - 163s 1s/step - loss: 1.2412 - accuracy: 0.5034 - val_loss: 1.4148 - val_accuracy: 0.4928\n",
      "Epoch 4/50\n",
      "151/151 [==============================] - 159s 1s/step - loss: 1.2210 - accuracy: 0.5146 - val_loss: 1.2911 - val_accuracy: 0.5097\n",
      "Epoch 5/50\n",
      "151/151 [==============================] - 163s 1s/step - loss: 1.1745 - accuracy: 0.5323 - val_loss: 1.2742 - val_accuracy: 0.4975\n",
      "Epoch 6/50\n",
      "151/151 [==============================] - 160s 1s/step - loss: 1.1444 - accuracy: 0.5348 - val_loss: 1.1941 - val_accuracy: 0.5257\n",
      "Epoch 7/50\n",
      "151/151 [==============================] - 155s 1s/step - loss: 1.1292 - accuracy: 0.5425 - val_loss: 1.2207 - val_accuracy: 0.5299\n",
      "Epoch 8/50\n",
      "151/151 [==============================] - 155s 1s/step - loss: 1.1131 - accuracy: 0.5595 - val_loss: 1.2067 - val_accuracy: 0.5249\n",
      "Epoch 9/50\n",
      "151/151 [==============================] - 155s 1s/step - loss: 1.1018 - accuracy: 0.5464 - val_loss: 1.3322 - val_accuracy: 0.5152\n"
     ]
    },
    {
     "data": {
      "text/plain": "<keras.callbacks.History at 0x286894b7f70>"
     },
     "execution_count": 20,
     "metadata": {},
     "output_type": "execute_result"
    }
   ],
   "source": [
    "# Train the model\n",
    "model.fit(X_train, y_train, batch_size=32, epochs=50, validation_data=(X_test, y_test), callbacks=[earlystopping])"
   ]
  },
  {
   "cell_type": "code",
   "execution_count": 15,
   "id": "7ff1f754",
   "metadata": {
    "ExecuteTime": {
     "start_time": "2023-10-18T13:12:52.905325Z",
     "end_time": "2023-10-18T13:12:55.252929Z"
    }
   },
   "outputs": [
    {
     "name": "stdout",
     "output_type": "stream",
     "text": [
      "75/75 [==============================] - 2s 23ms/step\n",
      "1\n",
      "1\n",
      "Predicted class: 1\n",
      "Probability: 0.99665076\n"
     ]
    }
   ],
   "source": [
    "import numpy as np\n",
    "y_pred = model.predict(X_test)\n",
    "\n",
    "y_pred_classes = []\n",
    "y_real_classes = []\n",
    "\n",
    "for item in y_pred:\n",
    "    y_pred_classes.append(np.argmax(item))\n",
    "\n",
    "for item in y_test:\n",
    "    y_real_classes.append(np.argmax(item))\n",
    "    \n",
    "print(y_pred_classes[0])\n",
    "print(y_real_classes[0])\n",
    "# Assuming your classes are labeled from 0 to 25\n",
    "predicted_class = np.argmax(y_pred[0])\n",
    "probability = y_pred[0][predicted_class]\n",
    "\n",
    "print(\"Predicted class:\", predicted_class)\n",
    "print(\"Probability:\", probability)"
   ]
  },
  {
   "cell_type": "code",
   "execution_count": 16,
   "id": "3dff6efb",
   "metadata": {
    "ExecuteTime": {
     "start_time": "2023-10-18T13:12:58.831550Z",
     "end_time": "2023-10-18T13:12:58.882797Z"
    }
   },
   "outputs": [
    {
     "name": "stdout",
     "output_type": "stream",
     "text": [
      "              precision    recall  f1-score   support\n",
      "\n",
      "           0       0.66      0.92      0.77       338\n",
      "           1       0.73      0.75      0.74       191\n",
      "           2       0.88      0.71      0.79        94\n",
      "           3       0.00      0.00      0.00        40\n",
      "           4       0.29      0.01      0.01       331\n",
      "           5       0.52      0.54      0.53       317\n",
      "           6       0.33      0.68      0.44       327\n",
      "           7       0.26      0.34      0.30        88\n",
      "           8       0.72      0.62      0.67       322\n",
      "           9       0.33      0.23      0.27       324\n",
      "\n",
      "    accuracy                           0.51      2372\n",
      "   macro avg       0.47      0.48      0.45      2372\n",
      "weighted avg       0.49      0.51      0.47      2372\n",
      "\n"
     ]
    }
   ],
   "source": [
    "import numpy as np\n",
    "from sklearn.metrics import classification_report\n",
    "\n",
    "print(classification_report(y_real_classes, y_pred_classes))"
   ]
  },
  {
   "cell_type": "code",
   "execution_count": 17,
   "id": "9ce3bc65",
   "metadata": {
    "ExecuteTime": {
     "start_time": "2023-10-18T13:13:17.410293Z",
     "end_time": "2023-10-18T13:13:19.036554Z"
    }
   },
   "outputs": [
    {
     "data": {
      "text/plain": "<Figure size 640x480 with 2 Axes>",
      "image/png": "[encoded data removed]"
     },
     "metadata": {},
     "output_type": "display_data"
    }
   ],
   "source": [
    "from sklearn.metrics import confusion_matrix, ConfusionMatrixDisplay\n",
    "import matplotlib.pyplot as plt\n",
    "\n",
    "cm = confusion_matrix(y_real_classes, y_pred_classes)\n",
    "disp = ConfusionMatrixDisplay(confusion_matrix=cm)\n",
    "disp.plot()\n",
    "plt.show()"
   ]
  }
 ],
 "metadata": {
  "kernelspec": {
   "display_name": "Python 3 (ipykernel)",
   "language": "python",
   "name": "python3"
  },
  "language_info": {
   "codemirror_mode": {
    "name": "ipython",
    "version": 3
   },
   "file_extension": ".py",
   "mimetype": "text/x-python",
   "name": "python",
   "nbconvert_exporter": "python",
   "pygments_lexer": "ipython3",
   "version": "3.9.16"
  }
 },
 "nbformat": 4,
 "nbformat_minor": 5
}
