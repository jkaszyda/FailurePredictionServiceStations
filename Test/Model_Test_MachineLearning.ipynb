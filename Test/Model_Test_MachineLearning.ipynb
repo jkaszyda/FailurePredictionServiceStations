{
 "cells": [
  {
   "cell_type": "markdown",
   "source": [
    "This notebook is used to test already trained deep learning models (.joblib file) on new, unseen data."
   ],
   "metadata": {
    "collapsed": false
   }
  },
  {
   "cell_type": "code",
   "execution_count": null,
   "outputs": [],
   "source": [
    "# Read test samples. Adapt the directory link according to which data encoding you want to use (Sequences or Count-based encoding)\n",
    "\n",
    "import pandas as pd\n",
    "from sklearn.metrics import classification_report\n",
    "\n",
    "# Possible critical alarm types\n",
    "critical_alarm_types = [7,15,16,21,33,56,68,95,1000,1001]\n",
    "df = pd.DataFrame()\n",
    "\n",
    "for i in critical_alarm_types:\n",
    "    #type_df = pd.read_csv(\"../Data/Test/9 months/Last 20/4 Separated by error type/Sequences/Classic/\" + str(i) + \".csv\") # Replace the link according to the data you want to read (Sequence encoding or count-based encoding)\n",
    "    type_df = pd.read_csv(\"../Data/Test/9 months/Last 20/4 Separated by error type/Count based/\" + str(i) + \"_countbased.csv\")\n",
    "    df = pd.concat([df, type_df], ignore_index=True)\n",
    "\n",
    "X_test = df.drop(columns=['y']).values\n",
    "y_test = df['y'].values"
   ],
   "metadata": {
    "collapsed": false,
    "ExecuteTime": {
     "start_time": "2023-11-23T22:26:31.178889Z",
     "end_time": "2023-11-23T22:26:48.492502Z"
    }
   }
  },
  {
   "cell_type": "code",
   "execution_count": null,
   "outputs": [],
   "source": [
    "# Load existing model. Make sure that you choose the correct model. The data encoding of the data you have loaded above needs to correspond to the encoding with which the selected model has been trained (Count-based or Sequence encoding).\n",
    "\n",
    "import joblib\n",
    "\n",
    "model = joblib.load(\"../Trained Models/All Data/Random Forest/RF_AllData_Countbased.joblib\")"
   ],
   "metadata": {
    "collapsed": false,
    "ExecuteTime": {
     "start_time": "2023-11-23T22:32:48.872353Z",
     "end_time": "2023-11-23T22:32:51.104550Z"
    }
   }
  },
  {
   "cell_type": "code",
   "execution_count": null,
   "outputs": [],
   "source": [
    "# Prediction\n",
    "\n",
    "y_pred = model.predict(X_test)"
   ],
   "metadata": {
    "collapsed": false,
    "ExecuteTime": {
     "start_time": "2023-11-23T22:32:54.812868Z",
     "end_time": "2023-11-23T22:32:56.706983Z"
    }
   }
  },
  {
   "cell_type": "code",
   "execution_count": null,
   "outputs": [],
   "source": [
    "# Print the classification report\n",
    "\n",
    "from sklearn.metrics import classification_report\n",
    "\n",
    "print(classification_report(y_test, y_pred))"
   ],
   "metadata": {
    "collapsed": false,
    "ExecuteTime": {
     "start_time": "2023-11-19T13:59:13.949355Z",
     "end_time": "2023-11-19T13:59:14.030929Z"
    }
   }
  },
  {
   "cell_type": "code",
   "execution_count": null,
   "outputs": [],
   "source": [
    "# Print confusion matrix\n",
    "\n",
    "from sklearn.metrics import confusion_matrix, ConfusionMatrixDisplay\n",
    "import matplotlib.pyplot as plt\n",
    "\n",
    "label_names = ['7', '15', '16', '21', '33', '56', '68', '95', '1000', '1001']\n",
    "\n",
    "cm = confusion_matrix(y_test, y_pred)\n",
    "disp = ConfusionMatrixDisplay(confusion_matrix=cm, display_labels=label_names)\n",
    "disp.plot()\n",
    "plt.show()"
   ],
   "metadata": {
    "collapsed": false,
    "ExecuteTime": {
     "start_time": "2023-11-21T22:32:13.573534Z",
     "end_time": "2023-11-21T22:32:15.017034Z"
    }
   }
  }
 ],
 "metadata": {
  "kernelspec": {
   "display_name": "Python 3",
   "language": "python",
   "name": "python3"
  },
  "language_info": {
   "codemirror_mode": {
    "name": "ipython",
    "version": 2
   },
   "file_extension": ".py",
   "mimetype": "text/x-python",
   "name": "python",
   "nbconvert_exporter": "python",
   "pygments_lexer": "ipython2",
   "version": "2.7.6"
  }
 },
 "nbformat": 4,
 "nbformat_minor": 0
}
