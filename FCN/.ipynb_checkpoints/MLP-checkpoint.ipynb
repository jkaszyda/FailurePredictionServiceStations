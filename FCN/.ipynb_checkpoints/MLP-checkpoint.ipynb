{
 "cells": [
  {
   "cell_type": "code",
   "execution_count": 1,
   "id": "0726acd7",
   "metadata": {},
   "outputs": [],
   "source": [
    "import numpy as np\n",
    "import pandas as pd\n",
    "from sklearn.model_selection import train_test_split\n",
    "from sklearn.preprocessing import StandardScaler\n",
    "from sklearn.preprocessing import LabelEncoder\n",
    "from tensorflow import keras\n",
    "from tensorflow.keras import layers\n",
    "from tensorflow.keras.utils import to_categorical\n",
    "from sklearn.utils import class_weight\n",
    "from sklearn.preprocessing import OneHotEncoder\n",
    "\n",
    "# Read the dataframe\n",
    "df = pd.read_csv(\"data/dataframe.csv\")\n",
    "\n",
    "# Drop any rows with missing values\n",
    "df = df.dropna()\n",
    "\n",
    "# Split the data into input features (X) and target variable (y)\n",
    "X = df.drop(\"y\", axis=1).values\n",
    "y = df[\"y\"].values"
   ]
  },
  {
   "cell_type": "code",
   "execution_count": 17,
   "id": "248bf462",
   "metadata": {},
   "outputs": [],
   "source": [
    "from imblearn.over_sampling import RandomOverSampler\n",
    "from collections import Counter\n",
    "from imblearn.over_sampling import SMOTE\n",
    "\n",
    "# Apply SMOTE to balance the dataset\n",
    "#sm = SMOTE(random_state=42)\n",
    "#X_res, y_res = sm.fit_resample(X, y)\n",
    "\n",
    "oversampler = RandomOverSampler(random_state=42)\n",
    "X_res, y_res = oversampler.fit_resample(X,y)"
   ]
  },
  {
   "cell_type": "code",
   "execution_count": 18,
   "id": "02d8e64d",
   "metadata": {},
   "outputs": [
    {
     "name": "stdout",
     "output_type": "stream",
     "text": [
      "12\n"
     ]
    }
   ],
   "source": [
    "# Determine the number of unique critical error types\n",
    "num_classes = len(np.unique(y))\n",
    "print(num_classes)\n",
    "\n",
    "# Encode the target variable using LabelEncoder and one-hot encoding\n",
    "label_encoder = LabelEncoder()\n",
    "y_res = label_encoder.fit_transform(y_res)\n",
    "y_res = to_categorical(y_res)\n",
    "\n",
    "# Split the data into train and test sets\n",
    "X_train, X_test, y_train, y_test = train_test_split(X_res, y_res, test_size=0.2, random_state=42)"
   ]
  },
  {
   "cell_type": "code",
   "execution_count": 19,
   "id": "2aacb64c",
   "metadata": {},
   "outputs": [
    {
     "name": "stdout",
     "output_type": "stream",
     "text": [
      "78\n"
     ]
    }
   ],
   "source": [
    "# Determine the number of input features\n",
    "num_features = X_train.shape[1]\n",
    "print(num_features)\n",
    "# Create the FCN model\n",
    "model = keras.Sequential([\n",
    "    layers.Dense(64, activation='relu', input_shape=(num_features,)),\n",
    "    layers.Dense(64, activation='relu'),\n",
    "    layers.Dense(num_classes, activation='softmax')\n",
    "])"
   ]
  },
  {
   "cell_type": "code",
   "execution_count": 20,
   "id": "da9921d5",
   "metadata": {},
   "outputs": [],
   "source": [
    "# Compile the model\n",
    "model.compile(optimizer='adam', loss='categorical_crossentropy', metrics=['accuracy'])"
   ]
  },
  {
   "cell_type": "code",
   "execution_count": 24,
   "id": "61d7aaa3",
   "metadata": {},
   "outputs": [
    {
     "name": "stdout",
     "output_type": "stream",
     "text": [
      "Epoch 1/50\n",
      "635/635 [==============================] - 2s 2ms/step - loss: 1.0416 - accuracy: 0.6552 - val_loss: 1.1265 - val_accuracy: 0.6358\n",
      "Epoch 2/50\n",
      "635/635 [==============================] - 2s 2ms/step - loss: 1.0221 - accuracy: 0.6643 - val_loss: 1.1253 - val_accuracy: 0.6714\n",
      "Epoch 3/50\n",
      "635/635 [==============================] - 2s 2ms/step - loss: 0.9877 - accuracy: 0.6692 - val_loss: 1.1995 - val_accuracy: 0.6134\n",
      "Epoch 4/50\n",
      "635/635 [==============================] - 1s 2ms/step - loss: 1.0116 - accuracy: 0.6661 - val_loss: 1.0982 - val_accuracy: 0.6440\n",
      "Epoch 5/50\n",
      "635/635 [==============================] - 2s 2ms/step - loss: 0.9583 - accuracy: 0.6761 - val_loss: 1.0191 - val_accuracy: 0.6909\n",
      "Epoch 6/50\n",
      "635/635 [==============================] - 1s 2ms/step - loss: 0.9491 - accuracy: 0.6841 - val_loss: 1.0475 - val_accuracy: 0.6604\n",
      "Epoch 7/50\n",
      "635/635 [==============================] - 1s 2ms/step - loss: 0.9340 - accuracy: 0.6864 - val_loss: 1.1749 - val_accuracy: 0.6235\n",
      "Epoch 8/50\n",
      "635/635 [==============================] - 2s 3ms/step - loss: 0.9648 - accuracy: 0.6789 - val_loss: 1.0981 - val_accuracy: 0.6566\n",
      "Epoch 9/50\n",
      "635/635 [==============================] - 2s 3ms/step - loss: 0.9184 - accuracy: 0.6921 - val_loss: 0.9121 - val_accuracy: 0.7089\n",
      "Epoch 10/50\n",
      "635/635 [==============================] - 2s 3ms/step - loss: 0.9569 - accuracy: 0.6754 - val_loss: 0.9121 - val_accuracy: 0.7105\n",
      "Epoch 11/50\n",
      "635/635 [==============================] - 2s 3ms/step - loss: 0.9200 - accuracy: 0.6917 - val_loss: 0.9445 - val_accuracy: 0.6947\n",
      "Epoch 12/50\n",
      "635/635 [==============================] - 2s 3ms/step - loss: 0.9193 - accuracy: 0.6916 - val_loss: 0.9219 - val_accuracy: 0.7209\n",
      "Epoch 13/50\n",
      "635/635 [==============================] - 2s 2ms/step - loss: 0.9031 - accuracy: 0.6987 - val_loss: 0.9373 - val_accuracy: 0.7067\n",
      "Epoch 14/50\n",
      "635/635 [==============================] - 2s 3ms/step - loss: 0.8959 - accuracy: 0.6936 - val_loss: 0.9513 - val_accuracy: 0.6909\n",
      "Epoch 15/50\n",
      "635/635 [==============================] - 2s 2ms/step - loss: 0.9018 - accuracy: 0.6979 - val_loss: 1.0450 - val_accuracy: 0.6563\n",
      "Epoch 16/50\n",
      "635/635 [==============================] - 1s 2ms/step - loss: 0.8744 - accuracy: 0.7055 - val_loss: 1.0061 - val_accuracy: 0.6909\n",
      "Epoch 17/50\n",
      "635/635 [==============================] - 1s 2ms/step - loss: 0.8791 - accuracy: 0.7044 - val_loss: 0.9402 - val_accuracy: 0.6925\n",
      "Epoch 18/50\n",
      "635/635 [==============================] - 2s 3ms/step - loss: 0.8685 - accuracy: 0.7093 - val_loss: 2.1721 - val_accuracy: 0.4932\n",
      "Epoch 19/50\n",
      "635/635 [==============================] - 2s 3ms/step - loss: 1.0282 - accuracy: 0.6614 - val_loss: 1.0192 - val_accuracy: 0.6834\n",
      "Epoch 20/50\n",
      "635/635 [==============================] - 1s 2ms/step - loss: 0.9764 - accuracy: 0.6781 - val_loss: 1.1459 - val_accuracy: 0.5661\n",
      "Epoch 21/50\n",
      "635/635 [==============================] - 1s 2ms/step - loss: 0.9222 - accuracy: 0.6912 - val_loss: 0.9730 - val_accuracy: 0.6960\n",
      "Epoch 22/50\n",
      "635/635 [==============================] - 1s 2ms/step - loss: 0.8688 - accuracy: 0.7117 - val_loss: 0.9169 - val_accuracy: 0.7036\n",
      "Epoch 23/50\n",
      "635/635 [==============================] - 2s 2ms/step - loss: 0.8324 - accuracy: 0.7175 - val_loss: 0.8693 - val_accuracy: 0.6973\n",
      "Epoch 24/50\n",
      "635/635 [==============================] - 1s 2ms/step - loss: 0.7983 - accuracy: 0.7300 - val_loss: 0.9462 - val_accuracy: 0.6591\n",
      "Epoch 25/50\n",
      "635/635 [==============================] - 2s 3ms/step - loss: 0.8329 - accuracy: 0.7193 - val_loss: 0.8120 - val_accuracy: 0.7405\n",
      "Epoch 26/50\n",
      "635/635 [==============================] - 2s 3ms/step - loss: 0.8247 - accuracy: 0.7261 - val_loss: 0.9160 - val_accuracy: 0.7055\n",
      "Epoch 27/50\n",
      "635/635 [==============================] - 1s 2ms/step - loss: 0.8268 - accuracy: 0.7219 - val_loss: 0.8328 - val_accuracy: 0.7256\n",
      "Epoch 28/50\n",
      "635/635 [==============================] - 1s 2ms/step - loss: 0.8236 - accuracy: 0.7225 - val_loss: 1.4543 - val_accuracy: 0.5850\n",
      "Epoch 29/50\n",
      "635/635 [==============================] - 1s 2ms/step - loss: 0.8050 - accuracy: 0.7285 - val_loss: 0.8259 - val_accuracy: 0.7398\n",
      "Epoch 30/50\n",
      "635/635 [==============================] - 2s 2ms/step - loss: 0.7751 - accuracy: 0.7370 - val_loss: 1.2026 - val_accuracy: 0.6203\n",
      "Epoch 31/50\n",
      "635/635 [==============================] - 2s 3ms/step - loss: 0.8800 - accuracy: 0.7190 - val_loss: 0.9579 - val_accuracy: 0.6894\n",
      "Epoch 32/50\n",
      "635/635 [==============================] - 2s 2ms/step - loss: 0.8081 - accuracy: 0.7334 - val_loss: 0.9601 - val_accuracy: 0.6840\n",
      "Epoch 33/50\n",
      "635/635 [==============================] - 2s 2ms/step - loss: 0.7794 - accuracy: 0.7349 - val_loss: 0.7710 - val_accuracy: 0.7654\n",
      "Epoch 34/50\n",
      "635/635 [==============================] - 2s 2ms/step - loss: 0.7906 - accuracy: 0.7350 - val_loss: 0.8749 - val_accuracy: 0.7184\n",
      "Epoch 35/50\n",
      "635/635 [==============================] - 2s 3ms/step - loss: 0.8012 - accuracy: 0.7329 - val_loss: 0.7752 - val_accuracy: 0.7569\n",
      "Epoch 36/50\n",
      "635/635 [==============================] - 2s 2ms/step - loss: 0.8036 - accuracy: 0.7331 - val_loss: 0.8907 - val_accuracy: 0.7187\n",
      "Epoch 37/50\n",
      "635/635 [==============================] - 1s 2ms/step - loss: 0.7951 - accuracy: 0.7339 - val_loss: 0.7873 - val_accuracy: 0.7540\n",
      "Epoch 38/50\n",
      "635/635 [==============================] - 1s 2ms/step - loss: 0.8052 - accuracy: 0.7298 - val_loss: 0.7792 - val_accuracy: 0.7562\n",
      "Epoch 39/50\n",
      "635/635 [==============================] - 1s 2ms/step - loss: 0.7656 - accuracy: 0.7460 - val_loss: 0.8695 - val_accuracy: 0.7332\n",
      "Epoch 40/50\n",
      "635/635 [==============================] - 1s 2ms/step - loss: 0.7961 - accuracy: 0.7376 - val_loss: 0.9103 - val_accuracy: 0.7162\n",
      "Epoch 41/50\n",
      "635/635 [==============================] - 1s 2ms/step - loss: 0.7711 - accuracy: 0.7410 - val_loss: 0.7849 - val_accuracy: 0.7433\n",
      "Epoch 42/50\n",
      "635/635 [==============================] - 2s 3ms/step - loss: 0.7680 - accuracy: 0.7446 - val_loss: 0.8070 - val_accuracy: 0.7417\n",
      "Epoch 43/50\n",
      "635/635 [==============================] - 2s 2ms/step - loss: 0.7781 - accuracy: 0.7383 - val_loss: 0.9554 - val_accuracy: 0.7190\n",
      "Epoch 44/50\n",
      "635/635 [==============================] - 1s 2ms/step - loss: 0.7800 - accuracy: 0.7355 - val_loss: 0.8692 - val_accuracy: 0.7237\n",
      "Epoch 45/50\n",
      "635/635 [==============================] - 2s 2ms/step - loss: 0.7600 - accuracy: 0.7441 - val_loss: 0.8398 - val_accuracy: 0.7329\n",
      "Epoch 46/50\n",
      "635/635 [==============================] - 2s 2ms/step - loss: 0.7709 - accuracy: 0.7451 - val_loss: 0.7772 - val_accuracy: 0.7471\n",
      "Epoch 47/50\n",
      "635/635 [==============================] - 1s 2ms/step - loss: 0.7724 - accuracy: 0.7400 - val_loss: 0.7894 - val_accuracy: 0.7509\n",
      "Epoch 48/50\n",
      "635/635 [==============================] - 1s 2ms/step - loss: 0.7433 - accuracy: 0.7528 - val_loss: 0.9232 - val_accuracy: 0.6925\n",
      "Epoch 49/50\n",
      "635/635 [==============================] - 1s 2ms/step - loss: 0.7616 - accuracy: 0.7448 - val_loss: 0.7669 - val_accuracy: 0.7584\n",
      "Epoch 50/50\n",
      "635/635 [==============================] - 2s 2ms/step - loss: 0.7844 - accuracy: 0.7398 - val_loss: 0.7801 - val_accuracy: 0.7493\n"
     ]
    },
    {
     "data": {
      "text/plain": [
       "<keras.callbacks.History at 0x1c4447cb880>"
      ]
     },
     "execution_count": 24,
     "metadata": {},
     "output_type": "execute_result"
    }
   ],
   "source": [
    "# Train the model\n",
    "model.fit(X_train, y_train, batch_size=20, epochs=50, validation_data=(X_test, y_test))"
   ]
  },
  {
   "cell_type": "code",
   "execution_count": 25,
   "id": "d0945008",
   "metadata": {},
   "outputs": [
    {
     "name": "stdout",
     "output_type": "stream",
     "text": [
      "100/100 [==============================] - 0s 2ms/step\n",
      "2\n",
      "2\n",
      "Predicted class: 2\n",
      "Probability: 0.3502542\n"
     ]
    }
   ],
   "source": [
    "import numpy as np\n",
    "y_pred = model.predict(X_test)\n",
    "\n",
    "y_pred_classes = []\n",
    "y_real_classes = []\n",
    "\n",
    "for item in y_pred:\n",
    "    y_pred_classes.append(np.argmax(item))\n",
    "\n",
    "for item in y_test:\n",
    "    y_real_classes.append(np.argmax(item))\n",
    "    \n",
    "print(y_pred_classes[0])\n",
    "print(y_real_classes[0])\n",
    "# Assuming your classes are labeled from 0 to 25\n",
    "predicted_class = np.argmax(y_pred[0])\n",
    "probability = y_pred[0][predicted_class]\n",
    "\n",
    "print(\"Predicted class:\", predicted_class)\n",
    "print(\"Probability:\", probability)"
   ]
  },
  {
   "cell_type": "code",
   "execution_count": 26,
   "id": "606c53d3",
   "metadata": {},
   "outputs": [
    {
     "name": "stdout",
     "output_type": "stream",
     "text": [
      "              precision    recall  f1-score   support\n",
      "\n",
      "           0       0.59      0.76      0.66       280\n",
      "           1       0.90      0.87      0.88       253\n",
      "           2       0.90      0.90      0.90       290\n",
      "           3       0.76      0.61      0.68       277\n",
      "           4       0.56      0.73      0.63       269\n",
      "           5       0.98      1.00      0.99       247\n",
      "           6       0.88      0.95      0.91       259\n",
      "           7       0.59      0.75      0.66       251\n",
      "           8       0.64      0.54      0.58       251\n",
      "           9       0.73      0.91      0.81       266\n",
      "          10       0.92      0.59      0.72       244\n",
      "          11       0.73      0.42      0.53       284\n",
      "\n",
      "    accuracy                           0.75      3171\n",
      "   macro avg       0.77      0.75      0.75      3171\n",
      "weighted avg       0.76      0.75      0.75      3171\n",
      "\n"
     ]
    }
   ],
   "source": [
    "import numpy as np\n",
    "from sklearn.metrics import classification_report\n",
    "\n",
    "print(classification_report(y_real_classes, y_pred_classes))"
   ]
  },
  {
   "cell_type": "code",
   "execution_count": 27,
   "id": "e63a117b",
   "metadata": {},
   "outputs": [
    {
     "data": {
      "image/png": "[encoded data removed]",
      "text/plain": [
       "<Figure size 640x480 with 2 Axes>"
      ]
     },
     "metadata": {},
     "output_type": "display_data"
    }
   ],
   "source": [
    "from sklearn.metrics import confusion_matrix, ConfusionMatrixDisplay\n",
    "import matplotlib.pyplot as plt\n",
    "\n",
    "cm = confusion_matrix(y_real_classes, y_pred_classes)\n",
    "disp = ConfusionMatrixDisplay(confusion_matrix=cm)\n",
    "disp.plot()\n",
    "plt.show()"
   ]
  }
 ],
 "metadata": {
  "kernelspec": {
   "display_name": "Python 3 (ipykernel)",
   "language": "python",
   "name": "python3"
  },
  "language_info": {
   "codemirror_mode": {
    "name": "ipython",
    "version": 3
   },
   "file_extension": ".py",
   "mimetype": "text/x-python",
   "name": "python",
   "nbconvert_exporter": "python",
   "pygments_lexer": "ipython3",
   "version": "3.9.16"
  }
 },
 "nbformat": 4,
 "nbformat_minor": 5
}
