{
 "cells": [
  {
   "cell_type": "code",
   "execution_count": 4,
   "id": "247546be",
   "metadata": {},
   "outputs": [
    {
     "name": "stdout",
     "output_type": "stream",
     "text": [
      "Reading data...\n",
      "Treating data...\n",
      "{1001: 1068, 6: 1146, 8: 1330, 15: 1458, 1000: 1256, 61: 1350, 16: 1005, 21: 1380, 51: 1000, 33: 1019, 54: 1000, 73: 950, 55: 1910, 76: 930, 56: 1053, 77: 1000, 95: 1191, 80: 1200, 7: 1584, 18: 1230, 68: 962, 39: 800, 34: 1200, 78: 1200, 75: 1200, 72: 1000, 74: 1000}\n"
     ]
    }
   ],
   "source": [
    "import pandas as pd\n",
    "\n",
    "print(\"Reading data...\")\n",
    "df = pd.read_excel(\"output2.xlsx\")\n",
    "support_dictionary = {}\n",
    "\n",
    "print(\"Treating data...\")\n",
    "for index, row in df.iterrows():\n",
    "    if (row[\"GRAVITE\"] == \"CRITIQUE\"):\n",
    "        alert_id = int(row[\"ID_DYSFONCTIONNEMENT\"])\n",
    "        if alert_id in support_dictionary:\n",
    "            support_dictionary[alert_id] = support_dictionary[alert_id] + 1\n",
    "        else:\n",
    "            support_dictionary[alert_id] = 1\n",
    "\n",
    "print(support_dictionary)"
   ]
  },
  {
   "cell_type": "code",
   "execution_count": 18,
   "id": "2aa347e8",
   "metadata": {},
   "outputs": [
    {
     "name": "stdout",
     "output_type": "stream",
     "text": [
      "13\n"
     ]
    }
   ],
   "source": [
    "print(len(support_dictionary))"
   ]
  }
 ],
 "metadata": {
  "kernelspec": {
   "display_name": "Python 3 (ipykernel)",
   "language": "python",
   "name": "python3"
  },
  "language_info": {
   "codemirror_mode": {
    "name": "ipython",
    "version": 3
   },
   "file_extension": ".py",
   "mimetype": "text/x-python",
   "name": "python",
   "nbconvert_exporter": "python",
   "pygments_lexer": "ipython3",
   "version": "3.9.12"
  }
 },
 "nbformat": 4,
 "nbformat_minor": 5
}
