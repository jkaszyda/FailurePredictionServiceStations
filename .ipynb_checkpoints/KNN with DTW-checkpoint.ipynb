{
 "cells": [
  {
   "cell_type": "code",
   "execution_count": 39,
   "id": "34e75ea2",
   "metadata": {},
   "outputs": [
    {
     "name": "stdout",
     "output_type": "stream",
     "text": [
      "Reading data...\n",
      "Preparing data...\n",
      "Preparation finished.\n",
      "Performing train test split...\n",
      "Train test split finished.\n",
      "Start fitting...\n",
      "Fitting finished\n"
     ]
    }
   ],
   "source": [
    "import pandas as pd\n",
    "from tslearn.utils import to_time_series_dataset\n",
    "from tslearn.neighbors import KNeighborsTimeSeriesClassifier\n",
    "from sklearn.model_selection import train_test_split\n",
    "from joblib import dump\n",
    "\n",
    "print(\"Reading data...\")\n",
    "df = pd.read_excel(\"data.xlsx\")\n",
    "\n",
    "arrayTS = []\n",
    "arrayTSItem = []\n",
    "arrayLabels = []\n",
    "arrayOutdatedCriticalAlerts = []\n",
    "array_too_long = []\n",
    "array_labels_too_long = []\n",
    "\n",
    "print(\"Preparing data...\")\n",
    "for index, row in df.iterrows():\n",
    "    if (row[\"GRAVITE\"] == \"CRITIQUE\"):\n",
    "        if not arrayTSItem:\n",
    "            arrayOutdatedCriticalAlerts.append(int(row[\"ID_DYSFONCTIONNEMENT\"]))\n",
    "        else:\n",
    "            if len(arrayTSItem) > 300:\n",
    "                array_too_long.append(arrayTSItem)\n",
    "                array_labels_too_long.append(int(row[\"ID_DYSFONCTIONNEMENT\"]))\n",
    "                arrayTSItem = []\n",
    "            else:\n",
    "                arrayLabels.append(int(row[\"ID_DYSFONCTIONNEMENT\"]))\n",
    "                arrayTS.append(arrayTSItem)\n",
    "                arrayTSItem = []\n",
    "    else:\n",
    "        arrayTSItem.append(int(row[\"ID_DYSFONCTIONNEMENT\"]))\n",
    "print(\"Preparation finished.\")\n",
    "\n",
    "print(\"Performing train test split...\")\n",
    "X = to_time_series_dataset(arrayTS)\n",
    "y = arrayLabels\n",
    "\n",
    "X_train, X_test, y_train, y_test = train_test_split(X, y, test_size=0.20, random_state=42)\n",
    "print(\"Train test split finished.\")\n",
    "\n",
    "print(\"Start fitting...\")\n",
    "knn = KNeighborsTimeSeriesClassifier(n_neighbors=3, metric=\"dtw\")\n",
    "knn.fit(X_train, y_train)\n",
    "print(\"Fitting finished\")"
   ]
  },
  {
   "cell_type": "code",
   "execution_count": 40,
   "id": "291d9303",
   "metadata": {},
   "outputs": [
    {
     "data": {
      "text/plain": [
       "['KNN_raw.joblib']"
      ]
     },
     "execution_count": 40,
     "metadata": {},
     "output_type": "execute_result"
    }
   ],
   "source": [
    "dump(knn, 'KNN_raw.joblib')"
   ]
  },
  {
   "cell_type": "code",
   "execution_count": 41,
   "id": "17a7f099",
   "metadata": {},
   "outputs": [],
   "source": [
    "import csv\n",
    "with open(\"X_train.csv\", \"w\") as f:\n",
    "                writer = csv.writer(f, delimiter='\\n', dialect='excel')\n",
    "                writer.writerow(X_train)"
   ]
  },
  {
   "cell_type": "code",
   "execution_count": 42,
   "id": "1be529a4",
   "metadata": {},
   "outputs": [
    {
     "name": "stdout",
     "output_type": "stream",
     "text": [
      "done\n"
     ]
    }
   ],
   "source": [
    "with open(\"X_test.csv\", \"w\") as f:\n",
    "                writer = csv.writer(f, delimiter='\\n', dialect='excel')\n",
    "                writer.writerow(X_test)\n",
    "            \n",
    "with open(\"y_train.csv\", \"w\") as f:\n",
    "                writer = csv.writer(f, delimiter='\\n', dialect='excel')\n",
    "                writer.writerow(y_train)\n",
    "\n",
    "with open(\"y_test.csv\", \"w\") as f:\n",
    "                writer = csv.writer(f, delimiter='\\n', dialect='excel')\n",
    "                writer.writerow(y_test)\n",
    "\n",
    "print(\"done\")"
   ]
  },
  {
   "cell_type": "code",
   "execution_count": 43,
   "id": "330ad779",
   "metadata": {},
   "outputs": [
    {
     "name": "stdout",
     "output_type": "stream",
     "text": [
      "Predicting...\n"
     ]
    }
   ],
   "source": [
    "print(\"Predicting...\")\n",
    "y_pred = (knn.predict(X_test))"
   ]
  },
  {
   "cell_type": "code",
   "execution_count": 46,
   "id": "02f5106e",
   "metadata": {},
   "outputs": [],
   "source": [
    "with open(\"y_pred.csv\", \"w\") as f:\n",
    "                writer = csv.writer(f, delimiter='\\n', dialect='excel')\n",
    "                writer.writerow(y_pred)"
   ]
  },
  {
   "cell_type": "code",
   "execution_count": 53,
   "id": "e5ff7eac",
   "metadata": {},
   "outputs": [
    {
     "name": "stdout",
     "output_type": "stream",
     "text": [
      "Accuracy score is:  0.9080459770114943\n",
      "F1 score is:  0.640092078829605\n",
      "Recall score is:  0.6237054085155351\n",
      "Precision score is:  0.6797513709554084\n"
     ]
    },
    {
     "name": "stderr",
     "output_type": "stream",
     "text": [
      "C:\\Users\\jkaszyda\\.conda\\envs\\tslearn\\lib\\site-packages\\sklearn\\metrics\\_classification.py:1344: UndefinedMetricWarning: Precision is ill-defined and being set to 0.0 in labels with no predicted samples. Use `zero_division` parameter to control this behavior.\n",
      "  _warn_prf(average, modifier, msg_start, len(result))\n"
     ]
    }
   ],
   "source": [
    "from sklearn.metrics import f1_score\n",
    "from sklearn.metrics import accuracy_score\n",
    "from sklearn.metrics import recall_score\n",
    "from sklearn.metrics import precision_score\n",
    "\n",
    "accuracy_score = accuracy_score(y_test, y_pred)\n",
    "recall_score = recall_score(y_test, y_pred, average=\"macro\")\n",
    "precision_score = precision_score(y_test, y_pred, average=\"macro\")\n",
    "f_score = f1_score(y_test, y_pred, average=\"macro\")\n",
    "\n",
    "print(\"Accuracy score is: \", accuracy_score)\n",
    "print(\"F1 score is: \", f_score)\n",
    "print(\"Recall score is: \", recall_score)\n",
    "print(\"Precision score is: \", precision_score)\n"
   ]
  }
 ],
 "metadata": {
  "kernelspec": {
   "display_name": "Python 3 (ipykernel)",
   "language": "python",
   "name": "python3"
  },
  "language_info": {
   "codemirror_mode": {
    "name": "ipython",
    "version": 3
   },
   "file_extension": ".py",
   "mimetype": "text/x-python",
   "name": "python",
   "nbconvert_exporter": "python",
   "pygments_lexer": "ipython3",
   "version": "3.10.10"
  }
 },
 "nbformat": 4,
 "nbformat_minor": 5
}
