{
 "cells": [
  {
   "cell_type": "code",
   "execution_count": 1,
   "id": "3a5ba781",
   "metadata": {},
   "outputs": [
    {
     "ename": "ModuleNotFoundError",
     "evalue": "No module named 'tslearn'",
     "output_type": "error",
     "traceback": [
      "\u001b[1;31m---------------------------------------------------------------------------\u001b[0m",
      "\u001b[1;31mModuleNotFoundError\u001b[0m                       Traceback (most recent call last)",
      "Cell \u001b[1;32mIn[1], line 2\u001b[0m\n\u001b[0;32m      1\u001b[0m \u001b[38;5;28;01mimport\u001b[39;00m \u001b[38;5;21;01mpandas\u001b[39;00m \u001b[38;5;28;01mas\u001b[39;00m \u001b[38;5;21;01mpd\u001b[39;00m\n\u001b[1;32m----> 2\u001b[0m \u001b[38;5;28;01mfrom\u001b[39;00m \u001b[38;5;21;01mtslearn\u001b[39;00m\u001b[38;5;21;01m.\u001b[39;00m\u001b[38;5;21;01mutils\u001b[39;00m \u001b[38;5;28;01mimport\u001b[39;00m to_time_series_dataset\n\u001b[0;32m      3\u001b[0m \u001b[38;5;28;01mfrom\u001b[39;00m \u001b[38;5;21;01mtslearn\u001b[39;00m\u001b[38;5;21;01m.\u001b[39;00m\u001b[38;5;21;01mneighbors\u001b[39;00m \u001b[38;5;28;01mimport\u001b[39;00m KNeighborsTimeSeriesClassifier\n\u001b[0;32m      4\u001b[0m \u001b[38;5;28;01mfrom\u001b[39;00m \u001b[38;5;21;01msklearn\u001b[39;00m\u001b[38;5;21;01m.\u001b[39;00m\u001b[38;5;21;01mmodel_selection\u001b[39;00m \u001b[38;5;28;01mimport\u001b[39;00m train_test_split\n",
      "\u001b[1;31mModuleNotFoundError\u001b[0m: No module named 'tslearn'"
     ]
    }
   ],
   "source": [
    "import pandas as pd\n",
    "from tslearn.utils import to_time_series_dataset\n",
    "from tslearn.neighbors import KNeighborsTimeSeriesClassifier\n",
    "from sklearn.model_selection import train_test_split\n",
    "from joblib import dump\n",
    "\n",
    "print(\"Reading data...\")\n",
    "df = pd.read_excel(\"data.xlsx\")\n",
    "\n",
    "arrayTS = []\n",
    "arrayTSItem = []\n",
    "arrayLabels = []\n",
    "arrayOutdatedCriticalAlerts = []\n",
    "array_too_long = []\n",
    "array_labels_too_long = []\n",
    "\n",
    "print(\"Preparing data...\")\n",
    "for index, row in df.iterrows():\n",
    "    if (row[\"GRAVITE\"] == \"CRITIQUE\"):\n",
    "        if not arrayTSItem:\n",
    "            arrayOutdatedCriticalAlerts.append(int(row[\"ID_DYSFONCTIONNEMENT\"]))\n",
    "        else:\n",
    "            if len(arrayTSItem) > 300:\n",
    "                array_too_long.append(arrayTSItem)\n",
    "                array_labels_too_long.append(int(row[\"ID_DYSFONCTIONNEMENT\"]))\n",
    "                arrayTSItem = []\n",
    "            else:\n",
    "                arrayLabels.append(int(row[\"ID_DYSFONCTIONNEMENT\"]))\n",
    "                arrayTS.append(arrayTSItem)\n",
    "                arrayTSItem = []\n",
    "    else:\n",
    "        arrayTSItem.append(int(row[\"ID_DYSFONCTIONNEMENT\"]))\n",
    "\n",
    "X = to_time_series_dataset(arrayTS)\n",
    "y = arrayLabels\n",
    "\n",
    "with open(\"X.csv\", \"w\") as f:\n",
    "                writer = csv.writer(f, delimiter='\\n', dialect='excel')\n",
    "                writer.writerow(X)\n",
    "            \n",
    "with open(\"y.csv\", \"w\") as f:\n",
    "                writer = csv.writer(f, delimiter='\\n', dialect='excel')\n",
    "                writer.writerow(y)\n",
    "            \n",
    "print(\"done\")"
   ]
  },
  {
   "cell_type": "code",
   "execution_count": 15,
   "id": "bf1b9a71",
   "metadata": {},
   "outputs": [
    {
     "name": "stdout",
     "output_type": "stream",
     "text": [
      "869\n"
     ]
    }
   ],
   "source": [
    "test = pd.read_csv(\"X.csv\")\n",
    "print(len(test))"
   ]
  }
 ],
 "metadata": {
  "kernelspec": {
   "display_name": "Python 3 (ipykernel)",
   "language": "python",
   "name": "python3"
  },
  "language_info": {
   "codemirror_mode": {
    "name": "ipython",
    "version": 3
   },
   "file_extension": ".py",
   "mimetype": "text/x-python",
   "name": "python",
   "nbconvert_exporter": "python",
   "pygments_lexer": "ipython3",
   "version": "3.9.16"
  }
 },
 "nbformat": 4,
 "nbformat_minor": 5
}
