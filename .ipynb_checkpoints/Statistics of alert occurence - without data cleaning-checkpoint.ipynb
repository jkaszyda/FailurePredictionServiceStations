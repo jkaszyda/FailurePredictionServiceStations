{
 "cells": [
  {
   "cell_type": "code",
   "execution_count": 5,
   "id": "97048276",
   "metadata": {},
   "outputs": [
    {
     "name": "stdout",
     "output_type": "stream",
     "text": [
      "Check alerts...\n",
      "Occuring alerts are:\n",
      " ['10', '1', '2', '29', '3', '38', '57', '30', '59', '47', '4', '26', '23', '20', '48', '49', '24', '25', '32', '17', '27', '31', '36', '22', '14', '53', '52', '9', '5', '40', '58', '88', '89', '90', '86', '93', '85', '101', '100', '19', '103', '99', '13', '67', '65', '92', '66', '60', '42', '44', '84', '28', '43', '45', '87', '70', '94', '37', '63', '64', '96', '79', '69', '83', '102', '81', '98', '91', '71']\n",
      "Length:  69\n",
      "Check critical alerts...\n",
      "Occuring critical alerts are:\n",
      " [['7'], ['1000'], ['33'], ['6'], ['18'], ['15'], ['16'], ['56'], ['55'], ['76'], ['54'], ['72'], ['74'], ['39'], ['21'], ['1001'], ['8'], ['61'], ['77'], ['68'], ['80'], ['34'], ['73'], ['78'], ['51'], ['82'], ['95'], []]\n",
      "Length:  28\n",
      "Check outdated alerts...\n",
      "Outdated alerts are:\n",
      " [['33'], ['7'], ['18'], ['1000'], ['6'], ['76'], ['77'], ['8'], ['56'], ['21'], ['39'], ['75'], ['1001'], ['61'], ['15'], ['55'], ['68'], ['73'], ['34'], ['54'], ['78'], ['95'], []]\n",
      "Length:  23\n",
      "Standalone outdated alerts are:\n",
      " [['75']]\n"
     ]
    }
   ],
   "source": [
    "import csv\n",
    "\n",
    "with open('ts_complete.csv', newline='') as f:\n",
    "    reader = csv.reader(f)\n",
    "    X = list(reader)\n",
    "    \n",
    "with open('labels_complete.csv', newline='') as f:\n",
    "    reader = csv.reader(f)\n",
    "    Y = list(reader)\n",
    "\n",
    "with open('outdated.csv', newline='') as f:\n",
    "    reader = csv.reader(f)\n",
    "    Z = list(reader)\n",
    "\n",
    "alerts = []\n",
    "critical_alerts = []\n",
    "outdated_alerts = []\n",
    "outdated_alerts_alone = []\n",
    "\n",
    "print(\"Check alerts...\")\n",
    "for i in X:\n",
    "    for j in i:\n",
    "        if j not in alerts:\n",
    "            alerts.append(j)\n",
    "print(\"Occuring alerts are:\\n\", alerts)\n",
    "print(\"Length: \", len(alerts))\n",
    "            \n",
    "print(\"Check critical alerts...\")\n",
    "for i in Y:\n",
    "    if i not in critical_alerts:\n",
    "        critical_alerts.append(i)\n",
    "                \n",
    "print(\"Occuring critical alerts are:\\n\", critical_alerts)\n",
    "print(\"Length: \", len(critical_alerts))\n",
    "\n",
    "print(\"Check outdated alerts...\")\n",
    "for i in Z:\n",
    "    if i not in outdated_alerts:\n",
    "        outdated_alerts.append(i)\n",
    "print(\"Outdated alerts are:\\n\", outdated_alerts)\n",
    "print(\"Length: \", len(outdated_alerts))\n",
    "\n",
    "for i in outdated_alerts:\n",
    "    if i not in critical_alerts:\n",
    "        outdated_alerts_alone.append(i)\n",
    "\n",
    "print(\"Standalone outdated alerts are:\\n\", outdated_alerts_alone)"
   ]
  },
  {
   "cell_type": "code",
   "execution_count": 6,
   "id": "f5f868d8",
   "metadata": {},
   "outputs": [
    {
     "name": "stdout",
     "output_type": "stream",
     "text": [
      "[7, 18, 56, 55, 76, 77, 1000, 54, 72, 74, 33, 15, 8]\n"
     ]
    }
   ],
   "source": [
    "import pandas as pd\n",
    "\n",
    "df = pd.read_excel(\"RochSYon.xlsx\")\n",
    "df.head()\n",
    "\n",
    "critical_alerts = []\n",
    "\n",
    "for index, row in df.iterrows():\n",
    "    if (row[\"GRAVITE\"] == \"CRITIQUE\"):\n",
    "        alert = int(row[\"ID_DYSFONCTIONNEMENT\"])\n",
    "        if alert not in critical_alerts:\n",
    "            critical_alerts.append(alert)\n",
    "\n",
    "print(critical_alerts)"
   ]
  }
 ],
 "metadata": {
  "kernelspec": {
   "display_name": "Python 3 (ipykernel)",
   "language": "python",
   "name": "python3"
  },
  "language_info": {
   "codemirror_mode": {
    "name": "ipython",
    "version": 3
   },
   "file_extension": ".py",
   "mimetype": "text/x-python",
   "name": "python",
   "nbconvert_exporter": "python",
   "pygments_lexer": "ipython3",
   "version": "3.9.12"
  }
 },
 "nbformat": 4,
 "nbformat_minor": 5
}
