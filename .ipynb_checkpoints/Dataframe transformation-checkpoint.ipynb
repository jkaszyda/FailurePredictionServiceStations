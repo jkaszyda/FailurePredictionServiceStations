{
 "cells": [
  {
   "cell_type": "code",
   "execution_count": 12,
   "id": "3f1e4e4b",
   "metadata": {},
   "outputs": [
    {
     "name": "stdout",
     "output_type": "stream",
     "text": [
      "reading data...\n",
      "transforming data...\n",
      "Transformed data is: \n",
      "{1: 0, 2: 0, 3: 0, 4: 0, 5: 0, 9: 0, 10: 0, 11: 0, 13: 0, 14: 0, 17: 0, 19: 0, 20: 0, 22: 0, 23: 0, 24: 0, 25: 0, 26: 0, 27: 0, 28: 0, 29: 0, 30: 0, 31: 0, 32: 0, 35: 0, 36: 0, 37: 0, 38: 0, 40: 0, 41: 0, 42: 0, 43: 0, 44: 0, 45: 0, 46: 0, 47: 0, 48: 4, 49: 0, 50: 0, 52: 0, 53: 0, 57: 0, 58: 0, 59: 0, 60: 0, 62: 0, 63: 0, 64: 0, 65: 1, 66: 0, 67: 0, 69: 0, 70: 3, 71: 0, 79: 0, 81: 0, 83: 0, 84: 0, 85: 0, 86: 0, 87: 0, 88: 0, 89: 0, 90: 0, 91: 0, 92: 0, 93: 0, 94: 0, 96: 0, 98: 0, 99: 0, 100: 0, 101: 0, 102: 0, 103: 0, 104: 0, 107: 0}\n",
      "68\n"
     ]
    }
   ],
   "source": [
    "import pandas as pd\n",
    "\n",
    "dictionary_frame = {1:0,2:0,3:0,4:0,5:0,9:0,10:0,11:0,13:0,14:0,17:0,19:0,20:0,22:0,23:0,24:0,\n",
    "                    25:0,26:0,27:0,28:0,29:0,30:0,31:0,32:0,35:0,36:0,37:0,38:0,40:0,41:0,42:0,43:0,44:0,45:0,\n",
    "                   46:0,47:0,48:0,49:0,50:0,52:0,53:0,57:0,58:0,59:0,60:0,62:0,63:0,64:0,65:0,66:0,\n",
    "                   67:0,69:0,70:0,71:0,79:0,81:0,83:0,84:0,85:0,86:0,87:0,88:0,89:0,90:0,91:0,92:0,93:0,94:0,96:0,\n",
    "                   98:0,99:0,100:0,101:0,102:0,103:0,104:0,107:0}\n",
    "dictionary_current = dictionary_frame\n",
    "list_data = []\n",
    "y = []\n",
    "\n",
    "print(\"reading data...\")\n",
    "df = pd.read_excel(\"data.xlsx\")\n",
    "\n",
    "print(\"transforming data...\")\n",
    "for index, row in df.iterrows():\n",
    "    if (row[\"GRAVITE\"] == \"CRITIQUE\"):\n",
    "        y.append(row[\"ID_DYSFONCTIONNEMENT\"])\n",
    "        list_data.append(dictionary_current)\n",
    "        dictionary_current = dict.fromkeys(dictionary_current, 0)\n",
    "    else:\n",
    "        dictionary_current[row[\"ID_DYSFONCTIONNEMENT\"]] += 1\n",
    "\n",
    "print(\"Transformed data is: \")\n",
    "print(list_data[0])\n",
    "print(y[0])"
   ]
  },
  {
   "cell_type": "code",
   "execution_count": 23,
   "id": "df0c5ccd",
   "metadata": {},
   "outputs": [
    {
     "name": "stdout",
     "output_type": "stream",
     "text": [
      "   1  2  3  4  5  9  10  11  13  14  ...  96  98  99  100  101  102  103  104  \\\n",
      "0  0  0  0  0  0  0   0   0   0   0  ...   0   0   0    0    0    0    0    0   \n",
      "1  0  0  0  0  0  2   0   0   0   0  ...   0   0   0    0    0    0    0    0   \n",
      "2  0  0  0  0  0  0   0   0   0   0  ...   0   0   0    0    0    0    0    0   \n",
      "3  0  0  0  0  0  1   0   0   0   0  ...   0   0   0    0    0    0    0    0   \n",
      "4  0  0  0  0  0  0   0   0   0   0  ...   0   0   0    0    0    0    0    0   \n",
      "\n",
      "   107   y  \n",
      "0    0  68  \n",
      "1    0  33  \n",
      "2    0  33  \n",
      "3    0  68  \n",
      "4    0  33  \n",
      "\n",
      "[5 rows x 78 columns]\n",
      "68\n",
      "[0 0 0 0 0 0 0 0 0 0 0 0 0 0 0 0 0 0 0 0 0 0 0 0 0 0 0 0 0 0 0 0 0 0 0 0 4\n",
      " 0 0 0 0 0 0 0 0 0 0 0 1 0 0 0 3 0 0 0 0 0 0 0 0 0 0 0 0 0 0 0 0 0 0 0 0 0\n",
      " 0 0 0]\n"
     ]
    }
   ],
   "source": [
    "df = pd.DataFrame(list_data)\n",
    "df['y'] = y\n",
    "df.to_csv('dataframe.csv')\n",
    "print(df.head())\n",
    "\n",
    "X = df.drop(\"y\", axis=1).values\n",
    "y = df[\"y\"].values\n",
    "\n",
    "print(y[0])\n",
    "print(X[0])"
   ]
  },
  {
   "cell_type": "code",
   "execution_count": 28,
   "id": "a841048f",
   "metadata": {},
   "outputs": [
    {
     "name": "stdout",
     "output_type": "stream",
     "text": [
      "fitting...\n",
      "fitting finished...\n",
      "0.69164265129683\n"
     ]
    }
   ],
   "source": [
    "from sklearn.model_selection import train_test_split\n",
    "from sklearn.neighbors import KNeighborsClassifier\n",
    "\n",
    "X_train, X_test, y_train, y_test = train_test_split(X, y, random_state = 0, test_size = 0.25)\n",
    "print(\"fitting...\")\n",
    "model = KNeighborsClassifier()\n",
    "model.fit(X_train, y_train)\n",
    "print(\"fitting finished...\")\n",
    "print(model.score(X_test, y_test))\n",
    "y_pred = model.predict(X_test)"
   ]
  },
  {
   "cell_type": "code",
   "execution_count": 31,
   "id": "51acc493",
   "metadata": {},
   "outputs": [
    {
     "name": "stdout",
     "output_type": "stream",
     "text": [
      "              precision    recall  f1-score   support\n",
      "\n",
      "          33       0.70      0.97      0.82       235\n",
      "          56       0.00      0.00      0.00         1\n",
      "          68       0.52      0.15      0.24        79\n",
      "        1001       0.00      0.00      0.00        32\n",
      "\n",
      "    accuracy                           0.69       347\n",
      "   macro avg       0.31      0.28      0.26       347\n",
      "weighted avg       0.60      0.69      0.61       347\n",
      "\n"
     ]
    },
    {
     "name": "stderr",
     "output_type": "stream",
     "text": [
      "C:\\Users\\jkaszyda\\.conda\\envs\\tslearn\\lib\\site-packages\\sklearn\\metrics\\_classification.py:1344: UndefinedMetricWarning: Precision and F-score are ill-defined and being set to 0.0 in labels with no predicted samples. Use `zero_division` parameter to control this behavior.\n",
      "  _warn_prf(average, modifier, msg_start, len(result))\n",
      "C:\\Users\\jkaszyda\\.conda\\envs\\tslearn\\lib\\site-packages\\sklearn\\metrics\\_classification.py:1344: UndefinedMetricWarning: Precision and F-score are ill-defined and being set to 0.0 in labels with no predicted samples. Use `zero_division` parameter to control this behavior.\n",
      "  _warn_prf(average, modifier, msg_start, len(result))\n",
      "C:\\Users\\jkaszyda\\.conda\\envs\\tslearn\\lib\\site-packages\\sklearn\\metrics\\_classification.py:1344: UndefinedMetricWarning: Precision and F-score are ill-defined and being set to 0.0 in labels with no predicted samples. Use `zero_division` parameter to control this behavior.\n",
      "  _warn_prf(average, modifier, msg_start, len(result))\n"
     ]
    }
   ],
   "source": [
    "from sklearn.metrics import classification_report\n",
    "\n",
    "print(classification_report(y_test, y_pred))"
   ]
  }
 ],
 "metadata": {
  "kernelspec": {
   "display_name": "Python 3 (ipykernel)",
   "language": "python",
   "name": "python3"
  },
  "language_info": {
   "codemirror_mode": {
    "name": "ipython",
    "version": 3
   },
   "file_extension": ".py",
   "mimetype": "text/x-python",
   "name": "python",
   "nbconvert_exporter": "python",
   "pygments_lexer": "ipython3",
   "version": "3.10.10"
  }
 },
 "nbformat": 4,
 "nbformat_minor": 5
}
