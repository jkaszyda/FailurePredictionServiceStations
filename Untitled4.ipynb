{
 "cells": [
  {
   "cell_type": "code",
   "execution_count": 2,
   "id": "87ee47a0",
   "metadata": {},
   "outputs": [
    {
     "ename": "NameError",
     "evalue": "name 'ImageObject' is not defined",
     "output_type": "error",
     "traceback": [
      "\u001b[1;31m---------------------------------------------------------------------------\u001b[0m",
      "\u001b[1;31mNameError\u001b[0m                                 Traceback (most recent call last)",
      "Cell \u001b[1;32mIn[2], line 19\u001b[0m\n\u001b[0;32m      1\u001b[0m \u001b[38;5;66;03m# # Set the size of the canvas\u001b[39;00m\n\u001b[0;32m      2\u001b[0m \u001b[38;5;66;03m# newPage(1080, 1080)\u001b[39;00m\n\u001b[0;32m      3\u001b[0m \n\u001b[1;32m   (...)\u001b[0m\n\u001b[0;32m     16\u001b[0m \u001b[38;5;66;03m# Canvas Größe\u001b[39;00m\n\u001b[0;32m     17\u001b[0m \u001b[38;5;66;03m#newPage(1080, 1080)\u001b[39;00m\n\u001b[1;32m---> 19\u001b[0m im \u001b[38;5;241m=\u001b[39m \u001b[43mImageObject\u001b[49m()\n\u001b[0;32m     21\u001b[0m \u001b[38;5;66;03m# draw in the image\u001b[39;00m\n\u001b[0;32m     22\u001b[0m \u001b[38;5;66;03m# the 'with' statement will create a custom context\u001b[39;00m\n\u001b[0;32m     23\u001b[0m \u001b[38;5;66;03m# only drawing in the image object\u001b[39;00m\n\u001b[0;32m     24\u001b[0m \u001b[38;5;28;01mwith\u001b[39;00m im:\n\u001b[0;32m     25\u001b[0m     \u001b[38;5;66;03m# set a size for the image\u001b[39;00m\n",
      "\u001b[1;31mNameError\u001b[0m: name 'ImageObject' is not defined"
     ]
    }
   ],
   "source": [
    "# # Set the size of the canvas\n",
    "# newPage(1080, 1080)\n",
    "\n",
    "# # Set the number of lines\n",
    "# lineAmount = 70\n",
    "\n",
    "# # Calculate the distance between each line\n",
    "# distance = 1080 / lineAmount\n",
    "\n",
    "# # Draw the lines\n",
    "# for i in range(lineAmount):\n",
    "#     stroke(0.2)\n",
    "#     line((0.2, i * distance), (1080, i * distance))\n",
    "\n",
    "\n",
    "# Canvas Größe\n",
    "#newPage(1080, 1080)\n",
    "\n",
    "im = ImageObject()\n",
    "\n",
    "# draw in the image\n",
    "# the 'with' statement will create a custom context\n",
    "# only drawing in the image object\n",
    "with im:\n",
    "    # set a size for the image\n",
    "    size(1080, 1080)\n",
    "    # draw something\n",
    "    fill(1)\n",
    "    rect(0, 0, width(), height())\n",
    "    fill(0)\n",
    "    fontSize(900)\n",
    "    text(\"s\", (300, 330))\n",
    "\n",
    "# apply some filters\n",
    "im.gaussianBlur(9)\n",
    "\n",
    "# get the offset (with a blur this will be negative)\n",
    "x, y = im.offset()\n",
    "w, h = imageSize(im)\n",
    "\n",
    "s = 15\n",
    "# for x in range(0, int(w), int(s)):\n",
    "#     # loop of the height of the image\n",
    "#     for y in range(0, int(h), int(s)):\n",
    "#         # get the color\n",
    "#         color = imagePixelColor(im, (x, y))\n",
    "#         if color:\n",
    "#             r, g, b, a = color\n",
    "#             # set the color\n",
    "#             strokeWidth(r/100)\n",
    "#             # draw some text\n",
    "#             rect(x,y,50,50)\n",
    "# # draw in the image in the main context\n",
    "# image(im, (0+x, 0+y))\n",
    "\n",
    "# Set the number of lines and segments\n",
    "\n",
    "lineAmount = 90\n",
    "segmentAmount = 10\n",
    "\n",
    "# Distanz zu den Linien\n",
    "lineDistance = 1080 / lineAmount\n",
    "segmentDistance = 1080 / segmentAmount\n",
    "\n",
    "# Linien werden gezeichnet\n",
    "for i in range(lineAmount):\n",
    "    stroke(0.2)\n",
    "    \n",
    "    for j in range(segmentAmount):\n",
    "        color = imagePixelColor(im, (x, y))\n",
    "        r, g, b, a = color\n",
    "        strokeWidth(r)\n",
    "        line((j * segmentDistance, i * lineDistance), ((j + 1) * segmentDistance, i * lineDistance))"
   ]
  }
 ],
 "metadata": {
  "kernelspec": {
   "display_name": "Python 3 (ipykernel)",
   "language": "python",
   "name": "python3"
  },
  "language_info": {
   "codemirror_mode": {
    "name": "ipython",
    "version": 3
   },
   "file_extension": ".py",
   "mimetype": "text/x-python",
   "name": "python",
   "nbconvert_exporter": "python",
   "pygments_lexer": "ipython3",
   "version": "3.9.16"
  }
 },
 "nbformat": 4,
 "nbformat_minor": 5
}
